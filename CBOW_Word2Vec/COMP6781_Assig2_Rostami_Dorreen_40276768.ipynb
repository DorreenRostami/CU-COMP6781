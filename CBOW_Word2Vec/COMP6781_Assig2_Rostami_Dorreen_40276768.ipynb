{
  "cells": [
    {
      "cell_type": "markdown",
      "metadata": {
        "id": "B7rqxJ_b9-uD"
      },
      "source": [
        "## Assigment 2: Word2vec and CBOW ⚡\n"
      ]
    },
    {
      "cell_type": "markdown",
      "metadata": {
        "id": "tWpKZPpdZcV8"
      },
      "source": [
        "In this assignment, we will guide you through the process of implementing Continous Bag Of Words (CBOW) using PyTorch, providing step-by-step instructions, code snippets, and explanations to aid your understanding. By the end of this assignment, you will have a solid grasp of Word2Vec's mechanics and be equipped to apply this knowledge to a wide range of NLP tasks.\n",
        "\n",
        "Let's embark on this journey to unlock the power of word embeddings with Word2Vec and PyTorch!\n",
        "\n",
        "This [guide](https://pytorch.org/tutorials/beginner/basics/intro.html) might come in handy to understand how Pytorch works."
      ]
    },
    {
      "cell_type": "markdown",
      "metadata": {
        "id": "v-kso1_rb2SM"
      },
      "source": [
        "Let's start by installing the needed libraries"
      ]
    },
    {
      "cell_type": "code",
      "execution_count": null,
      "metadata": {
        "colab": {
          "base_uri": "https://localhost:8080/"
        },
        "collapsed": true,
        "id": "aCFYPXdv_qZr",
        "outputId": "303ea236-81ba-462a-f4c7-f41e42fa18d2"
      },
      "outputs": [
        {
          "output_type": "stream",
          "name": "stdout",
          "text": [
            "Requirement already satisfied: datasets in /usr/local/lib/python3.10/dist-packages (3.0.2)\n",
            "Requirement already satisfied: filelock in /usr/local/lib/python3.10/dist-packages (from datasets) (3.16.1)\n",
            "Requirement already satisfied: numpy>=1.17 in /usr/local/lib/python3.10/dist-packages (from datasets) (1.26.4)\n",
            "Requirement already satisfied: pyarrow>=15.0.0 in /usr/local/lib/python3.10/dist-packages (from datasets) (16.1.0)\n",
            "Requirement already satisfied: dill<0.3.9,>=0.3.0 in /usr/local/lib/python3.10/dist-packages (from datasets) (0.3.8)\n",
            "Requirement already satisfied: pandas in /usr/local/lib/python3.10/dist-packages (from datasets) (2.2.2)\n",
            "Requirement already satisfied: requests>=2.32.2 in /usr/local/lib/python3.10/dist-packages (from datasets) (2.32.3)\n",
            "Requirement already satisfied: tqdm>=4.66.3 in /usr/local/lib/python3.10/dist-packages (from datasets) (4.66.5)\n",
            "Requirement already satisfied: xxhash in /usr/local/lib/python3.10/dist-packages (from datasets) (3.5.0)\n",
            "Requirement already satisfied: multiprocess<0.70.17 in /usr/local/lib/python3.10/dist-packages (from datasets) (0.70.16)\n",
            "Requirement already satisfied: fsspec<=2024.9.0,>=2023.1.0 in /usr/local/lib/python3.10/dist-packages (from fsspec[http]<=2024.9.0,>=2023.1.0->datasets) (2024.6.1)\n",
            "Requirement already satisfied: aiohttp in /usr/local/lib/python3.10/dist-packages (from datasets) (3.10.10)\n",
            "Requirement already satisfied: huggingface-hub>=0.23.0 in /usr/local/lib/python3.10/dist-packages (from datasets) (0.24.7)\n",
            "Requirement already satisfied: packaging in /usr/local/lib/python3.10/dist-packages (from datasets) (24.1)\n",
            "Requirement already satisfied: pyyaml>=5.1 in /usr/local/lib/python3.10/dist-packages (from datasets) (6.0.2)\n",
            "Requirement already satisfied: aiohappyeyeballs>=2.3.0 in /usr/local/lib/python3.10/dist-packages (from aiohttp->datasets) (2.4.3)\n",
            "Requirement already satisfied: aiosignal>=1.1.2 in /usr/local/lib/python3.10/dist-packages (from aiohttp->datasets) (1.3.1)\n",
            "Requirement already satisfied: attrs>=17.3.0 in /usr/local/lib/python3.10/dist-packages (from aiohttp->datasets) (24.2.0)\n",
            "Requirement already satisfied: frozenlist>=1.1.1 in /usr/local/lib/python3.10/dist-packages (from aiohttp->datasets) (1.4.1)\n",
            "Requirement already satisfied: multidict<7.0,>=4.5 in /usr/local/lib/python3.10/dist-packages (from aiohttp->datasets) (6.1.0)\n",
            "Requirement already satisfied: yarl<2.0,>=1.12.0 in /usr/local/lib/python3.10/dist-packages (from aiohttp->datasets) (1.16.0)\n",
            "Requirement already satisfied: async-timeout<5.0,>=4.0 in /usr/local/lib/python3.10/dist-packages (from aiohttp->datasets) (4.0.3)\n",
            "Requirement already satisfied: typing-extensions>=3.7.4.3 in /usr/local/lib/python3.10/dist-packages (from huggingface-hub>=0.23.0->datasets) (4.12.2)\n",
            "Requirement already satisfied: charset-normalizer<4,>=2 in /usr/local/lib/python3.10/dist-packages (from requests>=2.32.2->datasets) (3.4.0)\n",
            "Requirement already satisfied: idna<4,>=2.5 in /usr/local/lib/python3.10/dist-packages (from requests>=2.32.2->datasets) (3.10)\n",
            "Requirement already satisfied: urllib3<3,>=1.21.1 in /usr/local/lib/python3.10/dist-packages (from requests>=2.32.2->datasets) (2.2.3)\n",
            "Requirement already satisfied: certifi>=2017.4.17 in /usr/local/lib/python3.10/dist-packages (from requests>=2.32.2->datasets) (2024.8.30)\n",
            "Requirement already satisfied: python-dateutil>=2.8.2 in /usr/local/lib/python3.10/dist-packages (from pandas->datasets) (2.8.2)\n",
            "Requirement already satisfied: pytz>=2020.1 in /usr/local/lib/python3.10/dist-packages (from pandas->datasets) (2024.2)\n",
            "Requirement already satisfied: tzdata>=2022.7 in /usr/local/lib/python3.10/dist-packages (from pandas->datasets) (2024.2)\n",
            "Requirement already satisfied: six>=1.5 in /usr/local/lib/python3.10/dist-packages (from python-dateutil>=2.8.2->pandas->datasets) (1.16.0)\n",
            "Requirement already satisfied: propcache>=0.2.0 in /usr/local/lib/python3.10/dist-packages (from yarl<2.0,>=1.12.0->aiohttp->datasets) (0.2.0)\n",
            "Downloading...\n",
            "From: https://drive.google.com/uc?id=1-mB6idLW5Jg4aE68jOj5NDcDxRNlMXpu\n",
            "To: /content/TestSet_sample.csv\n",
            "100% 51.5k/51.5k [00:00<00:00, 55.6MB/s]\n"
          ]
        }
      ],
      "source": [
        "!pip install datasets\n",
        "!gdown https://drive.google.com/file/d/1-mB6idLW5Jg4aE68jOj5NDcDxRNlMXpu/view?usp=sharing --fuzzy"
      ]
    },
    {
      "cell_type": "markdown",
      "metadata": {
        "id": "AADnCtQddOYv"
      },
      "source": [
        "In this assigment we will use the data set wikitext. This dataset is composed of textual content extracted from Wikipedia articles which hopefully will lead to good embeddings when input in CBOW."
      ]
    },
    {
      "cell_type": "code",
      "execution_count": null,
      "metadata": {
        "collapsed": true,
        "id": "QZyk8pYS9xOJ",
        "colab": {
          "base_uri": "https://localhost:8080/"
        },
        "outputId": "3b8d6830-47e3-4205-d723-e521d4ecbc2e"
      },
      "outputs": [
        {
          "output_type": "stream",
          "name": "stderr",
          "text": [
            "/usr/local/lib/python3.10/dist-packages/huggingface_hub/utils/_token.py:89: UserWarning: \n",
            "The secret `HF_TOKEN` does not exist in your Colab secrets.\n",
            "To authenticate with the Hugging Face Hub, create a token in your settings tab (https://huggingface.co/settings/tokens), set it as secret in your Google Colab and restart your session.\n",
            "You will be able to reuse this secret in all of your notebooks.\n",
            "Please note that authentication is recommended but still optional to access public models or datasets.\n",
            "  warnings.warn(\n"
          ]
        }
      ],
      "source": [
        "from datasets import load_dataset\n",
        "from random import sample\n",
        "\n",
        "wikitext = load_dataset(\"wikipedia\", \"20220301.simple\")\n",
        "trim_dataset= wikitext['train']['text'][:5000]"
      ]
    },
    {
      "cell_type": "code",
      "source": [
        "import torch\n",
        "torch.manual_seed(0)"
      ],
      "metadata": {
        "colab": {
          "base_uri": "https://localhost:8080/"
        },
        "id": "efpWKtEU6M0J",
        "outputId": "5c62436b-b57c-4817-ccb0-fd6757ff23b5"
      },
      "execution_count": null,
      "outputs": [
        {
          "output_type": "execute_result",
          "data": {
            "text/plain": [
              "<torch._C.Generator at 0x795357bee090>"
            ]
          },
          "metadata": {},
          "execution_count": 3
        }
      ]
    },
    {
      "cell_type": "markdown",
      "metadata": {
        "id": "2eia3XW39jWP"
      },
      "source": [
        "Let's have a look at a datapoint."
      ]
    },
    {
      "cell_type": "code",
      "execution_count": null,
      "metadata": {
        "colab": {
          "base_uri": "https://localhost:8080/",
          "height": 140
        },
        "id": "_pkSsdyq9YHT",
        "outputId": "caca49a5-70d7-435d-d261-0a2eba99447a"
      },
      "outputs": [
        {
          "output_type": "execute_result",
          "data": {
            "text/plain": [
              "'April is the fourth month of the year in the Julian and Gregorian calendars, and comes between March and May. It is one of four months to have 30 days.\\n\\nApril always begins on the same day of week as July, and additionally, January in leap years. April always ends on the same day of the week as December.\\n\\nApril\\'s flowers are the Sweet Pea and Daisy. Its birthstone is the diamond. The meaning of the diamond is innocence.\\n\\nThe Month \\n\\nApril comes between March and May, making it the fourth month of the year. It also comes first in the year out of the four months that have 30 days, as June, September and November are later in the year.\\n\\nApril begins on the same day of the week as July every year and on the same day of the week as January in leap years. April ends on the same day of the week as December every year, as each other\\'s last days are exactly 35 weeks (245 days) apart.\\n\\nIn common years, April starts on the same day of the week as October of the previous year, and in leap years, May of the previous year. In common years, April finishes on the same day of the week as July of the previous year, and in leap years, February and October of the previous year. In common years immediately after other common years, April starts on the same day of the week as January of the previous year, and in leap years and years immediately after that, April finishes on the same day of the week as January of the previous year.\\n\\nIn years immediately before common years, April starts on the same day of the week as September and December of the following year, and in years immediately before leap years, June of the following year. In years immediately before common years, April finishes on the same day of the week as September of the following year, and in years immediately before leap years, March and June of the following year.\\n\\nApril is a spring month in the Northern Hemisphere and an autumn/fall month in the Southern Hemisphere. In each hemisphere, it is the seasonal equivalent of October in the other.\\n\\nIt is unclear as to where April got its name. A common theory is that it comes from the Latin word \"aperire\", meaning \"to open\", referring to flowers opening in spring. Another theory is that the name could come from Aphrodite, the Greek goddess of love. It was originally the second month in the old Roman Calendar, before the start of the new year was put to January 1.\\n\\nQuite a few festivals are held in this month. In many Southeast Asian cultures, new year is celebrated in this month (including Songkran). In Western Christianity, Easter can be celebrated on a Sunday between March 22 and April 25. In Orthodox Christianity, it can fall between April 4 and May 8. At the end of the month, Central and Northern European cultures celebrate Walpurgis Night on April 30, marking the transition from winter into summer.\\n\\nApril in poetry \\nPoets use April to mean the end of winter. For example: April showers bring May flowers.\\n\\nEvents in April\\n\\nFixed Events \\n\\n April 1 - April Fools\\' Day\\n April 1 - Islamic Republic Day (Iran)\\n April 2 - International Children\\'s Book Day\\n April 2 - Thai Heritage and Conservation Day\\n April 2 - World Autism Awareness Day\\n April 2 - Malvinas Day (Argentina)\\n April 4 - Independence Day (Senegal)\\n April 4 - International Day for Landmine Awareness and Assistance\\n April 4 - Peace Day (Angola)\\n April 5 - End of Tax Year (United Kingdom)\\n April 6 - Tartan Day (Canada and United States)\\n April 6 - Chakri Day (Thailand)\\n April 7 - Day of Maternity and Beauty (Armenia)\\n April 7 - Genocide Memorial Day (Rwanda)\\n April 7 - World Health Day\\n April 7 - Women\\'s Day (Mozambique)\\n April 8 - Buddha\\'s Birthday (Buddhism)\\n April 9 - Martyrs\\' Day (Tunisia)\\n April 9 - Day of National Unity (Georgia)\\n April 9 - Day of the Finnish language\\n April 12 - Cosmonauts\\' Day (Russia), marking the day of Yuri Gagarin\\'s space flight\\n April 13 - Songkan (Laos), local New Year celebration\\n April 13 - Cambodian New Year\\n April 13 - Thomas Jefferson\\'s Birthday (United States)\\n April 14 - Southeast Asian New Year festivals, including Songkran\\n April 14 - Georgian language Day\\n April 14 - Youth Day (Angola)\\n April 14 - Ambedkar Tayanti (India)\\n April 14 - Pan-American Day\\n April 15 - Tax Day (United States)\\n April 15 - Kim Il-Sung\\'s Birthday (North Korea)\\n April 15 - Father Damien Day (Hawaii)\\n April 15 - Jackie Robinson Day (Major League Baseball)\\n April 16 - Birthday of Queen Margrethe II of Denmark\\n April 16 - Emancipation Day (Washington, DC)\\n April 16 - World Voice Day\\n April 16 - Selena Day (Texas)\\n April 17 - National Day of Syria\\n April 17 - Flag Day (American Samoa)\\n April 17 - Women\\'s Day (Gabon)\\n April 17 - World Hemophilia Day\\n April 18 - Independence Day (Zimbabwe)\\n April 18 - Invention Day (Japan)\\n April 18 - International Day of Monuments and Sites\\n April 19 - Bicycle Day\\n April 19 - Dutch-American Friendship Day\\n April 19 - Birthday of King Mswati III of Swaziland\\n April 19 - Patriots\\' Day (Massachusetts, Maine, Wisconsin)\\n April 20 - 4/20 in Cannabis Culture\\n April 21 - John Muir Day (California)\\n April 21 - San Jacinto Day (Texas)\\n April 21 - Kartini Day (Indonesia)\\n April 21 - National Tree Planting Day (Kenya)\\n April 21 - First Day of Ridran (Baha\\'i faith)\\n April 21 - Grounation Day (Rastafari movement)\\n April 22 - Earth Day\\n April 22 - Discovery Day (Brazil)\\n April 23 - Saint George\\'s Day, celebrating the patron saint of several countries, regions and cities (including England and Catalonia)\\n April 23 - World Book Day\\n April 23 - National Sovereignty and Children\\'s Day (Turkey)\\n April 24 - Democracy Day (Nepal)\\n April 24 - Genocide Day (Armenia)\\n April 24 - Republic Day (the Gambia)\\n April 25 - Australia and New Zealand celebrate ANZAC Day. ANZAC  means Australian and New Zealand Army Corps, and began in 1915.\\n April 25 - World DNA Day\\n April 25 - World Malaria Day\\n April 25 - Flag Day (Swaziland, Faroe Islands)\\n April 25 - Freedom Day (Portugal)\\n April 25 - Liberation Day (Italy)\\n April 25 - Army Day (North Korea)\\n April 26 - Union Day (Tanzania)\\n April 26 - Confederate Memorial Day (Texas, Florida)\\n April 27 - Independence Day (Sierra Leone and Togo)\\n April 27 - Freedom Day (South Africa)\\n April 27 - World Tapir Day\\n April 27 - King\\'s Day (Netherlands) from 2014, birthday of Willem-Alexander of the Netherlands\\n April 28 - Workers Memorial Day\\n April 28 - National Day (Sardinia)\\n April 28 - National Heroes Day (Barbados)\\n April 29 - Showa Day (Japan), birthday of Emperor Hirohito, who died in 1989\\n April 29 - International Dance Day\\n April 30 - Former Queen\\'s Day Holiday in the Netherlands (changed to King\\'s Day, April 27 in 2014), was the birthday of former Queen Juliana of the Netherlands\\n April 30 - Flag Day in Sweden (birthday of King Carl XVI Gustaf of Sweden)\\n April 30 - International Jazz Day\\n April 30 - Walpurgis Night (Central and Northern Europe)\\n\\nMoveable Events \\n\\n Easter-related events in Western Christianity:\\n Palm Sunday (between March 15 and April 18)\\n Maundy Thursday (between March 19 and April 22)\\n Good Friday (between March 20 and April 23)\\n Easter Sunday (between March 22 and April 25)\\n Easter Monday (between March 23 and April 26)\\n Eastern Orthodox Easter falls between April 4 and May 8.\\n Ascension Day (Western Christianity), falls between April 30 and June 3.\\n Jewish Passover - falls in the same week as Western Christianity\\'s Holy Week, which is the week leading up to Easter.\\n Mother\\'s Day (UK) falls between March 1 and April 4.\\n World Snooker Championship (late April, early May)\\n Horse racing - Grand National (UK), Kentucky Derby (United States)\\n Start of Daylight Saving Time - Clocks going forward one hour:\\n Most of Mexico\\n Morocco (Ramadan does not include Daylight Saving Time)\\n End of Daylight Saving Time - Clocks going back one hour:\\n Southeast Australia, and New Zealand\\n Chile\\n Marathon Events in the following cities:\\n Belgrade, Serbia\\n Boston, Massachusetts, United States\\n Brighton, United Kingdom\\n Enschede, Netherlands\\n London, United Kingdom\\n Madrid, Spain\\n Paris, France\\n Rotterdam, Netherlands\\n Utrecht, Netherlands\\n Zurich, Switzerland\\n\\nSelection of Historical Events \\n\\n April 1, 1918 - The Royal Air Force is founded.\\n April 1, 1976 - Apple Inc. is founded.\\n April 1, 1979 - The Islamic Republic of Iran is founded.\\n April 1, 1999 - The territory of Nunavut is created in Northern Canada.\\n April 1, 2001 - The Netherlands introduces same-sex marriage, as the first country to do so.\\n April 2, 1519 - Florida is sighted by a European for the first time.\\n April 2, 1930 - Haile Selassie becomes Emperor of Ethiopia.\\n April 2, 1982 - Start of the Falklands War, as Argentine forces land on the Falkland Islands.\\n April 2, 2005 - Pope John Paul II dies aged 84, after 26-and-a-half years as Pope.\\n April 3, 1973 - The first-ever mobile phone call is placed by Martin Cooper in New York City.\\n April 4, 1721 - Robert Walpole becomes the first Prime Minister of Great Britain.\\n April 4, 1841 - William Henry Harrison dies. He was President of the United States for 31 days, the shortest-ever time in office for a US President.\\n April 4, 1960 - Senegal becomes independent.\\n April 4, 1968 - Assassination of Martin Luther King, Jr. in Memphis, Tennessee.\\n April 5, 1722 - Jacob Roggeveen becomes the first European to land on Easter Island, landing there on Easter Sunday.\\n April 6, 1320 - Scotland\\'s independence is confirmed with the Declaration of Arbroath.\\n April 6, 1830 - The Mormon Church is founded.\\n April 6, 1909 - Robert Peary claims to have been first at the North Pole on this date.\\n April 7, 1994 - The Rwandan Genocide begins.\\n April 9, 1865 - American Civil War: Confederate forces under Robert E. Lee surrender to Union forces.\\n April 9, 1940 - World War II: Denmark and Norway are invaded by Nazi Germany.\\n April 9, 1989 - April 9 tragedy: In Tbilisi, Georgia, a peaceful demonstration for independence is broken up by the Soviet Army, killing 20 people. The country gains independence on this date exactly two years later.\\n April 10, 1815 - Mount Tambora in Indonesia erupts in a huge eruption, affecting the world\\'s climate for at least a year.\\n April 10, 2010 - A plane crash near Smolensk, Russia, kills several people who were important in Poland, including President Lech Kaczynski.\\n April 11, 1814 - Napoleon Bonaparte is exiled to the island of Elba.\\n April 11, 1954 - Said to have been the most boring day of the 20th century.\\n April 12, 1861 - The American Civil War begins at Fort Sumter, Charleston, South Carolina.\\n April 12, 1945 - US President Franklin D. Roosevelt dies, and Harry S. Truman replaces him.\\n April 12, 1961 - Yuri Gagarin becomes the first human to fly into space.\\n April 14, 1865 - US President Abraham Lincoln is shot dead at Ford\\'s Theatre by John Wilkes Booth. Lincoln dies the next day.\\n April 14, 2010 - Qinghai Province, China, is hit by an earthquake, killing tens of thousands of people.\\n April 14, 2010 - The eruption of Eyjafjallajokull in Iceland shuts down air traffic around Europe for a week, due to its ash cloud.\\n April 15, 1912 - The ship RMS Titanic sinks near Newfoundland after hitting an iceberg, resulting in the deaths of many of the people on board.\\n April 16, 1943 - Albert Hofmann discovers LSD\\'s effects.\\n April 17, 1946 - Syria gains full independence from France.\\n April 18, 1906 - 1906 San Francisco earthquake: San Francisco, California, is hit by a big earthquake, resulting in fires that destroy large parts of the city.\\n April 18, 1980 - Zimbabwe gains full independence.\\n April 19, 1897 - The first Boston Marathon is held.\\n April 19, 1971 - Sierra Leone becomes a republic.\\n April 19, 1993 - The siege of the Branch Davidians at Waco, Texas, ends in a fire that kills 82 people.\\n April 19, 1995 - Timothy McVeigh carries out the Oklahoma City bombing, killing 169 people.\\n April 19, 2005 - Joseph Alois Ratzinger becomes Pope Benedict XVI.\\n April 20, 1902 - Marie Curie and Pierre Curie refine Radium.\\n April 20, 2010 - Deepwater Horizon oil spill: A massive fire on the Deepwater Horizon drilling rig in the Gulf of Mexico kills 11 workers and causes a massive oil spill, the worst spill in US history.\\n April 21, 753 BC - Legendary founding date of Rome\\n April 21, 1509 - Henry VIII of England becomes King.\\n April 21, 1908 - Frederick Cook claims to have reached the North Pole on this date.\\n April 22, 1502 - Pedro Alvares Cabral becomes the first European to reach present-day Brazil.\\n April 22, 1970 - Earth Day is observed for the first time.\\n April 23, 1533 - The Church of England declares that Henry VIII of England and Catherine of Aragon are not married.\\n April 24, 1916 - The Easter Rising occurs in Dublin, Ireland.\\n April 24, 1990 - The Hubble Space Telescope is launched on the Space Shuttle Discovery.\\n April 25, 1915 - World War I: In Turkey, the Battle of Gallipoli begins, Australian, French, British and New Zealand forces land at Anzac cove.\\n April 25, 1974 - Portugal\\'s dictatorship is overthrown in a coup, in what is known as the Carnation Revolution.\\n April 26, 1937 - Spanish Civil War: German planes bomb the town of Guernica, Basque Country, later depicted in a painting by Pablo Picasso.\\n April 26, 1964 - Tanganyika and Zanzibar merge to form Tanzania.\\n April 26, 1986 - A reactor explosion occurs at the Chernobyl nuclear plant in present-day Ukraine, with radiation spreading around Europe and the world.\\n April 26/27, 1994 - South Africa holds its first free elections.\\n April 27, 1960 - Togo becomes independent from France.\\n April 27, 1961 - Sierra Leone becomes independent from the United Kingdom.\\n April 28, 1789 - Mutiny on the ship Bounty in the Pacific Ocean, lead by Fletcher Christian.\\n April 28, 1945 - Benito Mussolini is executed by Italian partisans.\\n April 28, 1947 - In Peru, Thor Heyerdahl starts his Kon-Tiki expedition aimed at proving his theory that the Polynesian settlers on the Pacific Ocean\\'s islands came from South America.\\n April 29, 1991 - A cyclone in Bangladesh kills an estimated 138,000 people.\\n April 29, 2011 - The wedding of Prince William, Duke of Cambridge and Catherine, Duchess of Cambridge is broadcast worldwide.\\n April 30, 1789 - George Washington becomes the first President of the United States.\\n April 30, 1803 - The United States purchases (buys) the Louisiana territory from France.\\n April 30, 1945 - Adolf Hitler commits suicide on the same day that the Soviet Army raises the Red Flag on Berlin\\'s Reichstag.\\n April 30, 1952 - The Diary of Anne Frank is published in English.\\n April 30, 1975 - The Vietnam War ends, as North Vietnamese forces take Saigon.\\n April 30, 1980 - Queen Juliana of the Netherlands abdicates the throne, and her daughter becomes Queen Beatrix of the Netherlands. Beatrix later also abdicates, on this day in 2013, in favor of her son, King Willem-Alexander of the Netherlands.\\n\\nTrivia \\n\\n In Western Christianity, there is a bigger likelihood of Easter falling in April than in March.\\n The months around April (March and May) both start with an \\'M\\' in the English language, with an \\'A\\' as the second letter.\\n In the English language, April is the first of three months in-a-row, along with May and June, that is also a female given name.\\n The astrological signs for April are Aries (March 21 to April 20) and Taurus (April 21 to May 20).\\n The sweet pea and daisy are the traditional birth flowers for April.\\n Birthstone for April is the Diamond.\\nApril 1 is the only day in April to start within the first quarter of the calendar year.\\n If the months of the year were arranged in alphabetical order in the English language, April would come first.\\n Six current European monarchs were born in April. They are King Philippe of Belgium (April 15), Queen Margrethe II of Denmark (April 16), Henri, Grand Duke of Luxembourg (April 16), Elizabeth II of the United Kingdom and Commonwealth realms (April 21), King Willem-Alexander of the Netherlands (April 27), and King Carl XVI Gustaf of Sweden (April 30).\\n\\nReferences'"
            ],
            "application/vnd.google.colaboratory.intrinsic+json": {
              "type": "string"
            }
          },
          "metadata": {},
          "execution_count": 4
        }
      ],
      "source": [
        "trim_dataset[0]"
      ]
    },
    {
      "cell_type": "markdown",
      "metadata": {
        "id": "YyU3RJIz9qpS"
      },
      "source": [
        "As you can see there are a lot of numeric values, end-of-lines and the word \"References\" at the end. We saw in the previous assigment how preprocessing can significantly reduce the vocabulary; feel free to base the following code in your previous work."
      ]
    },
    {
      "cell_type": "code",
      "execution_count": null,
      "metadata": {
        "colab": {
          "base_uri": "https://localhost:8080/"
        },
        "collapsed": true,
        "id": "RO4OD95DQa8b",
        "outputId": "4abeadeb-c9d3-4f17-cd6e-7282e5784ff8"
      },
      "outputs": [
        {
          "output_type": "stream",
          "name": "stderr",
          "text": [
            "[nltk_data] Downloading package stopwords to /root/nltk_data...\n",
            "[nltk_data]   Package stopwords is already up-to-date!\n"
          ]
        },
        {
          "output_type": "execute_result",
          "data": {
            "text/plain": [
              "True"
            ]
          },
          "metadata": {},
          "execution_count": 5
        }
      ],
      "source": [
        "import nltk\n",
        "nltk.download('stopwords')"
      ]
    },
    {
      "cell_type": "code",
      "execution_count": null,
      "metadata": {
        "id": "lR8Novc5AKMi"
      },
      "outputs": [],
      "source": [
        "import string\n",
        "import re\n",
        "from nltk.corpus import stopwords\n",
        "def preprocess_data(data):\n",
        "  \"\"\" Method to clean text from noise and standarize text across the different classes.\n",
        "      The preprocessing includes converting to joining all datapoints, lowercase, removing punctuation, and removing stopwords.\n",
        "  Arguments\n",
        "  ---------\n",
        "  text : List of String\n",
        "     Text to clean\n",
        "  Returns\n",
        "  -------\n",
        "  text : String\n",
        "      Cleaned and joined text\n",
        "  \"\"\"\n",
        "\n",
        "  stop_words = set(stopwords.words('english'))\n",
        "\n",
        "  text = ' '.join(data) #join all text in one single string\n",
        "  text = text.lower() #make everything lower case\n",
        "  text = text.strip() #remove \\n characters\n",
        "  text = text.replace(\"references\", \"\") #remove word \"References\"\n",
        "  text = re.sub(r'[^\\w\\s]', ' ', text) #remove any punctuation or special characters\n",
        "  text = re.sub(r'\\d+', ' ', text) #remove all numbers\n",
        "  text = ' '.join([w for w in text.split() if w not in stop_words]) #remove all stopwords (see imports to help you with this)\n",
        "\n",
        "  return text\n",
        "\n",
        "text=preprocess_data(trim_dataset)"
      ]
    },
    {
      "cell_type": "markdown",
      "metadata": {
        "id": "KWZMCe_ZvVV1"
      },
      "source": [
        "Our `text` variable includes all the data in just one string. Let's create a dictionary of frequencies for more pre-processing (same as in the last assigment)."
      ]
    },
    {
      "cell_type": "code",
      "execution_count": null,
      "metadata": {
        "id": "_9oY3wz0AD9-"
      },
      "outputs": [],
      "source": [
        "def vocab_frequency(text):\n",
        "  \"\"\" Creates dictionary of frequencies based on a dataset.\n",
        "  Arguments\n",
        "  ---------\n",
        "  dataset : list of tuples\n",
        "      list of tuples of the form (label, text)\n",
        "  Returns\n",
        "  -------\n",
        "  vocab_dict : dictonary\n",
        "      Dictionary of words and their frequencies with the format {word: frequency}\n",
        "  \"\"\"\n",
        "  vocab = {} #create empty dictionary\n",
        "\n",
        "  #iterate through rows of df and count the frequency of words\n",
        "  for word in text.split():\n",
        "    if word not in vocab:\n",
        "      vocab[word] = 1\n",
        "    else:\n",
        "      vocab[word] += 1\n",
        "\n",
        "  return vocab\n",
        "\n",
        "vocabulary = vocab_frequency(text)"
      ]
    },
    {
      "cell_type": "code",
      "execution_count": null,
      "metadata": {
        "colab": {
          "base_uri": "https://localhost:8080/"
        },
        "collapsed": true,
        "id": "97_UojnMbzy7",
        "outputId": "8a4a2490-98d4-4364-efa3-b6737a955e00"
      },
      "outputs": [
        {
          "output_type": "execute_result",
          "data": {
            "text/plain": [
              "112417"
            ]
          },
          "metadata": {},
          "execution_count": 8
        }
      ],
      "source": [
        "len(vocabulary)"
      ]
    },
    {
      "cell_type": "markdown",
      "metadata": {
        "id": "E1Jg5xJbcdqA"
      },
      "source": [
        "Now our vocabulary is ready 😎"
      ]
    },
    {
      "cell_type": "markdown",
      "metadata": {
        "id": "oysoGd4Wxq8I"
      },
      "source": [
        "Since our neural networks can't understand strings we have to turn these strings into integers. In this case, we can use the vocabulary index to represent the words, so we will need the mapping: word -> index"
      ]
    },
    {
      "cell_type": "code",
      "execution_count": null,
      "metadata": {
        "id": "luyKBZe7g2W2"
      },
      "outputs": [],
      "source": [
        "import torch\n",
        "import torch.nn as nn"
      ]
    },
    {
      "cell_type": "code",
      "execution_count": null,
      "metadata": {
        "id": "20IvUrxpwDL-"
      },
      "outputs": [],
      "source": [
        "def word_to_indexer(vocabulary):\n",
        "  \"\"\" Method to create vocabulary to index mapping.\n",
        "  Arguments\n",
        "  ---------\n",
        "  vocabulary : Dictionary\n",
        "     Dictonary of format {word:frequency}\n",
        "  Returns\n",
        "  -------\n",
        "  word_to_index : Dictionary\n",
        "      Dictionary mapping words to index with format {word:index}\n",
        "  \"\"\"\n",
        "  word_to_index = {}\n",
        "  word_to_index['OOV!'] = 0  #Create key,value pair for out of vocabulary words\n",
        "\n",
        "  for index, (key, _) in enumerate(vocabulary.items()):\n",
        "    word_to_index[key] = index + 1\n",
        "\n",
        "  return word_to_index\n",
        "\n",
        "word_to_index = word_to_indexer(vocabulary)"
      ]
    },
    {
      "cell_type": "markdown",
      "metadata": {
        "id": "AUxUbk8nyTmu"
      },
      "source": [
        "Let's start to get more on topic. If you remember, Word2Vec has a specific way of generating each vector.\n",
        "![Captura de pantalla 2024-05-21 161613.jpg](data:image/jpeg;base64,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)\n",
        "\n",
        "The embedding is based on the surrounding words (before and after) taken as context. In the case of CBOW, we input the surrounding words to our neural network and expect that it predicts the middle word. Let's format our dataset to meet the needs of the neural network.\n"
      ]
    },
    {
      "cell_type": "code",
      "execution_count": null,
      "metadata": {
        "id": "1OkVuGeFQ9Bk"
      },
      "outputs": [],
      "source": [
        "def generate_dataset(data, window_size, word_to_index):\n",
        "  \"\"\" Method to generate training dataset for CBOW.\n",
        "  Arguments\n",
        "  ---------\n",
        "  data : String\n",
        "     Training dataset\n",
        "  window_size : int\n",
        "     Size of the context window\n",
        "  word_to_index : Dictionary\n",
        "     Dictionary mapping words to index with format {word:index}\n",
        "  Returns\n",
        "  -------\n",
        "  surroundings : N x W Tensor\n",
        "      Tensor with index of surrounding words, with N being the number of samples and W being the window size\n",
        "  targets : Tensor\n",
        "      Tensor with index of target word\n",
        "  \"\"\"\n",
        "  surroundings= []\n",
        "  targets = []\n",
        "  data = data.split(\" \")\n",
        "  #TODO complete function\n",
        "  for i in range(window_size,len(data)-window_size):\n",
        "    #get surrounding words based on window size\n",
        "    surrounding = [word_to_index[data[j]] for j in range(i - window_size, i)] + [word_to_index[data[j]] for j in range(i + 1, i + window_size + 1)]\n",
        "    target = word_to_index[data[i]] #get target word (middle word)\n",
        "    surroundings.append(surrounding) #append to surrounding\n",
        "    targets.append(target) #append to targets\n",
        "  surroundings = torch.tensor(surroundings)\n",
        "  targets = torch.tensor(targets)\n",
        "  return surroundings, targets\n",
        "\n",
        "t_surroundings, t_targets = generate_dataset(text,2,word_to_index)"
      ]
    },
    {
      "cell_type": "markdown",
      "metadata": {
        "id": "7OYFIK0g0YsI"
      },
      "source": [
        "With our dataset ready we can finally create our Neural Network. The idea is to replicate what Mikolov did in 2013 (see slides of Word2Vec)."
      ]
    },
    {
      "cell_type": "code",
      "execution_count": null,
      "metadata": {
        "id": "gKDcC75jzaXz"
      },
      "outputs": [],
      "source": [
        "class CBOW(nn.Module):\n",
        "  def __init__(self, vocab_size, embed_dim=300):\n",
        "    \"\"\" Class to define the CBOW model\n",
        "    Attributes\n",
        "    ---------\n",
        "    device : device\n",
        "      Device where the model will be trained (gpu preferably)\n",
        "    vocab_size : int\n",
        "      Size of the vocabulary\n",
        "    embed_dim : int\n",
        "      Size of the embedding layer\n",
        "    hidden_dim : int\n",
        "      Size of the hidden layer\n",
        "    \"\"\"\n",
        "    super().__init__()\n",
        "    self.embedding = self.embedding = nn.Embedding(vocab_size, embed_dim) #use this layer to get a vector from the the word index\n",
        "    self.linear = nn.Linear(embed_dim, vocab_size) #first fully connected layer (bottleneck)\n",
        "\n",
        "  def forward(self, x):\n",
        "    emb = self.embedding(x) #pass input through embedding layer\n",
        "    average = torch.mean(emb, dim=1) #average and resize (size must be batch_size x embed_dim)\n",
        "    out = self.linear(average) #pass through linear layer\n",
        "\n",
        "    return out"
      ]
    },
    {
      "cell_type": "code",
      "execution_count": null,
      "metadata": {
        "id": "7F9PVmiIgsXW"
      },
      "outputs": [],
      "source": [
        "from torch.utils.data import DataLoader\n",
        "#creation of dataloader for training\n",
        "train_dataloader=DataLoader(list(zip(t_surroundings,t_targets)),batch_size=64,shuffle=True) #Here please change batch size depending of your GPU capacities (if GPU runs out of memory lower batch_size)"
      ]
    },
    {
      "cell_type": "code",
      "source": [
        "device = torch.device(\"cuda\" if torch.cuda.is_available() else \"cpu\") #CAUTION: RUN THIS CODE WITH GPU, CPU WILL TAKE TOO LONG\n",
        "device"
      ],
      "metadata": {
        "colab": {
          "base_uri": "https://localhost:8080/"
        },
        "id": "Llt1DYcUhtPG",
        "outputId": "b6161c68-eb8e-457b-e479-5eb855ffb3f7"
      },
      "execution_count": null,
      "outputs": [
        {
          "output_type": "execute_result",
          "data": {
            "text/plain": [
              "device(type='cuda')"
            ]
          },
          "metadata": {},
          "execution_count": 14
        }
      ]
    },
    {
      "cell_type": "code",
      "execution_count": null,
      "metadata": {
        "colab": {
          "base_uri": "https://localhost:8080/"
        },
        "id": "kexSYJE3vp_d",
        "outputId": "8ac306d0-a294-4e5f-bded-c3cb6a1828e8"
      },
      "outputs": [
        {
          "output_type": "stream",
          "name": "stderr",
          "text": [
            "100%|██████████| 30952/30952 [13:44<00:00, 37.52it/s]\n"
          ]
        },
        {
          "output_type": "stream",
          "name": "stdout",
          "text": [
            "Epoch 1 loss: 8.115979579044085\n"
          ]
        },
        {
          "output_type": "stream",
          "name": "stderr",
          "text": [
            "100%|██████████| 30952/30952 [13:33<00:00, 38.04it/s]\n"
          ]
        },
        {
          "output_type": "stream",
          "name": "stdout",
          "text": [
            "Epoch 2 loss: 6.959446166121827\n"
          ]
        },
        {
          "output_type": "stream",
          "name": "stderr",
          "text": [
            "100%|██████████| 30952/30952 [13:34<00:00, 38.01it/s]\n"
          ]
        },
        {
          "output_type": "stream",
          "name": "stdout",
          "text": [
            "Epoch 3 loss: 6.351344857745221\n"
          ]
        },
        {
          "output_type": "stream",
          "name": "stderr",
          "text": [
            "100%|██████████| 30952/30952 [13:33<00:00, 38.04it/s]\n"
          ]
        },
        {
          "output_type": "stream",
          "name": "stdout",
          "text": [
            "Epoch 4 loss: 5.758582364121714\n"
          ]
        },
        {
          "output_type": "stream",
          "name": "stderr",
          "text": [
            "100%|██████████| 30952/30952 [13:33<00:00, 38.06it/s]\n"
          ]
        },
        {
          "output_type": "stream",
          "name": "stdout",
          "text": [
            "Epoch 5 loss: 5.296295723817428\n"
          ]
        },
        {
          "output_type": "stream",
          "name": "stderr",
          "text": [
            "100%|██████████| 30952/30952 [13:33<00:00, 38.05it/s]\n"
          ]
        },
        {
          "output_type": "stream",
          "name": "stdout",
          "text": [
            "Epoch 6 loss: 4.967061926849316\n"
          ]
        },
        {
          "output_type": "stream",
          "name": "stderr",
          "text": [
            "100%|██████████| 30952/30952 [13:33<00:00, 38.03it/s]\n"
          ]
        },
        {
          "output_type": "stream",
          "name": "stdout",
          "text": [
            "Epoch 7 loss: 4.716469698703761\n"
          ]
        },
        {
          "output_type": "stream",
          "name": "stderr",
          "text": [
            "100%|██████████| 30952/30952 [13:33<00:00, 38.03it/s]\n"
          ]
        },
        {
          "output_type": "stream",
          "name": "stdout",
          "text": [
            "Epoch 8 loss: 4.516851133086571\n"
          ]
        },
        {
          "output_type": "stream",
          "name": "stderr",
          "text": [
            "100%|██████████| 30952/30952 [13:35<00:00, 37.96it/s]\n"
          ]
        },
        {
          "output_type": "stream",
          "name": "stdout",
          "text": [
            "Epoch 9 loss: 4.3547625741961085\n"
          ]
        },
        {
          "output_type": "stream",
          "name": "stderr",
          "text": [
            "100%|██████████| 30952/30952 [13:34<00:00, 38.00it/s]"
          ]
        },
        {
          "output_type": "stream",
          "name": "stdout",
          "text": [
            "Epoch 10 loss: 4.2194733517010965\n"
          ]
        },
        {
          "output_type": "stream",
          "name": "stderr",
          "text": [
            "\n"
          ]
        }
      ],
      "source": [
        "from tqdm import tqdm\n",
        "model = CBOW(len(word_to_index)).to(device)\n",
        "loss_function = nn.CrossEntropyLoss()\n",
        "optimizer = torch.optim.Adam(model.parameters(), lr=0.001)\n",
        "epochs = 10\n",
        "\n",
        "#BE PATIENT: This code can take up to 2 hours and 10 min for a batch size of 64 and 10 epochs\n",
        "for epoch in range(epochs):\n",
        "    total_loss = 0\n",
        "    for surr, tar in tqdm(train_dataloader):\n",
        "        surr, tar = surr.to(device), tar.to(device)\n",
        "        optimizer.zero_grad()\n",
        "\n",
        "        log_probs = model(surr)\n",
        "\n",
        "        loss= loss_function(log_probs,tar)\n",
        "        total_loss += loss.item()\n",
        "\n",
        "        loss.backward()\n",
        "        optimizer.step()\n",
        "\n",
        "    print(f\"Epoch {epoch+1} loss: {total_loss/len(train_dataloader)}\")"
      ]
    },
    {
      "cell_type": "code",
      "source": [
        "torch.save(model.state_dict(), '/content/cbow_10_epoch.pt')"
      ],
      "metadata": {
        "id": "LME9aUstTDGu"
      },
      "execution_count": null,
      "outputs": []
    },
    {
      "cell_type": "markdown",
      "metadata": {
        "id": "tMjs6zu63bnh"
      },
      "source": [
        "## Let's test it! 🤓"
      ]
    },
    {
      "cell_type": "code",
      "source": [
        "model = CBOW(len(word_to_index))\n",
        "model.load_state_dict(torch.load('/content/cbow_10_epoch.pt', map_location=torch.device('cpu')))\n",
        "\n",
        "#Set the model to evaluation mode as it turns off dropout layers and similar training-only features\n",
        "model.eval()"
      ],
      "metadata": {
        "colab": {
          "base_uri": "https://localhost:8080/"
        },
        "id": "VzSwu3j2UAoh",
        "outputId": "757be758-df43-4502-866a-38d30114284d"
      },
      "execution_count": null,
      "outputs": [
        {
          "output_type": "stream",
          "name": "stderr",
          "text": [
            "<ipython-input-15-1457aeb68bf4>:2: FutureWarning: You are using `torch.load` with `weights_only=False` (the current default value), which uses the default pickle module implicitly. It is possible to construct malicious pickle data which will execute arbitrary code during unpickling (See https://github.com/pytorch/pytorch/blob/main/SECURITY.md#untrusted-models for more details). In a future release, the default value for `weights_only` will be flipped to `True`. This limits the functions that could be executed during unpickling. Arbitrary objects will no longer be allowed to be loaded via this mode unless they are explicitly allowlisted by the user via `torch.serialization.add_safe_globals`. We recommend you start setting `weights_only=True` for any use case where you don't have full control of the loaded file. Please open an issue on GitHub for any issues related to this experimental feature.\n",
            "  model.load_state_dict(torch.load('/content/cbow_10_epoch.pt', map_location=torch.device('cpu')))\n"
          ]
        },
        {
          "output_type": "execute_result",
          "data": {
            "text/plain": [
              "CBOW(\n",
              "  (embedding): Embedding(112418, 300)\n",
              "  (linear): Linear(in_features=300, out_features=112418, bias=True)\n",
              ")"
            ]
          },
          "metadata": {},
          "execution_count": 15
        }
      ]
    },
    {
      "cell_type": "markdown",
      "metadata": {
        "id": "7rarP3Yw3eCW"
      },
      "source": [
        "Now that we hopefully have good embeddings we can put them to the test. Let's start by creating some useful functions."
      ]
    },
    {
      "cell_type": "code",
      "execution_count": null,
      "metadata": {
        "collapsed": true,
        "id": "xJndx_85UJeY",
        "colab": {
          "base_uri": "https://localhost:8080/"
        },
        "outputId": "35c0f423-5e7a-4e35-cdc3-0816e33f218c"
      },
      "outputs": [
        {
          "output_type": "execute_result",
          "data": {
            "text/plain": [
              "tensor([ 2.0800e+00, -2.2618e+00,  1.1749e+00, -1.7613e-01, -2.2758e+00,\n",
              "        -1.7975e+00, -2.6215e-02,  1.8291e+00,  8.0596e-01,  5.3343e-01,\n",
              "         2.4038e+00, -7.2327e-01, -3.2483e-04, -8.7385e-01,  9.4126e-01,\n",
              "         2.5649e-01, -9.7278e-01,  1.7256e+00, -4.4044e-01,  4.3701e-01,\n",
              "        -1.0692e+00, -1.8083e+00, -5.2476e-01,  6.6208e-01, -1.3966e+00,\n",
              "         9.4949e-01,  9.1051e-01,  1.9177e+00, -1.9502e+00, -2.2690e-01,\n",
              "        -3.1233e-01, -6.5054e-01,  1.7499e+00,  3.2957e-01, -4.0753e-01,\n",
              "         9.1535e-01, -3.1297e-01, -1.1621e+00, -3.9000e-01, -1.2259e+00,\n",
              "         6.8921e-01, -1.6414e+00,  2.3301e+00,  1.6052e+00,  1.2355e-01,\n",
              "         1.6478e-01, -3.9853e-01, -6.2748e-01,  1.2102e-01,  2.1244e+00,\n",
              "        -5.3792e-01,  3.7340e-01,  3.4057e-01, -8.4233e-02,  3.1104e+00,\n",
              "         1.0932e+00,  3.4786e-01, -3.5915e-01, -1.5085e+00,  2.1425e-01,\n",
              "         3.2063e-01, -1.3257e+00, -1.3463e+00, -6.6639e-01,  1.1222e+00,\n",
              "        -4.9342e-01, -4.9517e+00, -8.9121e-01, -1.4320e+00, -1.9883e+00,\n",
              "         2.1115e-01, -1.5285e+00, -2.5600e+00, -1.3681e+00,  1.0094e+00,\n",
              "         3.5531e-02, -1.7739e+00, -1.8863e+00,  1.0712e+00,  5.9635e-01,\n",
              "        -5.6424e-01, -6.8237e-01, -3.8230e-01,  2.7800e-01,  3.1642e-01,\n",
              "        -1.1338e+00, -1.1296e+00, -2.5641e-01, -8.7096e-01, -8.0741e-02,\n",
              "         9.9129e-01,  1.1491e+00,  1.8082e+00, -7.4660e-01,  2.4311e+00,\n",
              "         6.4085e-01, -8.6286e-01, -1.8873e+00,  1.0364e+00,  6.4298e-01,\n",
              "        -4.0278e+00, -3.8695e-01, -5.1950e-01,  7.9154e-02,  6.5193e-02,\n",
              "        -1.5335e+00, -1.0351e+00,  1.2497e+00,  3.3286e-01,  1.7594e+00,\n",
              "        -8.7990e-01,  4.4932e-01, -5.5691e-01, -1.7509e+00,  8.5266e-01,\n",
              "        -1.5672e-01, -2.0147e+00, -2.4046e-01, -1.5932e+00,  6.5891e-01,\n",
              "         9.8653e-02,  1.8106e-01,  6.9273e-01,  7.5788e-01,  3.0531e+00,\n",
              "        -1.8429e+00,  9.0017e-01, -9.8280e-01, -1.4138e+00,  2.5079e-01,\n",
              "        -8.5641e-01,  1.7714e+00,  9.3084e-01,  1.3475e+00, -2.1063e+00,\n",
              "         2.2936e+00, -2.8093e+00, -3.6751e+00,  4.8289e-01, -8.5843e-01,\n",
              "         3.3934e+00,  3.8932e-01,  1.5849e+00,  9.8113e-01, -1.0593e-01,\n",
              "        -3.4033e-01, -1.6037e+00,  5.7336e-01,  1.9393e+00, -7.3384e-01,\n",
              "         9.6950e-01,  4.2201e+00,  1.5748e+00, -1.1211e+00,  1.0507e-01,\n",
              "         1.6097e+00, -1.4554e+00, -1.3569e+00, -3.1798e-01,  1.2524e-01,\n",
              "        -3.5361e-02, -6.7369e-01,  1.0634e+00, -5.6498e-01, -2.3096e+00,\n",
              "        -4.9523e-01, -1.1465e+00, -2.7488e-01, -1.8286e+00, -4.7256e-01,\n",
              "         2.5326e+00, -2.1884e-01,  6.5865e-01, -9.1894e-01,  3.8435e+00,\n",
              "        -2.5864e-02,  2.0070e+00,  3.3852e+00,  1.9216e+00,  2.6048e-01,\n",
              "        -9.4336e-02, -1.3976e+00,  6.5820e-01,  5.1872e-01,  2.3755e+00,\n",
              "         3.7512e-01, -2.6953e+00,  3.7611e-01, -1.5834e+00, -9.9731e-01,\n",
              "        -3.9620e-01,  6.1819e-01,  1.4739e+00,  2.6076e+00, -3.0113e-01,\n",
              "        -1.5375e+00,  1.7627e+00,  3.6406e-01, -7.7204e-01,  4.0086e-01,\n",
              "         1.0093e+00,  3.5782e-01,  8.3952e-01,  9.4578e-01, -4.2325e+00,\n",
              "         4.1750e+00, -1.4676e+00,  3.1505e+00, -5.2588e-01, -2.3108e-01,\n",
              "        -1.6712e+00,  1.4555e+00, -5.4286e-01,  9.5399e-01,  1.6644e-01,\n",
              "        -2.6051e+00, -1.3128e+00, -1.6485e+00,  3.9091e-01, -8.5770e-02,\n",
              "         6.4623e-01, -2.9895e+00,  3.4844e-02,  9.3644e-01,  1.1377e+00,\n",
              "         1.1287e+00,  7.8541e-01, -3.8475e-01,  1.5502e-02, -1.9814e+00,\n",
              "        -3.4303e+00,  1.4303e+00, -4.3425e-01,  7.4633e-01,  1.2741e+00,\n",
              "        -1.1004e+00,  1.1192e+00,  1.0486e-01, -1.0121e-01, -1.7058e+00,\n",
              "         2.9952e-01,  1.2437e-01, -2.0889e-01,  1.8127e-01, -2.4499e+00,\n",
              "         7.8421e-01, -1.6134e-02, -2.1323e+00,  1.3306e+00, -1.3155e+00,\n",
              "        -1.8256e-01,  2.1077e-01,  6.1953e-01, -2.5293e+00,  2.3712e-01,\n",
              "        -8.0989e-01,  3.3152e+00, -6.2409e-01,  3.3486e+00,  2.0458e+00,\n",
              "         3.6162e+00, -8.0136e-02, -1.1025e+00,  3.1539e-01,  1.0956e+00,\n",
              "        -1.0074e+00,  1.2443e+00,  8.1534e-02,  2.2449e+00, -2.1101e+00,\n",
              "         6.1135e-01,  4.8701e-01,  1.2454e+00,  7.4239e-01, -1.1902e+00,\n",
              "        -1.5816e+00, -3.6449e-01,  1.8035e+00,  3.6648e-01, -2.8598e-01,\n",
              "        -7.6963e-01,  1.0318e+00, -1.4540e+00,  9.3627e-02, -3.0843e-01,\n",
              "        -2.6590e+00,  1.9332e+00,  1.7824e+00,  3.0696e+00, -1.0059e+00,\n",
              "        -5.2363e-01, -3.8356e-02, -1.3629e+00,  3.5027e-01, -6.9205e-01,\n",
              "         1.7113e+00, -4.1132e-01, -2.5471e-01, -1.4503e+00, -1.7815e+00])"
            ]
          },
          "metadata": {},
          "execution_count": 16
        }
      ],
      "source": [
        "def get_embedding(word, model, word_to_index):\n",
        "  \"\"\" Method to get the embedding vector for a given word.\n",
        "  Arguments\n",
        "  ---------\n",
        "  word : String\n",
        "     Word given\n",
        "  model : NN.module\n",
        "     CBOW model\n",
        "  word_to_index : Dictionary\n",
        "     Dictionary mapping words to index with format {word:index}\n",
        "  Returns\n",
        "  -------\n",
        "  word_embedding : Tensor\n",
        "      Embedding vector for the given word\n",
        "    \"\"\"\n",
        "  index = word_to_index.get(word, 0) # get word index\n",
        "\n",
        "  with torch.no_grad():\n",
        "        embedding_weights = model.embedding.weight # Get the weights of the embedding layer\n",
        "        embedding_weights.requires_grad = False\n",
        "        word_embedding = embedding_weights[index] # Extract the embedding vector for the given word index\n",
        "\n",
        "  return word_embedding\n",
        "\n",
        "get_embedding(\"shot\",model,word_to_index) #test this code by getting embedding of the word \"shot\""
      ]
    },
    {
      "cell_type": "code",
      "execution_count": null,
      "metadata": {
        "id": "LzvJUi9a52d3"
      },
      "outputs": [],
      "source": [
        "def cosine_similarity(v1,v2):\n",
        "  \"\"\" Method to calculate cosine similarity between two vectors.\n",
        "  Arguments\n",
        "  ---------\n",
        "  v1 : Tensor\n",
        "     First vector\n",
        "  v2 : Tensor\n",
        "     Second vector\n",
        "  Returns\n",
        "  -------\n",
        "  cosine_similarity : float\n",
        "      Cosine similarity between v1 and v2\n",
        "  \"\"\"\n",
        "  return nn.functional.cosine_similarity(v1, v2, dim=0).item() #TODO create expression to calculate cosine similarity"
      ]
    },
    {
      "cell_type": "code",
      "source": [
        "rome = get_embedding(\"rome\",model,word_to_index)\n",
        "paris = get_embedding(\"paris\",model,word_to_index)\n",
        "cosine_similarity(rome,paris)"
      ],
      "metadata": {
        "colab": {
          "base_uri": "https://localhost:8080/"
        },
        "id": "BejqqnTzln9S",
        "outputId": "61fba601-a574-4710-f10a-b784359ed58b"
      },
      "execution_count": null,
      "outputs": [
        {
          "output_type": "execute_result",
          "data": {
            "text/plain": [
              "0.20068193972110748"
            ]
          },
          "metadata": {},
          "execution_count": 18
        }
      ]
    },
    {
      "cell_type": "code",
      "source": [
        "cosine_similarity(paris,paris)"
      ],
      "metadata": {
        "colab": {
          "base_uri": "https://localhost:8080/"
        },
        "id": "dXugfiSwmMDR",
        "outputId": "26979471-e912-4b7f-decb-acaa6b0d362c"
      },
      "execution_count": null,
      "outputs": [
        {
          "output_type": "execute_result",
          "data": {
            "text/plain": [
              "1.000000238418579"
            ]
          },
          "metadata": {},
          "execution_count": 19
        }
      ]
    },
    {
      "cell_type": "code",
      "source": [
        "shot = get_embedding(\"shot\",model,word_to_index)\n",
        "cosine_similarity(shot,paris)"
      ],
      "metadata": {
        "colab": {
          "base_uri": "https://localhost:8080/"
        },
        "id": "LSC-lrdxmC61",
        "outputId": "960383f4-c466-41c7-b1ec-0cfe0d8d6124"
      },
      "execution_count": null,
      "outputs": [
        {
          "output_type": "execute_result",
          "data": {
            "text/plain": [
              "0.08063098788261414"
            ]
          },
          "metadata": {},
          "execution_count": 26
        }
      ]
    },
    {
      "cell_type": "code",
      "execution_count": null,
      "metadata": {
        "id": "c8KBIdW3ODC8"
      },
      "outputs": [],
      "source": [
        "def get_k_nearest_words(k, word, vocabulary, model, word_to_index):\n",
        "  \"\"\" Method to find the k nearest words of a given vector\n",
        "  Arguments\n",
        "  ---------\n",
        "  k : int\n",
        "     Number of nearest words to return\n",
        "  word : torch.Tensor\n",
        "     Embedding vector for the given word\n",
        "  vocabulary : Dictionary\n",
        "     Dictionary mapping words to frequency with format {word:frequency}\n",
        "  model : NN.module\n",
        "     CBOW model\n",
        "  word_to_index : Dictionary\n",
        "     Dictionary mapping words to index with format {word:index}\n",
        "  Returns\n",
        "  -------\n",
        "  similar : List of Strings\n",
        "      List of k nearest words to the given word\n",
        "  \"\"\"\n",
        "  similarity_scores= torch.zeros(len(word_to_index))\n",
        "\n",
        "  #fill similarity scores matrix using the word and our cosine_similarity function\n",
        "  for v_word, v_index in word_to_index.items():\n",
        "    if v_index == 0:\n",
        "        continue\n",
        "    v_word_embedding = get_embedding(v_word, model, word_to_index)\n",
        "    similarity_scores[v_index] = cosine_similarity(word, v_word_embedding)\n",
        "\n",
        "  k_first= torch.topk(similarity_scores,k).indices\n",
        "  similar = [list(vocabulary.keys())[i-1] for i in k_first]\n",
        "\n",
        "  return similar"
      ]
    },
    {
      "cell_type": "markdown",
      "metadata": {
        "id": "ITgPYX7l39Vj"
      },
      "source": [
        "The Google analogy test set is a state of the art data set for word embeddings that tests their ability to solve analogy tasks. A well-known example for it is: \"king is to man as queen is to women.\" We will use a subset of this dataset to see how our CBOW model performs.\n"
      ]
    },
    {
      "cell_type": "code",
      "source": [
        "import pandas as pd\n",
        "\n",
        "def test_analogy(model, word_to_index, analogy_file, category = 'capital-common-countries'):\n",
        "  \"\"\" Method to test accuracy of CBOW embeddings on analogy tasks.\n",
        "  Arguments\n",
        "  ---------\n",
        "  mode : nn.Module\n",
        "     CBOW model\n",
        "  word_to_index : Dictionary\n",
        "     Dictionary mapping words to index with format {word:index}\n",
        "  analogy_file : String\n",
        "     File containing analogy tasks\n",
        "  Returns\n",
        "  -------\n",
        "  accuracy : float\n",
        "      accuracy of the model on the analogy tasks\n",
        "  \"\"\"\n",
        "  df = pd.read_csv(analogy_file)\n",
        "  df = df[df.category==category] #using capital cities subset of test set\n",
        "  correct = 0\n",
        "  total = 0\n",
        "  for index,row in df.iterrows():\n",
        "      word_one = row['word_one'].lower()\n",
        "      word_two = row['word_two'].lower()\n",
        "      word_three = row['word_three'].lower()\n",
        "      word_four = row['word_four'].lower()\n",
        "      #remember to standarize the words by using .lower\n",
        "\n",
        "      #create exception in case word is not in vocabulary\n",
        "      if (word_one not in word_to_index or word_two not in word_to_index or\n",
        "          word_three not in word_to_index or word_four not in word_to_index):\n",
        "        continue\n",
        "\n",
        "      #get embedding of all words\n",
        "      emb_one = get_embedding(word_one, model, word_to_index)\n",
        "      emb_two = get_embedding(word_two, model, word_to_index)\n",
        "      emb_three = get_embedding(word_three, model, word_to_index)\n",
        "\n",
        "      result = emb_two - emb_one + emb_three #calculate embedding_word_2-embedding_word_1+embedding_word_3\n",
        "      prediction = get_k_nearest_words(10, result, vocabulary, model, word_to_index) #call the k_nearest function you created before (set k to 10)\n",
        "\n",
        "      # if word_four is in prediction, add one to correct\n",
        "      if word_four in prediction:\n",
        "        print(f'found {word_four} = {word_two} - {word_one} + {word_three}')\n",
        "        correct += 1\n",
        "\n",
        "      total+=1\n",
        "  if total != 0:\n",
        "    accuracy=correct/total\n",
        "  else:\n",
        "    return 'No word was found in the embeddings '\n",
        "  return accuracy"
      ],
      "metadata": {
        "id": "aIElwNuKDoCZ"
      },
      "execution_count": null,
      "outputs": []
    },
    {
      "cell_type": "code",
      "execution_count": null,
      "metadata": {
        "id": "HGHmp7OVIPZI",
        "colab": {
          "base_uri": "https://localhost:8080/"
        },
        "outputId": "43fcbe02-736b-4a39-8490-b75b68317d8d"
      },
      "outputs": [
        {
          "output_type": "stream",
          "name": "stdout",
          "text": [
            "found canada = greece - athens + ottawa\n",
            "found canada = germany - berlin + ottawa\n",
            "found japan = germany - berlin + tokyo\n",
            "found germany = switzerland - bern + berlin\n",
            "found germany = vietnam - hanoi + berlin\n",
            "found afghanistan = finland - helsinki + kabul\n",
            "found greece = finland - helsinki + athens\n",
            "found iraq = afghanistan - kabul + baghdad\n",
            "found australia = afghanistan - kabul + canberra\n",
            "found japan = sweden - stockholm + tokyo\n",
            "found afghanistan = japan - tokyo + kabul\n"
          ]
        },
        {
          "output_type": "execute_result",
          "data": {
            "text/plain": [
              "0.021739130434782608"
            ]
          },
          "metadata": {},
          "execution_count": 27
        }
      ],
      "source": [
        "test_analogy(model,word_to_index,'TestSet_sample.csv')"
      ]
    },
    {
      "cell_type": "markdown",
      "metadata": {
        "id": "_rP0Vw7ZW_Ex"
      },
      "source": [
        "Our model can do much better! In the \"Let's experiment\" part we will try to improve this model. Also depending on your GPU accesibility you can train for more epochs and data (making trim_dataset bigger in cell #3)."
      ]
    },
    {
      "cell_type": "markdown",
      "metadata": {
        "id": "LpVIN3nvP7pE"
      },
      "source": [
        "TSNE can be a very helpful and cool visualization method of our vectors, this way we can clearly see the relationship between different words (maybe even find some clusters!). Let's implement this visualization."
      ]
    },
    {
      "cell_type": "code",
      "execution_count": null,
      "metadata": {
        "id": "GUew12KwEqOP",
        "colab": {
          "base_uri": "https://localhost:8080/",
          "height": 542
        },
        "outputId": "194fa84d-d3b8-49ff-b0bf-35930456371f"
      },
      "outputs": [
        {
          "output_type": "display_data",
          "data": {
            "text/html": [
              "<html>\n",
              "<head><meta charset=\"utf-8\" /></head>\n",
              "<body>\n",
              "    <div>            <script src=\"https://cdnjs.cloudflare.com/ajax/libs/mathjax/2.7.5/MathJax.js?config=TeX-AMS-MML_SVG\"></script><script type=\"text/javascript\">if (window.MathJax && window.MathJax.Hub && window.MathJax.Hub.Config) {window.MathJax.Hub.Config({SVG: {font: \"STIX-Web\"}});}</script>                <script type=\"text/javascript\">window.PlotlyConfig = {MathJaxConfig: 'local'};</script>\n",
              "        <script charset=\"utf-8\" src=\"https://cdn.plot.ly/plotly-2.35.2.min.js\"></script>                <div id=\"7745220e-cb89-450d-a0aa-7c32f93d4030\" class=\"plotly-graph-div\" style=\"height:525px; width:100%;\"></div>            <script type=\"text/javascript\">                                    window.PLOTLYENV=window.PLOTLYENV || {};                                    if (document.getElementById(\"7745220e-cb89-450d-a0aa-7c32f93d4030\")) {                    Plotly.newPlot(                        \"7745220e-cb89-450d-a0aa-7c32f93d4030\",                        [{\"hoverinfo\":\"text\",\"mode\":\"markers\",\"text\":[\"OOV!\",\"april\",\"fourth\",\"month\",\"year\",\"julian\",\"gregorian\",\"calendars\",\"comes\",\"march\",\"may\",\"one\",\"four\",\"months\",\"days\",\"always\",\"begins\",\"day\",\"week\",\"july\",\"additionally\",\"january\",\"leap\",\"years\",\"ends\",\"december\",\"flowers\",\"sweet\",\"pea\",\"daisy\",\"birthstone\",\"diamond\",\"meaning\",\"innocence\",\"making\",\"also\",\"first\",\"june\",\"september\",\"november\",\"later\",\"every\",\"last\",\"exactly\",\"weeks\",\"apart\",\"common\",\"starts\",\"october\",\"previous\",\"finishes\",\"february\",\"immediately\",\"following\",\"spring\",\"northern\",\"hemisphere\",\"autumn\",\"fall\",\"southern\",\"seasonal\",\"equivalent\",\"unclear\",\"got\",\"name\",\"theory\",\"latin\",\"word\",\"aperire\",\"open\",\"referring\",\"opening\",\"another\",\"could\",\"come\",\"aphrodite\",\"greek\",\"goddess\",\"love\",\"originally\",\"second\",\"old\",\"roman\",\"calendar\",\"start\",\"new\",\"put\",\"quite\",\"festivals\",\"held\",\"many\",\"southeast\",\"asian\",\"cultures\",\"celebrated\",\"including\",\"songkran\",\"western\",\"christianity\",\"easter\",\"sunday\",\"orthodox\",\"end\",\"central\",\"european\",\"celebrate\",\"walpurgis\",\"night\",\"marking\",\"transition\",\"winter\",\"summer\",\"poetry\",\"poets\",\"use\",\"mean\",\"example\",\"showers\",\"bring\",\"events\",\"fixed\",\"fools\",\"islamic\",\"republic\",\"iran\",\"international\",\"children\",\"book\",\"thai\",\"heritage\",\"conservation\",\"world\",\"autism\",\"awareness\",\"malvinas\",\"argentina\",\"independence\",\"senegal\",\"landmine\",\"assistance\",\"peace\",\"angola\",\"tax\",\"united\",\"kingdom\",\"tartan\",\"canada\",\"states\",\"chakri\",\"thailand\",\"maternity\",\"beauty\",\"armenia\",\"genocide\",\"memorial\",\"rwanda\",\"health\",\"women\",\"mozambique\",\"buddha\",\"birthday\",\"buddhism\",\"martyrs\",\"tunisia\",\"national\",\"unity\",\"georgia\",\"finnish\",\"language\",\"cosmonauts\",\"russia\",\"yuri\",\"gagarin\",\"space\",\"flight\",\"songkan\",\"laos\",\"local\",\"celebration\",\"cambodian\",\"thomas\",\"jefferson\",\"georgian\",\"youth\",\"ambedkar\",\"tayanti\",\"india\",\"pan\",\"american\",\"kim\",\"il\",\"sung\",\"north\",\"korea\",\"father\",\"damien\",\"hawaii\",\"jackie\",\"robinson\",\"major\",\"league\",\"baseball\",\"queen\",\"margrethe\",\"ii\",\"denmark\",\"emancipation\",\"washington\",\"dc\",\"voice\",\"selena\",\"texas\",\"syria\",\"flag\",\"samoa\",\"gabon\",\"hemophilia\",\"zimbabwe\",\"invention\",\"japan\",\"monuments\",\"sites\",\"bicycle\",\"dutch\",\"friendship\",\"king\",\"mswati\",\"iii\",\"swaziland\",\"patriots\",\"massachusetts\",\"maine\",\"wisconsin\",\"cannabis\",\"culture\",\"john\",\"muir\",\"california\",\"san\",\"jacinto\",\"kartini\",\"indonesia\",\"tree\",\"planting\",\"kenya\",\"ridran\",\"baha\",\"faith\",\"grounation\",\"rastafari\",\"movement\",\"earth\",\"discovery\",\"brazil\",\"saint\",\"george\",\"celebrating\",\"patron\",\"several\",\"countries\",\"regions\",\"cities\",\"england\",\"catalonia\",\"sovereignty\",\"turkey\",\"democracy\",\"nepal\",\"gambia\",\"australia\",\"zealand\",\"anzac\",\"means\",\"australian\",\"army\",\"corps\",\"began\",\"dna\",\"malaria\",\"faroe\",\"islands\",\"freedom\",\"portugal\",\"liberation\",\"italy\",\"union\",\"tanzania\",\"confederate\",\"florida\",\"sierra\",\"leone\",\"togo\",\"south\",\"africa\",\"tapir\",\"netherlands\",\"willem\",\"alexander\",\"workers\",\"sardinia\",\"heroes\",\"barbados\",\"showa\",\"emperor\",\"hirohito\",\"died\",\"dance\",\"former\",\"holiday\",\"changed\",\"juliana\",\"sweden\",\"carl\",\"xvi\",\"gustaf\",\"jazz\",\"europe\",\"moveable\",\"related\",\"palm\",\"maundy\",\"thursday\",\"good\",\"friday\",\"monday\",\"eastern\",\"falls\",\"ascension\",\"jewish\",\"passover\",\"holy\",\"leading\",\"mother\",\"uk\",\"snooker\",\"championship\",\"late\",\"early\",\"horse\",\"racing\",\"grand\",\"kentucky\",\"derby\",\"daylight\",\"saving\",\"time\",\"clocks\",\"going\",\"forward\",\"hour\",\"mexico\",\"morocco\",\"ramadan\",\"include\",\"back\",\"chile\",\"marathon\",\"belgrade\",\"serbia\",\"boston\",\"brighton\",\"enschede\",\"london\",\"madrid\",\"spain\",\"paris\",\"france\",\"rotterdam\",\"utrecht\",\"zurich\",\"switzerland\",\"selection\",\"historical\",\"royal\",\"air\",\"force\",\"founded\",\"apple\",\"inc\",\"territory\",\"nunavut\",\"created\",\"introduces\",\"sex\",\"marriage\",\"country\",\"sighted\",\"haile\",\"selassie\",\"becomes\",\"ethiopia\",\"falklands\",\"war\",\"argentine\",\"forces\",\"land\",\"falkland\",\"pope\",\"paul\",\"dies\",\"aged\",\"half\",\"ever\",\"mobile\",\"phone\",\"call\",\"placed\",\"martin\",\"cooper\",\"york\",\"city\",\"robert\",\"walpole\",\"prime\",\"minister\",\"great\",\"britain\",\"william\",\"henry\",\"harrison\",\"president\",\"shortest\",\"office\",\"us\",\"independent\",\"assassination\",\"luther\",\"jr\",\"memphis\",\"tennessee\",\"jacob\",\"roggeveen\",\"island\",\"landing\",\"scotland\",\"confirmed\",\"declaration\",\"arbroath\",\"mormon\",\"church\",\"peary\",\"claims\",\"pole\",\"date\",\"rwandan\",\"civil\",\"e\",\"lee\",\"surrender\",\"norway\",\"invaded\",\"nazi\",\"germany\",\"tragedy\",\"tbilisi\",\"peaceful\",\"demonstration\",\"broken\",\"soviet\",\"killing\",\"people\",\"gains\",\"two\",\"mount\",\"tambora\",\"erupts\",\"huge\",\"eruption\",\"affecting\",\"climate\",\"least\",\"plane\",\"crash\",\"near\",\"smolensk\",\"kills\",\"important\",\"poland\",\"lech\",\"kaczynski\",\"napoleon\",\"bonaparte\",\"exiled\",\"elba\",\"said\",\"boring\",\"th\",\"century\",\"fort\",\"sumter\",\"charleston\",\"carolina\",\"franklin\",\"roosevelt\",\"harry\",\"truman\",\"replaces\",\"human\",\"fly\",\"abraham\",\"lincoln\",\"shot\",\"dead\",\"ford\",\"theatre\",\"wilkes\",\"booth\",\"next\",\"qinghai\",\"province\",\"china\",\"hit\",\"earthquake\",\"tens\",\"thousands\",\"eyjafjallajokull\",\"iceland\",\"shuts\",\"traffic\",\"around\",\"due\",\"ash\",\"cloud\",\"ship\",\"rms\",\"titanic\",\"sinks\",\"newfoundland\",\"hitting\",\"iceberg\",\"resulting\",\"deaths\",\"board\",\"albert\",\"hofmann\",\"discovers\",\"lsd\",\"effects\",\"full\",\"francisco\",\"big\",\"fires\",\"destroy\",\"large\",\"parts\",\"siege\",\"branch\",\"davidians\",\"waco\",\"fire\",\"timothy\",\"mcveigh\",\"carries\",\"oklahoma\",\"bombing\",\"joseph\",\"alois\",\"ratzinger\",\"benedict\",\"marie\",\"curie\",\"pierre\",\"refine\",\"radium\",\"deepwater\",\"horizon\",\"oil\",\"spill\",\"massive\",\"drilling\",\"rig\",\"gulf\",\"causes\",\"worst\",\"history\",\"bc\",\"legendary\",\"founding\",\"rome\",\"viii\",\"frederick\",\"cook\",\"reached\",\"pedro\",\"alvares\",\"cabral\",\"reach\",\"present\",\"observed\",\"declares\",\"catherine\",\"aragon\",\"married\",\"rising\",\"occurs\",\"dublin\",\"ireland\",\"hubble\",\"telescope\",\"launched\",\"shuttle\",\"battle\",\"gallipoli\",\"french\",\"british\",\"cove\",\"dictatorship\",\"overthrown\",\"coup\",\"known\",\"carnation\",\"revolution\",\"spanish\",\"german\",\"planes\",\"bomb\",\"town\",\"guernica\",\"basque\",\"depicted\",\"painting\",\"pablo\",\"picasso\",\"tanganyika\",\"zanzibar\",\"merge\",\"form\",\"reactor\",\"explosion\",\"chernobyl\",\"nuclear\",\"plant\",\"ukraine\",\"radiation\",\"spreading\",\"holds\",\"free\",\"elections\",\"mutiny\",\"bounty\",\"pacific\",\"ocean\",\"lead\",\"fletcher\",\"christian\",\"benito\",\"mussolini\",\"executed\",\"italian\",\"partisans\",\"peru\",\"thor\",\"heyerdahl\",\"kon\",\"tiki\",\"expedition\",\"aimed\",\"proving\",\"polynesian\",\"settlers\",\"came\",\"america\",\"cyclone\",\"bangladesh\",\"estimated\",\"wedding\",\"prince\",\"duke\",\"cambridge\",\"duchess\",\"broadcast\",\"worldwide\",\"purchases\",\"buys\",\"louisiana\",\"adolf\",\"hitler\",\"commits\",\"suicide\",\"raises\",\"red\",\"berlin\",\"reichstag\",\"diary\",\"anne\",\"frank\",\"published\",\"english\",\"vietnam\",\"vietnamese\",\"take\",\"saigon\",\"abdicates\",\"throne\",\"daughter\",\"beatrix\",\"favor\",\"son\",\"trivia\",\"bigger\",\"likelihood\",\"falling\",\"letter\",\"three\",\"row\",\"along\",\"female\",\"given\",\"astrological\",\"signs\",\"aries\",\"taurus\",\"traditional\",\"birth\",\"within\",\"quarter\",\"arranged\",\"alphabetical\",\"order\",\"would\",\"six\",\"current\",\"monarchs\",\"born\",\"philippe\",\"belgium\",\"henri\",\"luxembourg\",\"elizabeth\",\"commonwealth\",\"realms\",\"august\",\"aug\",\"eighth\",\"coming\",\"named\",\"augustus\",\"caesar\",\"begin\",\"called\",\"sextilis\",\"sixth\",\"romulus\",\"added\",\"numa\",\"pompilius\",\"moved\",\"beginning\",\"decemvirs\",\"writers\",\"disagree\",\"determined\",\"became\",\"consul\",\"julius\",\"either\",\"observances\",\"benin\",\"bermuda\",\"guyana\",\"jamaica\",\"trinidad\",\"tobago\",\"lammas\",\"cross\",\"celtic\",\"statehood\",\"colorado\",\"macedonia\",\"bahamas\",\"niger\",\"burkina\",\"faso\",\"victory\",\"croatia\",\"bolivia\",\"ivory\",\"coast\",\"taiwan\",\"singapore\",\"indigenous\",\"suriname\",\"ecuador\",\"missouri\",\"chad\",\"perseid\",\"meteor\",\"shower\",\"sirikit\",\"african\",\"pakistan\",\"assumption\",\"mary\",\"congo\",\"bahrain\",\"liechtenstein\",\"humanitarian\",\"afghanistan\",\"feast\",\"stephen\",\"hungary\",\"regaining\",\"estonia\",\"admission\",\"ninoy\",\"aquino\",\"philippines\",\"helena\",\"uruguay\",\"namibia\",\"moldova\",\"uprising\",\"slovakia\",\"constitution\",\"kazakhstan\",\"tatarstan\",\"kyrgyzstan\",\"malaysia\",\"monthlong\",\"edinburgh\",\"festival\",\"military\",\"tattoo\",\"castle\",\"takes\",\"place\",\"bank\",\"holidays\",\"wales\",\"eisteddfod\",\"cultural\",\"commemorating\",\"jos\\u00e9\",\"de\",\"third\",\"olympics\",\"often\",\"makes\",\"entry\",\"dahomey\",\"iraq\",\"invades\",\"kuwait\",\"christopher\",\"columbus\",\"sets\",\"sail\",\"voyage\",\"family\",\"captured\",\"gestapo\",\"amsterdam\",\"upper\",\"volta\",\"film\",\"actress\",\"marilyn\",\"monroe\",\"found\",\"home\",\"bolivian\",\"atomic\",\"dropped\",\"hiroshima\",\"nagasaki\",\"richard\",\"nixon\",\"resigns\",\"watergate\",\"scandal\",\"gerald\",\"replacing\",\"storming\",\"tuileries\",\"palace\",\"ecuadorean\",\"building\",\"wall\",\"announces\",\"partitioned\",\"mainly\",\"state\",\"elvis\",\"presley\",\"outpouring\",\"grief\",\"peter\",\"fechter\",\"person\",\"mikhail\",\"gorbachev\",\"leon\",\"trotsky\",\"fatally\",\"wounded\",\"ice\",\"pick\",\"prague\",\"crushed\",\"regains\",\"vesuvius\",\"destroying\",\"pompeii\",\"neighbouring\",\"herculaneum\",\"krakatoa\",\"sunda\",\"strait\",\"sumatra\",\"java\",\"explodes\",\"violent\",\"jobs\",\"dream\",\"speech\",\"rights\",\"hurricane\",\"katrina\",\"wreaks\",\"devastation\",\"alabama\",\"mississippi\",\"orleans\",\"flooded\",\"federation\",\"malaya\",\"diana\",\"princess\",\"killed\",\"car\",\"really\",\"lived\",\"warren\",\"g\",\"harding\",\"flower\",\"gladiolus\",\"peridot\",\"leo\",\"virgo\",\"side\",\"solstice\",\"art\",\"creative\",\"activity\",\"expresses\",\"imaginative\",\"technical\",\"skill\",\"produces\",\"product\",\"object\",\"diverse\",\"range\",\"activities\",\"creating\",\"visual\",\"performing\",\"artifacts\",\"expressing\",\"author\",\"mind\",\"work\",\"others\",\"experience\",\"useful\",\"practical\",\"sense\",\"sculptured\",\"clay\",\"bowl\",\"used\",\"kind\",\"sometimes\",\"craft\",\"make\",\"artists\",\"hope\",\"affect\",\"emotions\",\"find\",\"relaxing\",\"exciting\",\"informative\",\"say\",\"driven\",\"inner\",\"creativity\",\"arts\",\"much\",\"broader\",\"term\",\"includes\",\"drawing\",\"sculpting\",\"photography\",\"performance\",\"music\",\"prose\",\"types\"],\"x\":[-0.49752676486968994,-0.5288131833076477,-1.7642368078231812,0.34463322162628174,-0.22542916238307953,0.9839380383491516,0.9643407464027405,1.5159680843353271,-1.1428662538528442,-0.612634003162384,-0.5407809615135193,-0.6057226657867432,-0.9574241638183594,0.12021269649267197,-0.02978111058473587,-0.7551339864730835,-2.075230598449707,0.19242024421691895,0.2235121876001358,-0.4772363007068634,0.4769095778465271,-0.6154688596725464,-1.9680601358413696,-0.16690193116664886,-1.9871093034744263,-0.4943627417087555,-2.5739731788635254,-1.0378692150115967,-0.30209416151046753,-1.2316697835922241,-1.369611382484436,-0.7011154294013977,-1.796580195426941,-0.3872740864753723,-1.1052422523498535,-0.5614290237426758,-0.5911104083061218,-0.6390279531478882,-0.45728975534439087,-0.4997318983078003,-0.4863327741622925,-0.7215485572814941,-0.8179664611816406,-1.366265058517456,0.3215542137622833,-0.7075846195220947,-1.373384952545166,-2.033970355987549,-0.5000260472297668,-1.5010935068130493,-2.360276222229004,-0.6172338128089905,-2.4467079639434814,-0.9892476797103882,0.24597224593162537,0.1244712769985199,1.738667368888855,0.652057945728302,-1.4893471002578735,0.16732315719127655,-1.4369312524795532,-2.0872912406921387,-0.7699335813522339,-0.5813359022140503,-1.1396663188934326,-1.273163914680481,-1.8896278142929077,-1.4381135702133179,-0.2924819588661194,-1.4373939037322998,-0.6519228219985962,-0.957741379737854,-0.5758965611457825,-0.48877590894699097,-0.6816267371177673,-0.3534480035305023,-1.5362343788146973,-1.6710045337677002,-0.9173368215560913,-1.0079649686813354,-1.3330875635147095,-1.0006580352783203,-2.7722203731536865,1.4003082513809204,-0.4530456066131592,-0.3839472830295563,-1.4131841659545898,-0.6660613417625427,1.237494707107544,-0.5390472412109375,-0.5647311806678772,0.5694998502731323,0.11317764967679977,0.13122567534446716,1.28512704372406,-0.7809866666793823,0.2014019936323166,0.28708672523498535,1.064835548400879,1.066447138786316,1.4481596946716309,0.9834223985671997,-0.3731466233730316,0.15246884524822235,0.20049750804901123,1.2497774362564087,0.7896407246589661,-0.5964781045913696,-0.0305082555860281,-1.2984662055969238,-0.7230854630470276,-0.7329725027084351,-0.7737143039703369,-1.267016887664795,-0.9396209120750427,-1.6670820713043213,-0.7867200374603271,-0.3074556589126587,-1.6391874551773071,-1.8916587829589844,-1.47365140914917,0.4617287516593933,1.1975957155227661,0.9730486869812012,0.7207241654396057,-0.08808822184801102,-0.22361278533935547,-1.1598588228225708,-1.7460134029388428,0.8792941570281982,-1.3510233163833618,-0.0917932465672493,-2.1664016246795654,-2.4948456287384033,0.47658079862594604,1.320435643196106,1.7431156635284424,1.3651727437973022,-0.06774916499853134,-0.576079249382019,0.4647373557090759,1.7797824144363403,0.5271839499473572,-0.15672308206558228,0.5320649743080139,-0.1758200228214264,0.36539340019226074,0.13823944330215454,0.5522732138633728,-0.4261288344860077,-0.15007928013801575,-0.9056220054626465,0.239547461271286,0.13437707722187042,0.6425005793571472,1.82846200466156,-0.8631651997566223,-0.07204404473304749,2.2131943702697754,-0.8724924325942993,0.7889584302902222,1.0714689493179321,0.8710978031158447,1.4882616996765137,-2.6417782306671143,0.6675906777381897,-0.4833490550518036,-1.9516465663909912,-0.15638431906700134,0.18468640744686127,0.8329516053199768,-0.39514482021331787,0.4001244306564331,-1.16795814037323,-2.1615536212921143,-0.13475346565246582,1.1871204376220703,-0.6170254945755005,0.9987899661064148,-1.5917446613311768,-1.0801416635513306,-0.2949148714542389,-2.4592690467834473,0.7153347134590149,-0.7322565317153931,-0.28649258613586426,0.7547173500061035,-1.589629054069519,-1.1018970012664795,-1.518429160118103,-0.2557043135166168,-0.5399855971336365,-0.14644630253314972,1.4862957000732422,-0.6095260381698608,0.35081639885902405,-0.8752820491790771,-1.0932626724243164,1.282932162284851,-0.7723633050918579,-0.41353753209114075,-0.7409064769744873,-1.7465293407440186,2.017742872238159,-3.494999647140503,2.3715872764587402,-1.9405871629714966,-0.1743485927581787,-0.7028135657310486,-0.9845799207687378,0.730638861656189,-0.4581811726093292,1.122897744178772,-0.23283633589744568,1.4468662738800049,-0.21153008937835693,0.5636606812477112,1.3344871997833252,-1.3659290075302124,0.6950945258140564,-0.4958592355251312,-0.13142506778240204,-0.5573939681053162,-0.9824997186660767,0.7272950410842896,-1.594651699066162,0.07174904644489288,-3.518681526184082,1.9118638038635254,0.6250205039978027,0.2994382381439209,0.16086889803409576,0.284622460603714,-0.08988664299249649,0.0407375693321228,-0.8723399043083191,-0.2788804769515991,-0.29411542415618896,-1.2795580625534058,1.2225161790847778,0.06671924144029617,1.5373910665512085,-2.381519079208374,0.5202355980873108,1.2887729406356812,-0.09040234982967377,-0.9578248262405396,1.27391517162323,0.41370096802711487,-1.3786966800689697,-0.753454864025116,-0.6979315280914307,-1.3377034664154053,1.1720050573349,0.30259019136428833,-1.6758713722229004,1.3026955127716064,0.15554137527942657,-0.689605176448822,0.3554677367210388,0.8190568089485168,-0.061823632568120956,-0.07190406322479248,0.22742892801761627,1.9981321096420288,0.9532377123832703,0.8506486415863037,0.7224191427230835,1.646551251411438,0.6291112899780273,-0.5045049786567688,-0.3793465495109558,-1.285261869430542,-0.9752079844474792,0.37062299251556396,0.14092467725276947,-0.517392098903656,-0.5873985886573792,-2.0847604274749756,0.5845600366592407,2.348276138305664,0.6580290198326111,1.123294711112976,1.7422163486480713,-0.3117150068283081,0.3094264268875122,1.3502719402313232,0.06314387917518616,0.17370504140853882,-0.31581270694732666,1.5956727266311646,1.9091852903366089,-0.25209155678749084,1.0469776391983032,-1.0020555257797241,0.7889066934585571,-1.1828193664550781,-0.7316962480545044,0.3595052659511566,1.6837785243988037,-0.15587922930717468,0.9812383055686951,-0.04078952968120575,-2.1430230140686035,1.6625244617462158,-1.122924566268921,-0.9175735116004944,-1.0477325916290283,1.1939183473587036,-0.9706335663795471,1.954828143119812,2.4792847633361816,-1.0957777500152588,-2.8939921855926514,-1.306989073753357,-0.7844678163528442,-0.006394233088940382,0.24171815812587738,-1.2317575216293335,-1.7918853759765625,0.572161078453064,1.449242115020752,-0.5408110022544861,1.432113766670227,1.3926010131835938,0.28699594736099243,-1.7694363594055176,0.7350564002990723,1.3990362882614136,0.5884904265403748,-0.7500118613243103,-0.2689583897590637,-0.2817783057689667,0.1571808159351349,-1.7469557523727417,-0.26536911725997925,-0.5604476928710938,-0.6286835670471191,-0.6150722503662109,-1.386328101158142,-2.384197950363159,-0.20883259177207947,0.14703340828418732,0.6829795837402344,-1.6382884979248047,-0.3195503354072571,-1.8767644166946411,-0.31159302592277527,-1.3705065250396729,-0.4292503297328949,0.6310234069824219,0.7622950673103333,0.395768404006958,-1.8872634172439575,-0.6593846678733826,0.8171423077583313,-0.11074578762054443,-0.8473681807518005,-0.0832025557756424,-0.7877511978149414,-0.4570101797580719,-0.09576550871133804,-0.13683165609836578,-0.03764482960104942,0.44191908836364746,-2.407677412033081,-0.09917242079973221,-0.36522576212882996,0.20285624265670776,-0.36201879382133484,0.40905627608299255,-0.584499180316925,-1.0530518293380737,0.0929909348487854,-0.5204886794090271,0.36369848251342773,-0.5494460463523865,0.05059380829334259,-0.948844313621521,0.7787734270095825,1.002593994140625,-0.8858810663223267,-0.8979641795158386,-0.7513964772224426,-0.4456459879875183,0.2804056704044342,-0.16483356058597565,-0.003925766795873642,-0.4762651324272156,-1.0039585828781128,1.429364562034607,0.571955680847168,-0.001702123787254095,-2.0222630500793457,0.3854600787162781,-0.06991270184516907,1.5595203638076782,-1.63495934009552,-0.7410122156143188,-1.1212737560272217,-0.5757423043251038,-0.8740814328193665,-0.39035508036613464,-1.7253814935684204,-1.9486292600631714,-1.5392144918441772,-1.9712870121002197,-2.505950927734375,-0.4206572473049164,0.4259032607078552,-0.19480262696743011,-1.3339972496032715,-0.3406217396259308,-1.7319304943084717,-0.47567805647850037,-0.7964305877685547,-0.2698788344860077,-0.8668700456619263,-0.8264244198799133,-0.044518932700157166,-0.41357535123825073,-2.0881669521331787,0.12503936886787415,-0.10252566635608673,1.7208852767944336,0.40669575333595276,1.729110836982727,-1.20192289352417,0.975074052810669,1.5991019010543823,-1.7026406526565552,0.5516983270645142,2.2699618339538574,-1.6855542659759521,0.3862984776496887,-0.10982091724872589,0.014280428178608418,-0.6634269952774048,1.454397201538086,-0.12270142883062363,0.8606845736503601,0.5715497732162476,1.7626965045928955,-0.10011591762304306,-1.617212176322937,-0.10030955821275711,-1.6879082918167114,-1.491788387298584,-0.12879742681980133,0.20486676692962646,-2.310699939727783,-0.02598690055310726,0.37131422758102417,-2.1609926223754883,0.72846919298172,0.6154614090919495,0.41209545731544495,-0.9518601298332214,0.8370770812034607,-2.976553201675415,-0.10216080397367477,1.0787290334701538,-0.754269003868103,-1.9717847108840942,0.41344812512397766,0.6115732192993164,-1.0654808282852173,-0.6726818680763245,-2.3413262367248535,-0.02329002320766449,-0.3848305344581604,-1.2804814577102661,-0.11582031100988388,-1.521532416343689,0.39950835704803467,-2.9905049800872803,-0.5727247595787048,0.9458146095275879,0.8742619156837463,-0.8026343584060669,-0.6007511019706726,-2.633524179458618,0.35888558626174927,0.22390834987163544,-0.5455942153930664,-1.1007272005081177,-0.9611225724220276,-0.31644901633262634,-0.4066523313522339,0.4502883851528168,0.46489623188972473,1.4711631536483765,0.23417413234710693,0.09207826107740402,-1.1969637870788574,0.2365543097257614,-1.2646249532699585,-0.7084545493125916,-0.27333128452301025,-2.291644334793091,-0.18898087739944458,-1.769295573234558,-2.8389201164245605,-0.30880558490753174,-0.35261887311935425,-0.010289529338479042,0.3014753460884094,-1.4771124124526978,0.7352849245071411,1.6185559034347534,0.6935359239578247,-0.5049187541007996,-0.39816513657569885,0.3995216488838196,-0.855903148651123,0.484139084815979,0.49157512187957764,-1.961402416229248,-0.5672472715377808,-0.3909204602241516,-2.383662462234497,-2.187653064727783,-2.0280582904815674,-0.942281186580658,-0.850993812084198,0.707369863986969,-1.3465025424957275,1.544376254081726,0.02650883048772812,-0.14471399784088135,-2.69443678855896,-1.2950365543365479,-0.5015541911125183,-1.366912841796875,0.5177292227745056,-1.2222894430160522,-1.8658002614974976,-0.45635145902633667,-0.9580546021461487,-0.2665068805217743,-0.9271009564399719,-2.3513355255126953,-1.5213841199874878,-0.8487515449523926,-0.35176584124565125,-2.143425464630127,-0.925910234451294,-0.8799423575401306,-0.5373481512069702,-2.2373223304748535,-0.4285869002342224,-2.6286659240722656,-0.8415805697441101,0.208640456199646,-2.8339250087738037,-1.0018744468688965,-0.143788680434227,-0.49364277720451355,-0.23204298317432404,-1.0221657752990723,0.07538280636072159,-1.6981831789016724,-1.656285047531128,0.16907936334609985,0.5082720518112183,0.15535776317119598,-0.703848659992218,-0.9261853694915771,-1.3341047763824463,-0.05245298892259598,-1.0960763692855835,0.5443750023841858,-2.5546982288360596,-1.2776024341583252,-0.42380210757255554,-2.001120090484619,-1.0209134817123413,0.4664585590362549,-2.611968517303467,-2.9954113960266113,-0.7500429749488831,-1.076779842376709,-0.09736073017120361,-0.31864261627197266,-0.2664816379547119,-1.012273907661438,-0.394978791475296,-0.5455219745635986,-0.9411222338676453,-0.13343800604343414,-0.6000105738639832,0.7026616930961609,-1.035949468612671,1.3384369611740112,-2.78725528717041,0.08339958637952805,0.39782536029815674,0.11728991568088531,-0.38251766562461853,-2.3465795516967773,-0.06268510222434998,-1.215516448020935,-0.30747178196907043,-2.6813158988952637,-1.2242567539215088,0.17325590550899506,0.2597849667072296,-2.0035641193389893,1.562975287437439,-1.4394983053207397,-0.09252063184976578,0.45470505952835083,-1.422016978263855,-1.7457327842712402,-0.4362834393978119,-2.835150957107544,0.27206018567085266,0.1216311976313591,-0.21219749748706818,0.21649160981178284,-1.0125337839126587,-2.3213770389556885,-0.8537713289260864,1.297829031944275,1.6395900249481201,-0.8563390970230103,-1.1018580198287964,-2.072796106338501,-1.6947623491287231,-0.9431614875793457,-2.370999813079834,-2.1948490142822266,1.1724497079849243,-2.491926431655884,0.18589140474796295,-0.5582454800605774,-0.7872771620750427,0.717596173286438,0.25547900795936584,-2.2595150470733643,-0.2798168361186981,0.8059638738632202,-0.8624914288520813,-0.10077401995658875,-2.296760320663452,0.2648186981678009,0.42336174845695496,-2.425823211669922,-1.4656260013580322,-0.17428995668888092,0.8264889717102051,0.7588496208190918,-0.7500390410423279,-0.9438933730125427,0.19170323014259338,1.05598783493042,-1.1314921379089355,-0.15563173592090607,-1.463327407836914,0.6152897477149963,-0.5142684578895569,1.0174121856689453,0.011499050073325634,1.3882615566253662,-0.4405957758426666,-1.8112198114395142,-2.833357095718384,-1.9379222393035889,-0.5988608598709106,-1.9347290992736816,-0.687004566192627,-0.19930461049079895,-1.0784273147583008,-1.4239660501480103,1.8578579425811768,-0.9765188694000244,0.19974572956562042,-0.9645863771438599,0.3266369104385376,-1.2686766386032104,-1.5843735933303833,-0.16890951991081238,-0.0024833520874381065,-0.19773049652576447,-1.955145239830017,-2.4060325622558594,-0.9997817873954773,-1.2184032201766968,1.4529614448547363,1.633302927017212,-1.1301887035369873,1.2806003093719482,-0.4552178978919983,-0.4128350615501404,-1.2320551872253418,2.046811103820801,-1.5765442848205566,-1.4116160869598389,-1.7563540935516357,-1.0536876916885376,-0.6545010805130005,-1.1597214937210083,-1.0223451852798462,-0.8270401954650879,-1.2699027061462402,-1.1045629978179932,-0.9269429445266724,-0.7697963118553162,0.711195707321167,-1.7844427824020386,0.37848228216171265,0.27737483382225037,-0.03993584215641022,-0.14905859529972076,-0.7311185598373413,-0.027449944987893105,-0.7624096274375916,-1.4395264387130737,-0.9296818375587463,-0.39714565873146057,-0.9738051295280457,-0.9240226745605469,0.48108991980552673,-1.0991111993789673,-1.0221563577651978,2.0235097408294678,-2.5342671871185303,-0.2775266468524933,-0.6654919981956482,0.3488557040691376,0.9556959867477417,-0.48084619641304016,-0.2822206914424896,-2.0076091289520264,-0.32167455554008484,-1.428914189338684,-0.24602419137954712,-2.879607915878296,-2.062177896499634,-1.1876413822174072,0.3132281005382538,-1.817270278930664,-0.36176109313964844,-1.7292653322219849,-1.3041157722473145,-0.4536728858947754,-0.8292460441589355,-0.468004047870636,-0.30230411887168884,-0.07332699000835419,-0.8742358684539795,-1.5694247484207153,-0.534792423248291,0.08834076672792435,-0.8638795614242554,-0.9008996486663818,0.6320917010307312,1.8290584087371826,-1.7104934453964233,1.64098060131073,0.6197544932365417,-0.47750550508499146,1.7762655019760132,0.15522335469722748,-1.1452950239181519,-1.9374891519546509,1.255889654159546,-0.3089178204536438,1.373928427696228,1.308266043663025,1.765670657157898,-1.8805347681045532,-2.4839625358581543,-0.07899816334247589,0.5233414173126221,1.0346500873565674,0.5210907459259033,0.8250888586044312,1.0835844278335571,1.2455796003341675,-0.2268126755952835,1.6020151376724243,0.8446885943412781,0.32216647267341614,2.095092535018921,-0.7379690408706665,-1.8153104782104492,0.38070255517959595,1.7015453577041626,1.5277999639511108,1.0924780368804932,0.24428987503051758,-0.12539523839950562,1.5501424074172974,0.5855845212936401,0.1689978539943695,-1.674633502960205,1.1665501594543457,0.19078411161899567,0.37365615367889404,-0.16890501976013184,0.9741211533546448,1.3945298194885254,-1.9332774877548218,0.3227367103099823,-0.2815462648868561,0.852239191532135,0.22818918526172638,1.7361842393875122,2.088630199432373,1.293387770652771,0.49648767709732056,0.6225789785385132,1.6637928485870361,1.113494634628296,-0.6691404581069946,1.0992661714553833,1.2355148792266846,-0.6140981316566467,-0.14174337685108185,1.041254997253418,0.39897897839546204,-1.0512521266937256,-0.46359783411026,-1.6778939962387085,-0.3847547769546509,0.48469114303588867,0.956961989402771,0.47362515330314636,-0.11899444460868835,-0.08904939889907837,0.6765110492706299,-2.4579384326934814,-2.8861541748046875,-1.4029988050460815,1.03850519657135,-0.6790738701820374,-1.3894215822219849,-0.6353920102119446,-0.548056960105896,1.0398190021514893,-0.06792522221803665,1.2131596803665161,-1.3907133340835571,0.6828671097755432,-2.13747501373291,-2.184000253677368,0.017764504998922348,-1.2766528129577637,-2.176093578338623,0.2074449062347412,1.2513326406478882,-1.2625235319137573,-0.5559483170509338,-0.3828544020652771,-0.6428325176239014,-1.7306143045425415,0.6907762885093689,-0.977689802646637,-0.34838372468948364,1.2972264289855957,-2.2491512298583984,-1.0163875818252563,0.2206345796585083,0.17061682045459747,-1.1039475202560425,0.3882044553756714,-1.2142373323440552,0.6730459332466125,-0.42405596375465393,-0.7944247722625732,-1.4512382745742798,0.1503695845603943,-0.2315104603767395,-1.1268130540847778,-1.1660079956054688,-0.36307817697525024,-1.9057645797729492,-1.203961730003357,-0.0983615294098854,-0.5949434041976929,0.04348193481564522,-0.10531559586524963,-0.18085327744483948,-0.2758842706680298,-0.43984454870224,-1.510562777519226,0.7629150748252869,-0.396139919757843,-2.1530215740203857,0.11282090097665787,-0.7082475423812866,0.1689300388097763,-1.2985185384750366,-0.12497162073850632,-1.1285440921783447,-0.5016476511955261,-0.15355870127677917,-2.6565349102020264,1.1952773332595825,0.8109732270240784,0.5568673610687256,-0.7389699816703796,-0.9616963863372803,-0.508948028087616,0.46380528807640076,1.2100931406021118,1.2688764333724976,-0.04438112676143646,0.7784727811813354,-0.9536325335502625,1.1735754013061523,-0.05937336012721062,-0.6986305713653564,-0.06091684475541115,0.7733427882194519,0.2744404375553131,0.31753695011138916,-0.23464801907539368,-0.5533294081687927,0.33706510066986084,-0.1585584580898285,0.5460355877876282,-0.9437300562858582,0.9235929250717163,1.5179582834243774,-1.4093095064163208,-1.8015599250793457,-2.8575358390808105,-1.2720129489898682,-0.6461076736450195,-0.5535162687301636,0.09074923396110535,-1.8318657875061035,0.9129266142845154,-2.6776444911956787,-0.25072363018989563,-0.8679382801055908,-0.8070211410522461,-0.07453680038452148,-0.8026374578475952,1.8632556200027466,-1.8609659671783447,-1.2966389656066895,-0.8171004056930542,-0.45642217993736267,-0.8490637540817261,-1.1274887323379517,-0.9847383499145508,-1.7916561365127563,-0.47956398129463196,-0.8191937804222107,-0.6829416155815125,-1.405269742012024,-0.48038941621780396,-1.6506900787353516,-1.4880234003067017,-0.4595460593700409,-0.6860337257385254,-1.13035249710083,-1.6266862154006958,-0.8078996539115906,-0.5982528924942017,-0.49049288034439087,-1.0924955606460571,-1.381568193435669,-0.5662850141525269,-0.9582414627075195,-0.6297490000724792,-1.0622214078903198,0.3527141809463501,-0.9123451113700867,-1.2823607921600342,-0.7184098362922668,-0.13169926404953003,-0.9657459855079651,0.011084277182817459,-0.6740522384643555,-1.704648494720459,-0.3130166828632355,-1.3181360960006714,-0.16598814725875854,-1.0336512327194214,0.22102434933185577,-0.7393903136253357,-1.981601357460022,-1.5722999572753906,-0.43539732694625854,-1.795585036277771,-0.48575228452682495,-1.5381224155426025,-1.7076066732406616,-1.6828690767288208,-1.1257420778274536,-0.070095494389534,-1.513472557067871,-2.193659782409668,-0.5148687362670898,-1.0586178302764893,-1.1794393062591553],\"y\":[0.20312361419200897,0.8429319262504578,0.6422356367111206,0.8882908225059509,0.28967320919036865,2.4428915977478027,2.3252248764038086,1.978509783744812,0.2438238114118576,0.7748817801475525,-0.02833591029047966,-0.0917917937040329,-0.7456344962120056,0.7664315700531006,0.33980587124824524,-0.2912811040878296,1.2372363805770874,0.3476495146751404,0.7710791826248169,0.8204911351203918,0.8205311894416809,0.9568753838539124,-0.40748682618141174,0.19267357885837555,1.1058194637298584,0.6980531215667725,-1.3981643915176392,-0.3024381995201111,0.9094038009643555,-0.11011537909507751,-0.7392135262489319,0.5007635951042175,0.4390574097633362,-0.4220624268054962,-0.32634106278419495,0.022358590736985207,0.2791845202445984,0.992590069770813,0.9384791851043701,1.0191659927368164,0.16677743196487427,-0.1771923154592514,0.5522522330284119,-0.5259687900543213,1.0745651721954346,1.2265264987945557,-0.2635919153690338,0.9516679048538208,1.0462403297424316,-0.11307820677757263,0.693975031375885,0.816432535648346,-0.3518253266811371,-0.46014052629470825,1.6382852792739868,-2.3172316551208496,1.1885403394699097,1.850662350654602,0.6040138006210327,-2.41222882270813,-1.768420696258545,-0.002208091551437974,-0.630752682685852,0.48150351643562317,0.8906084299087524,-0.2628592252731323,0.8474453687667847,0.6425710320472717,-0.2345963716506958,-0.3848695158958435,-2.2502546310424805,0.001110573299229145,-0.07965590804815292,-0.23554280400276184,-0.02947750873863697,-0.7232860922813416,0.8955720663070679,0.6245523691177368,0.7694551348686218,0.4524586796760559,0.4432982802391052,-0.15534920990467072,0.8322741389274597,1.8658015727996826,0.1476323902606964,-0.15340739488601685,-0.28078827261924744,-0.4195266664028168,1.3858909606933594,2.3615963459014893,-0.3150031566619873,-0.3679795563220978,-1.275864601135254,-0.7351362705230713,1.2321139574050903,-0.21059398353099823,0.2249741405248642,-2.6257262229919434,1.1992716789245605,0.21849790215492249,2.0789687633514404,0.0657770186662674,0.09619460999965668,-0.6975906491279602,-0.8554490804672241,1.387149453163147,1.0871459245681763,0.09010438621044159,2.0048305988311768,0.2925495207309723,-2.792694330215454,-2.8229176998138428,-0.13452626764774323,-2.029372453689575,-0.18488013744354248,0.021022828295826912,0.033037278801202774,0.06768086552619934,-0.6339341998100281,1.3840194940567017,-1.4256985187530518,1.223504900932312,0.3749088644981384,0.19099125266075134,-1.006656289100647,-1.2010557651519775,0.5506564974784851,0.19763311743736267,1.135864496231079,-0.21233050525188446,0.09380258619785309,-0.3371111750602722,-1.2357159852981567,-0.3227827548980713,0.36753934621810913,-1.1006571054458618,0.6167064309120178,-0.8543531894683838,-0.3194971978664398,-2.260960340499878,0.37181493639945984,-0.10006651282310486,-0.49714744091033936,-0.46126967668533325,-0.11056987196207047,0.7695955634117126,-0.4832608997821808,-0.12129095941781998,0.3406997323036194,-2.1591908931732178,0.9812142848968506,-2.505094051361084,-1.9707140922546387,1.1429431438446045,0.4501611888408661,-0.02035878784954548,-0.3584785759449005,-0.15367639064788818,-0.7199032306671143,0.29694733023643494,1.1508383750915527,1.4231488704681396,0.7885286211967468,-0.8528185486793518,1.0079026222229004,-0.3437909483909607,-1.7914539575576782,2.1400463581085205,-0.03436167538166046,0.17273320257663727,-1.499004602432251,1.3201028108596802,1.1849031448364258,-0.32962313294410706,-1.2689846754074097,-0.16260549426078796,-0.37275147438049316,-1.0169873237609863,1.3991146087646484,-1.6858757734298706,1.3334418535232544,0.1438368260860443,0.4683334529399872,0.3921624720096588,0.5132910013198853,0.320719838142395,-0.9369411468505859,-1.1057075262069702,2.331451654434204,0.520399808883667,1.4673490524291992,2.341517448425293,0.3288510739803314,-1.7753574848175049,0.8506019711494446,1.46570885181427,-2.032618999481201,0.8494202494621277,-0.5254771709442139,-1.1164851188659668,-0.5499522089958191,1.5884711742401123,2.553328275680542,0.6019167900085449,0.02398919314146042,-0.050321049988269806,0.5100301504135132,-1.4123430252075195,1.1660839319229126,0.37257131934165955,0.4959660470485687,-1.963215708732605,-0.888313889503479,0.17273752391338348,-0.21850734949111938,1.658886432647705,0.6343092918395996,-0.7175047397613525,-0.1247800663113594,-1.6809903383255005,-0.014132993295788765,-0.32784029841423035,-0.5799151659011841,2.1458137035369873,0.8052653670310974,2.0210304260253906,-0.9989035725593567,0.02609841153025627,-0.937272310256958,1.4022912979125977,-1.8861948251724243,-0.8224253058433533,-1.5338985919952393,-0.30559825897216797,-0.4603138566017151,2.2378835678100586,1.4311147928237915,-1.8669404983520508,-2.020188570022583,0.6788011789321899,1.1307684183120728,-0.6669705510139465,-1.0484925508499146,0.5020655393600464,-0.47577616572380066,-0.02835259400308132,0.7831099033355713,1.48758864402771,0.602127194404602,-1.032487154006958,0.27678531408309937,-0.17743223905563354,0.5066528916358948,-1.0461108684539795,1.6826026439666748,1.0686899423599243,0.8614545464515686,0.19936126470565796,-0.5818026065826416,-0.2871396243572235,-0.4818755090236664,-0.16637729108333588,-0.5647861957550049,1.264981985092163,0.7073516249656677,-1.1996512413024902,-0.28457510471343994,-1.6568758487701416,-0.6972520351409912,-0.608820915222168,2.1975932121276855,0.7195752263069153,0.5880334973335266,2.190154552459717,2.563563346862793,2.232093572616577,0.12934593856334686,-0.3240921199321747,-0.8251380324363708,-1.4849622249603271,-0.03467411547899246,-0.1351281851530075,-0.5447101593017578,0.9674671292304993,0.6114547252655029,-0.22321604192256927,-0.7033397555351257,-0.9702381491661072,-2.0032763481140137,1.1862025260925293,0.19227059185504913,-0.46459996700286865,1.0273118019104004,-0.5995728969573975,0.38498422503471375,-0.6447255611419678,0.6576570272445679,1.5527056455612183,-0.29867303371429443,0.8219133019447327,-0.6692119836807251,0.4468989372253418,-0.10586943477392197,1.9435720443725586,-1.0260748863220215,1.6559326648712158,-0.3835103511810303,1.9363653659820557,1.665367841720581,-0.21068349480628967,0.9741620421409607,-0.07423896342515945,0.9450212121009827,-0.3111433982849121,0.6341235041618347,0.25836679339408875,-0.3013159930706024,1.376283049583435,0.1395847350358963,-0.9695233702659607,0.5821614861488342,2.082214117050171,-0.26481249928474426,2.0826895236968994,2.0978052616119385,-2.632815361022949,1.1333798170089722,1.2017816305160522,1.2496365308761597,0.8095412254333496,-0.6372787356376648,-0.8000633716583252,0.9360359311103821,-0.5550941824913025,-1.2305078506469727,0.3544004261493683,0.3743419051170349,0.18890753388404846,-1.009381890296936,-2.0379135608673096,-0.05286961793899536,-1.7733412981033325,-0.3442465662956238,1.6996805667877197,-0.6555623412132263,0.08093643933534622,-1.2010823488235474,-0.1725650578737259,-0.687387228012085,0.41726475954055786,-1.8865580558776855,-0.8711107969284058,-0.02761182002723217,0.09798945486545563,-0.2666875123977661,-1.856033205986023,0.7806931734085083,-1.6614052057266235,-1.4611772298812866,-1.166519045829773,-1.3513847589492798,-0.12331623584032059,-0.5455137491226196,-1.2015358209609985,-0.47604987025260925,0.9648017287254333,-0.07178698480129242,0.3288867473602295,0.43683061003685,-0.08066519349813461,-0.6863767504692078,-0.21037881076335907,-0.9523458480834961,-0.031176229938864708,-0.34403520822525024,2.441697359085083,1.7324730157852173,-0.33702802658081055,0.43490904569625854,-0.1627403050661087,0.4930448830127716,0.14133329689502716,0.7601670026779175,-0.7593734264373779,1.411422848701477,-0.4044894874095917,0.844110906124115,1.9656568765640259,1.423861026763916,1.7672388553619385,-1.8048733472824097,-0.12981489300727844,0.2435692548751831,1.576732873916626,2.578110456466675,-0.22786027193069458,0.01614564098417759,2.03360652923584,1.4163453578948975,1.9490776062011719,1.30142080783844,-0.14874151349067688,-0.12423429638147354,-1.4439562559127808,-0.21387648582458496,-0.02493252046406269,-0.31600484251976013,0.2746378779411316,-0.7292969822883606,-1.9424171447753906,-0.1620633900165558,1.226296305656433,0.7644386887550354,1.5990676879882812,1.8391765356063843,-1.268802523612976,-0.3834877908229828,1.2472941875457764,0.4937685430049896,0.45641815662384033,1.8515715599060059,0.6530357003211975,0.32736697793006897,-0.26472705602645874,0.5712709426879883,-0.24859222769737244,0.286259263753891,1.7673684358596802,0.9230288863182068,-0.07672931253910065,1.5167217254638672,0.28065407276153564,-0.024726111441850662,-0.4445987045764923,-1.0251961946487427,0.6779239773750305,2.1633901596069336,0.25318747758865356,1.1519821882247925,-0.032138995826244354,0.1025475561618805,0.25183555483818054,0.6184185147285461,0.9646090269088745,-1.9058507680892944,-0.923366904258728,0.43024078011512756,0.2406465858221054,-2.2724194526672363,-0.9666795134544373,-0.7745357751846313,-0.9613080024719238,-0.5480496287345886,0.9396966695785522,0.16949744522571564,-0.3273678421974182,-0.4779261350631714,-1.1019266843795776,-1.945551872253418,1.8327925205230713,-0.054206810891628265,0.6022758483886719,-0.398514062166214,0.671837568283081,1.7219233512878418,1.7865924835205078,-1.4374010562896729,-2.176147699356079,-0.8446042537689209,0.05872774496674538,0.24176949262619019,-0.027934947982430458,1.4119846820831299,0.9751286506652832,-1.1685975790023804,1.8445918560028076,-0.25105220079421997,-1.5057796239852905,0.8662760257720947,1.1382601261138916,-0.7836923599243164,-0.8700922131538391,0.7137417793273926,-0.04729844257235527,0.31878501176834106,-1.0175846815109253,1.027687668800354,-0.5608577728271484,-1.2131825685501099,-0.7654833793640137,-1.2886191606521606,-1.9456346035003662,0.04719527065753937,0.12164510041475296,0.44805166125297546,-0.5107065439224243,1.2912122011184692,-0.5600515604019165,-0.6575233936309814,-0.7121081948280334,-1.3291971683502197,1.6287306547164917,1.6794131994247437,0.3430880904197693,0.4484679102897644,0.22429557144641876,0.11584855616092682,0.30119481682777405,0.18813306093215942,-0.3157261610031128,-1.0495240688323975,-0.3225211203098297,0.7932659983634949,0.5538959503173828,-1.124774694442749,1.6180379390716553,-1.4187895059585571,0.07464870810508728,-1.3124492168426514,-0.09475969523191452,-0.8876656293869019,0.24376480281352997,-1.6729377508163452,0.6231473684310913,1.039563536643982,0.5429571270942688,1.1173734664916992,-0.061061613261699677,-0.7970436811447144,-1.4497381448745728,-0.5911036133766174,1.1965159177780151,-0.3445248305797577,-2.1578023433685303,0.6576178669929504,1.2688888311386108,-1.4524954557418823,-0.16763295233249664,-0.04287971556186676,1.8048938512802124,-0.8783731460571289,1.332847237586975,-1.2640002965927124,-0.8560675978660583,-0.05542062595486641,1.5046052932739258,-0.25924208760261536,-0.1956213414669037,1.2922849655151367,1.2960480451583862,1.4279958009719849,0.05815109238028526,1.3684628009796143,-1.749719262123108,0.0302396509796381,1.9403270483016968,0.5108633041381836,0.02966303378343582,0.619591474533081,1.6041518449783325,1.401717185974121,1.0306113958358765,0.4976269006729126,1.047624945640564,0.6641163229942322,-0.15098996460437775,-1.5830532312393188,-2.1535959243774414,-1.676811695098877,-0.19075649976730347,-0.8021941184997559,1.7632641792297363,-0.5904731154441833,-1.8416972160339355,0.04853912442922592,1.812717080116272,-0.1706375777721405,-0.30234721302986145,0.42718079686164856,-0.2363053411245346,1.285385012626648,-1.844185471534729,0.0632212907075882,2.087449312210083,0.11243139952421188,-1.6837481260299683,-0.30792462825775146,0.7467219233512878,0.3355160057544708,2.1717238426208496,1.4371333122253418,-0.8674700260162354,1.7945096492767334,1.0339701175689697,-0.374960333108902,0.48369550704956055,-0.23663459718227386,0.4850805997848511,0.09863696992397308,0.28264304995536804,1.7761181592941284,1.4408832788467407,-0.6304264068603516,1.0179532766342163,2.8022842407226562,0.736563503742218,-0.19781874120235443,-1.946652889251709,0.42595624923706055,0.4823110103607178,1.3022689819335938,0.329103022813797,1.9279531240463257,1.2452143430709839,-1.180667757987976,0.02932223305106163,-0.5022732019424438,-0.24772918224334717,-1.3560270071029663,0.5238401889801025,-0.23696257174015045,-0.2468104064464569,-0.07435955107212067,0.02897457964718342,-0.5805076360702515,-0.907201886177063,-0.47870510816574097,-1.6573702096939087,1.4132124185562134,0.31727781891822815,-1.5132009983062744,-0.9925612807273865,-1.4221268892288208,-0.6671677231788635,0.08529345691204071,2.503004550933838,-0.6334322094917297,-0.3114829361438751,0.2114921361207962,0.37075015902519226,-2.1133902072906494,-0.007475144695490599,0.1936751753091812,0.4313770830631256,-0.612585186958313,0.42830729484558105,-0.3092843294143677,0.9659364819526672,2.0888028144836426,-0.10224030166864395,-1.8937464952468872,0.7305263876914978,0.31638264656066895,-2.0024256706237793,0.9261956810951233,-0.01736321672797203,-1.391211748123169,0.7124810814857483,-0.8092300295829773,-0.09917102009057999,0.12614737451076508,-0.7839036583900452,-2.2757067680358887,-0.9187446236610413,-0.9316591620445251,0.2173483967781067,0.2614469826221466,2.9704129695892334,0.3157358467578888,2.965390205383301,0.3394615054130554,-0.8582838773727417,-1.0304994583129883,-0.3462059795856476,0.43214648962020874,0.774272620677948,-0.43522563576698303,2.0446999073028564,0.3364676535129547,-1.1708589792251587,-0.06702416390180588,-1.0279086828231812,-0.6961529850959778,0.4892677962779999,0.08997511118650436,0.009547438472509384,0.8187893629074097,2.814934492111206,-1.716827630996704,-1.8930860757827759,-0.18334904313087463,-1.5973299741744995,1.0074336528778076,-2.0648889541625977,1.4320204257965088,0.9249377250671387,-0.832673192024231,1.5897680521011353,-0.43639978766441345,-1.010076642036438,0.37231916189193726,-0.8170561194419861,-0.2765127122402191,-0.42690038681030273,-1.0899940729141235,-0.23681379854679108,-0.43205323815345764,0.25940489768981934,0.9269379377365112,0.04602690041065216,0.5380480885505676,1.1322036981582642,-0.8518075346946716,0.43485647439956665,0.49788522720336914,0.4248426556587219,-0.1321311742067337,-2.049809217453003,0.027906429022550583,-0.12744008004665375,-0.6577287316322327,-0.14056611061096191,-0.7818681597709656,1.5384867191314697,-1.4223800897598267,-0.2544582486152649,0.6828839778900146,1.9536577463150024,0.9495529532432556,-1.133847713470459,-0.4599708616733551,1.0027687549591064,0.7887269854545593,0.5919532775878906,0.052884358912706375,1.0772755146026611,0.5247362852096558,0.7337538599967957,1.3033334016799927,0.5614297389984131,-0.12232844531536102,0.5992385745048523,1.4371753931045532,-0.42281606793403625,0.2697983384132385,0.014965827576816082,0.29777824878692627,0.5810790657997131,0.0703418180346489,0.11125203222036362,-0.5838128924369812,-0.12124862521886826,0.2619722783565521,0.31641754508018494,0.6517565846443176,-0.3960893452167511,1.8204208612442017,-0.9802625775337219,-1.5369157791137695,-1.0947092771530151,-1.1098874807357788,-2.2351291179656982,-0.49216243624687195,0.8866835832595825,0.5609267950057983,-1.6380606889724731,0.5204140543937683,-2.104340076446533,0.37023332715034485,-0.5361316204071045,-1.1611881256103516,-1.7360385656356812,-1.0048353672027588,2.2376692295074463,-1.0796754360198975,-1.8440827131271362,-2.09934139251709,-0.34184694290161133,-0.7173148393630981,-0.9359785318374634,-1.2341980934143066,-0.8286462426185608,-1.7788276672363281,-1.7087253332138062,-0.49493080377578735,-0.10847719013690948,-0.848915159702301,-0.1993289589881897,0.5812899470329285,-0.8046788573265076,-0.9460538625717163,-0.6150452494621277,1.9666504859924316,0.0866006389260292,-0.7273958325386047,-1.8579373359680176,0.3672015070915222,-1.5159814357757568,1.3092988729476929,1.3532971143722534,-1.4883803129196167,0.5170347690582275,-1.4562467336654663,-1.6945481300354004,0.6422535181045532,-1.5745232105255127,-1.9549307823181152,1.0640119314193726,-1.1062647104263306,-0.6689541935920715,0.2447035163640976,1.8958383798599243,-1.0012848377227783,0.7013945579528809,-1.8376917839050293,-1.7454421520233154,-1.021550178527832,-1.21852445602417,-0.05145189166069031,-1.1479936838150024,1.4442687034606934,2.493330478668213,-0.21510201692581177,-0.0955142080783844,0.016365818679332733,-0.10122258961200714,-0.7126827239990234,1.5850883722305298,-1.3253129720687866,-0.20450179278850555,-1.1136651039123535,0.08078258484601974,0.29339954257011414,1.0887889862060547,0.4407421052455902,0.7828817963600159,-0.22602707147598267,-0.3413636386394501,0.665687084197998,-1.3343430757522583,-1.4415242671966553,2.3433997631073,-0.732201874256134,0.5900576114654541,-0.45307445526123047,-0.14601068198680878,0.008627788163721561,0.23204860091209412,1.1935601234436035,-0.0878688171505928,0.20579306781291962,-1.5522971153259277,0.20927266776561737,-1.748327612876892,0.528104841709137,1.8360655307769775,-0.4708542227745056,0.8277543783187866,0.13587085902690887,-0.4551278054714203,0.1675407886505127,-1.4485788345336914,-0.7495486736297607,-2.005091905593872,-1.3009345531463623,0.5901567339897156,-0.19458553194999695,2.045475482940674,-0.9287282228469849,0.5430992245674133,0.1283225566148758,0.6025469899177551,0.17959651350975037,0.14068520069122314,1.5056160688400269,-2.1424548625946045,-0.2921743094921112,-0.8573257923126221,1.0901768207550049,-0.12197019159793854,-0.9775438904762268,-0.14609754085540771,0.07757189124822617,1.4489836692810059,-1.8271788358688354,-0.24449406564235687,1.5158474445343018,-0.10444864630699158,-0.1371973752975464,0.47829100489616394,0.1338016837835312,1.3216593265533447,-0.37802940607070923,-1.205072283744812,-2.2751030921936035,1.1723464727401733,-1.0073747634887695,0.32649049162864685,-0.529994785785675,0.683585524559021,1.5517958402633667,-0.006389264017343521,-1.2769889831542969,-1.453107237815857,-0.4575290381908417,1.7490406036376953,-0.002711636247113347,-0.07042164355516434,-1.689158320426941,-1.3599276542663574,0.8261440396308899,0.6562628149986267,-0.31401702761650085,-0.8468475341796875,-0.6285620927810669,-0.146794393658638,-2.172060489654541,1.8540796041488647,-0.26150092482566833,0.08589069545269012,-1.3181792497634888,-1.4510812759399414,-2.1697330474853516,-2.0090184211730957,-0.38490909337997437,-1.1381609439849854,-1.521202802658081,2.659886598587036,1.7170449495315552,-1.5706125497817993,-0.36988767981529236,0.265709787607193,1.414724588394165,0.30201801657676697,0.7394506931304932,-1.4565099477767944,0.02390380948781967,-0.3678334653377533,0.7904454469680786,-0.828230082988739,-0.15334400534629822,1.3194425106048584,-0.9057321548461914,-0.7458122372627258,-0.88033527135849,-0.41189485788345337,-0.29195263981819153,-1.100964069366455,-0.7808542847633362,-0.415701687335968,-7.673633081139997e-05,-0.3817758560180664,-1.3939436674118042,-1.1732090711593628,-0.6629640460014343,-0.5337720513343811,-1.1362218856811523,-0.6046262979507446,-1.105159878730774,-0.41936561465263367,1.166883111000061,-0.7668279409408569,-0.19713391363620758,-0.019798623397946358,-0.13997527956962585,-0.611717700958252,-0.726796567440033,-0.7593253254890442,0.01139750238507986,-0.002492186613380909,0.41517698764801025,-0.13895854353904724,-0.11540187895298004,-0.1275143027305603,-1.0274922847747803,-0.2512226104736328,-0.21524745225906372,0.039403222501277924,-0.60840904712677,-0.5954216122627258,-0.39473724365234375,-0.5416093468666077,-0.9135400056838989,-0.44509410858154297,-0.16273081302642822,-0.5654881000518799,-1.9438626766204834,-0.6321062445640564,-0.872402548789978,-0.1344520002603531,-0.38976070284843445,0.8395026922225952,0.15637297928333282,-0.39501962065696716,-0.11194004118442535,-0.2817043662071228,-0.9649989604949951,-0.0681779757142067,-0.6736953258514404,-0.23617354035377502],\"type\":\"scatter\"}],                        {\"template\":{\"data\":{\"histogram2dcontour\":[{\"type\":\"histogram2dcontour\",\"colorbar\":{\"outlinewidth\":0,\"ticks\":\"\"},\"colorscale\":[[0.0,\"#0d0887\"],[0.1111111111111111,\"#46039f\"],[0.2222222222222222,\"#7201a8\"],[0.3333333333333333,\"#9c179e\"],[0.4444444444444444,\"#bd3786\"],[0.5555555555555556,\"#d8576b\"],[0.6666666666666666,\"#ed7953\"],[0.7777777777777778,\"#fb9f3a\"],[0.8888888888888888,\"#fdca26\"],[1.0,\"#f0f921\"]]}],\"choropleth\":[{\"type\":\"choropleth\",\"colorbar\":{\"outlinewidth\":0,\"ticks\":\"\"}}],\"histogram2d\":[{\"type\":\"histogram2d\",\"colorbar\":{\"outlinewidth\":0,\"ticks\":\"\"},\"colorscale\":[[0.0,\"#0d0887\"],[0.1111111111111111,\"#46039f\"],[0.2222222222222222,\"#7201a8\"],[0.3333333333333333,\"#9c179e\"],[0.4444444444444444,\"#bd3786\"],[0.5555555555555556,\"#d8576b\"],[0.6666666666666666,\"#ed7953\"],[0.7777777777777778,\"#fb9f3a\"],[0.8888888888888888,\"#fdca26\"],[1.0,\"#f0f921\"]]}],\"heatmap\":[{\"type\":\"heatmap\",\"colorbar\":{\"outlinewidth\":0,\"ticks\":\"\"},\"colorscale\":[[0.0,\"#0d0887\"],[0.1111111111111111,\"#46039f\"],[0.2222222222222222,\"#7201a8\"],[0.3333333333333333,\"#9c179e\"],[0.4444444444444444,\"#bd3786\"],[0.5555555555555556,\"#d8576b\"],[0.6666666666666666,\"#ed7953\"],[0.7777777777777778,\"#fb9f3a\"],[0.8888888888888888,\"#fdca26\"],[1.0,\"#f0f921\"]]}],\"heatmapgl\":[{\"type\":\"heatmapgl\",\"colorbar\":{\"outlinewidth\":0,\"ticks\":\"\"},\"colorscale\":[[0.0,\"#0d0887\"],[0.1111111111111111,\"#46039f\"],[0.2222222222222222,\"#7201a8\"],[0.3333333333333333,\"#9c179e\"],[0.4444444444444444,\"#bd3786\"],[0.5555555555555556,\"#d8576b\"],[0.6666666666666666,\"#ed7953\"],[0.7777777777777778,\"#fb9f3a\"],[0.8888888888888888,\"#fdca26\"],[1.0,\"#f0f921\"]]}],\"contourcarpet\":[{\"type\":\"contourcarpet\",\"colorbar\":{\"outlinewidth\":0,\"ticks\":\"\"}}],\"contour\":[{\"type\":\"contour\",\"colorbar\":{\"outlinewidth\":0,\"ticks\":\"\"},\"colorscale\":[[0.0,\"#0d0887\"],[0.1111111111111111,\"#46039f\"],[0.2222222222222222,\"#7201a8\"],[0.3333333333333333,\"#9c179e\"],[0.4444444444444444,\"#bd3786\"],[0.5555555555555556,\"#d8576b\"],[0.6666666666666666,\"#ed7953\"],[0.7777777777777778,\"#fb9f3a\"],[0.8888888888888888,\"#fdca26\"],[1.0,\"#f0f921\"]]}],\"surface\":[{\"type\":\"surface\",\"colorbar\":{\"outlinewidth\":0,\"ticks\":\"\"},\"colorscale\":[[0.0,\"#0d0887\"],[0.1111111111111111,\"#46039f\"],[0.2222222222222222,\"#7201a8\"],[0.3333333333333333,\"#9c179e\"],[0.4444444444444444,\"#bd3786\"],[0.5555555555555556,\"#d8576b\"],[0.6666666666666666,\"#ed7953\"],[0.7777777777777778,\"#fb9f3a\"],[0.8888888888888888,\"#fdca26\"],[1.0,\"#f0f921\"]]}],\"mesh3d\":[{\"type\":\"mesh3d\",\"colorbar\":{\"outlinewidth\":0,\"ticks\":\"\"}}],\"scatter\":[{\"fillpattern\":{\"fillmode\":\"overlay\",\"size\":10,\"solidity\":0.2},\"type\":\"scatter\"}],\"parcoords\":[{\"type\":\"parcoords\",\"line\":{\"colorbar\":{\"outlinewidth\":0,\"ticks\":\"\"}}}],\"scatterpolargl\":[{\"type\":\"scatterpolargl\",\"marker\":{\"colorbar\":{\"outlinewidth\":0,\"ticks\":\"\"}}}],\"bar\":[{\"error_x\":{\"color\":\"#2a3f5f\"},\"error_y\":{\"color\":\"#2a3f5f\"},\"marker\":{\"line\":{\"color\":\"#E5ECF6\",\"width\":0.5},\"pattern\":{\"fillmode\":\"overlay\",\"size\":10,\"solidity\":0.2}},\"type\":\"bar\"}],\"scattergeo\":[{\"type\":\"scattergeo\",\"marker\":{\"colorbar\":{\"outlinewidth\":0,\"ticks\":\"\"}}}],\"scatterpolar\":[{\"type\":\"scatterpolar\",\"marker\":{\"colorbar\":{\"outlinewidth\":0,\"ticks\":\"\"}}}],\"histogram\":[{\"marker\":{\"pattern\":{\"fillmode\":\"overlay\",\"size\":10,\"solidity\":0.2}},\"type\":\"histogram\"}],\"scattergl\":[{\"type\":\"scattergl\",\"marker\":{\"colorbar\":{\"outlinewidth\":0,\"ticks\":\"\"}}}],\"scatter3d\":[{\"type\":\"scatter3d\",\"line\":{\"colorbar\":{\"outlinewidth\":0,\"ticks\":\"\"}},\"marker\":{\"colorbar\":{\"outlinewidth\":0,\"ticks\":\"\"}}}],\"scattermapbox\":[{\"type\":\"scattermapbox\",\"marker\":{\"colorbar\":{\"outlinewidth\":0,\"ticks\":\"\"}}}],\"scatterternary\":[{\"type\":\"scatterternary\",\"marker\":{\"colorbar\":{\"outlinewidth\":0,\"ticks\":\"\"}}}],\"scattercarpet\":[{\"type\":\"scattercarpet\",\"marker\":{\"colorbar\":{\"outlinewidth\":0,\"ticks\":\"\"}}}],\"carpet\":[{\"aaxis\":{\"endlinecolor\":\"#2a3f5f\",\"gridcolor\":\"white\",\"linecolor\":\"white\",\"minorgridcolor\":\"white\",\"startlinecolor\":\"#2a3f5f\"},\"baxis\":{\"endlinecolor\":\"#2a3f5f\",\"gridcolor\":\"white\",\"linecolor\":\"white\",\"minorgridcolor\":\"white\",\"startlinecolor\":\"#2a3f5f\"},\"type\":\"carpet\"}],\"table\":[{\"cells\":{\"fill\":{\"color\":\"#EBF0F8\"},\"line\":{\"color\":\"white\"}},\"header\":{\"fill\":{\"color\":\"#C8D4E3\"},\"line\":{\"color\":\"white\"}},\"type\":\"table\"}],\"barpolar\":[{\"marker\":{\"line\":{\"color\":\"#E5ECF6\",\"width\":0.5},\"pattern\":{\"fillmode\":\"overlay\",\"size\":10,\"solidity\":0.2}},\"type\":\"barpolar\"}],\"pie\":[{\"automargin\":true,\"type\":\"pie\"}]},\"layout\":{\"autotypenumbers\":\"strict\",\"colorway\":[\"#636efa\",\"#EF553B\",\"#00cc96\",\"#ab63fa\",\"#FFA15A\",\"#19d3f3\",\"#FF6692\",\"#B6E880\",\"#FF97FF\",\"#FECB52\"],\"font\":{\"color\":\"#2a3f5f\"},\"hovermode\":\"closest\",\"hoverlabel\":{\"align\":\"left\"},\"paper_bgcolor\":\"white\",\"plot_bgcolor\":\"#E5ECF6\",\"polar\":{\"bgcolor\":\"#E5ECF6\",\"angularaxis\":{\"gridcolor\":\"white\",\"linecolor\":\"white\",\"ticks\":\"\"},\"radialaxis\":{\"gridcolor\":\"white\",\"linecolor\":\"white\",\"ticks\":\"\"}},\"ternary\":{\"bgcolor\":\"#E5ECF6\",\"aaxis\":{\"gridcolor\":\"white\",\"linecolor\":\"white\",\"ticks\":\"\"},\"baxis\":{\"gridcolor\":\"white\",\"linecolor\":\"white\",\"ticks\":\"\"},\"caxis\":{\"gridcolor\":\"white\",\"linecolor\":\"white\",\"ticks\":\"\"}},\"coloraxis\":{\"colorbar\":{\"outlinewidth\":0,\"ticks\":\"\"}},\"colorscale\":{\"sequential\":[[0.0,\"#0d0887\"],[0.1111111111111111,\"#46039f\"],[0.2222222222222222,\"#7201a8\"],[0.3333333333333333,\"#9c179e\"],[0.4444444444444444,\"#bd3786\"],[0.5555555555555556,\"#d8576b\"],[0.6666666666666666,\"#ed7953\"],[0.7777777777777778,\"#fb9f3a\"],[0.8888888888888888,\"#fdca26\"],[1.0,\"#f0f921\"]],\"sequentialminus\":[[0.0,\"#0d0887\"],[0.1111111111111111,\"#46039f\"],[0.2222222222222222,\"#7201a8\"],[0.3333333333333333,\"#9c179e\"],[0.4444444444444444,\"#bd3786\"],[0.5555555555555556,\"#d8576b\"],[0.6666666666666666,\"#ed7953\"],[0.7777777777777778,\"#fb9f3a\"],[0.8888888888888888,\"#fdca26\"],[1.0,\"#f0f921\"]],\"diverging\":[[0,\"#8e0152\"],[0.1,\"#c51b7d\"],[0.2,\"#de77ae\"],[0.3,\"#f1b6da\"],[0.4,\"#fde0ef\"],[0.5,\"#f7f7f7\"],[0.6,\"#e6f5d0\"],[0.7,\"#b8e186\"],[0.8,\"#7fbc41\"],[0.9,\"#4d9221\"],[1,\"#276419\"]]},\"xaxis\":{\"gridcolor\":\"white\",\"linecolor\":\"white\",\"ticks\":\"\",\"title\":{\"standoff\":15},\"zerolinecolor\":\"white\",\"automargin\":true,\"zerolinewidth\":2},\"yaxis\":{\"gridcolor\":\"white\",\"linecolor\":\"white\",\"ticks\":\"\",\"title\":{\"standoff\":15},\"zerolinecolor\":\"white\",\"automargin\":true,\"zerolinewidth\":2},\"scene\":{\"xaxis\":{\"backgroundcolor\":\"#E5ECF6\",\"gridcolor\":\"white\",\"linecolor\":\"white\",\"showbackground\":true,\"ticks\":\"\",\"zerolinecolor\":\"white\",\"gridwidth\":2},\"yaxis\":{\"backgroundcolor\":\"#E5ECF6\",\"gridcolor\":\"white\",\"linecolor\":\"white\",\"showbackground\":true,\"ticks\":\"\",\"zerolinecolor\":\"white\",\"gridwidth\":2},\"zaxis\":{\"backgroundcolor\":\"#E5ECF6\",\"gridcolor\":\"white\",\"linecolor\":\"white\",\"showbackground\":true,\"ticks\":\"\",\"zerolinecolor\":\"white\",\"gridwidth\":2}},\"shapedefaults\":{\"line\":{\"color\":\"#2a3f5f\"}},\"annotationdefaults\":{\"arrowcolor\":\"#2a3f5f\",\"arrowhead\":0,\"arrowwidth\":1},\"geo\":{\"bgcolor\":\"white\",\"landcolor\":\"#E5ECF6\",\"subunitcolor\":\"white\",\"showland\":true,\"showlakes\":true,\"lakecolor\":\"white\"},\"title\":{\"x\":0.05},\"mapbox\":{\"style\":\"light\"}}}},                        {\"responsive\": true}                    ).then(function(){\n",
              "                            \n",
              "var gd = document.getElementById('7745220e-cb89-450d-a0aa-7c32f93d4030');\n",
              "var x = new MutationObserver(function (mutations, observer) {{\n",
              "        var display = window.getComputedStyle(gd).display;\n",
              "        if (!display || display === 'none') {{\n",
              "            console.log([gd, 'removed!']);\n",
              "            Plotly.purge(gd);\n",
              "            observer.disconnect();\n",
              "        }}\n",
              "}});\n",
              "\n",
              "// Listen for the removal of the full notebook cells\n",
              "var notebookContainer = gd.closest('#notebook-container');\n",
              "if (notebookContainer) {{\n",
              "    x.observe(notebookContainer, {childList: true});\n",
              "}}\n",
              "\n",
              "// Listen for the clearing of the current output cell\n",
              "var outputEl = gd.closest('.output');\n",
              "if (outputEl) {{\n",
              "    x.observe(outputEl, {childList: true});\n",
              "}}\n",
              "\n",
              "                        })                };                            </script>        </div>\n",
              "</body>\n",
              "</html>"
            ]
          },
          "metadata": {}
        }
      ],
      "source": [
        "import numpy as np\n",
        "import pandas as pd\n",
        "import torch\n",
        "import sys\n",
        "\n",
        "from sklearn.manifold import TSNE\n",
        "import plotly.graph_objects as go\n",
        "\n",
        "tsne = TSNE() #create TSNE\n",
        "embeddings = model.embedding.weight[:1000].detach().cpu().numpy() #get embeddings by detaching weights of embedding layer (use only first 1000 words)\n",
        "#TODO create TSNE plot to visualize the relationship between our vectors\n",
        "tsne_result = tsne.fit_transform(embeddings)\n",
        "words = list(word_to_index.keys())[:1000]\n",
        "fig = go.Figure(data=go.Scatter(\n",
        "    x=tsne_result[:, 0],\n",
        "    y=tsne_result[:, 1],\n",
        "    mode='markers',\n",
        "    text=words,\n",
        "    hoverinfo='text'\n",
        "))\n",
        "fig.show()"
      ]
    },
    {
      "cell_type": "markdown",
      "source": [
        "Since the TSNE isn't shown when the notebook is downloaded, here is the link to the colab notebook: https://colab.research.google.com/drive/1P4KHNBtfaBtB0sm-SVcj_-eVl8dErp02?usp=sharing \\\\\n",
        "p.s: you can hover your mouse over each point to see the word"
      ],
      "metadata": {
        "id": "kes1HlBhpfTP"
      }
    },
    {
      "cell_type": "markdown",
      "metadata": {
        "id": "OcctyCqXRn22"
      },
      "source": [
        "## Let's Experiment!"
      ]
    },
    {
      "cell_type": "markdown",
      "metadata": {
        "id": "khVfQDiqRyuW"
      },
      "source": [
        "Now it's your time to experiment.\n",
        "- Find a new training corpus to train our CBOW model from scratch (it can be books, tweets, etc).  This should change the embeddings. Analyse and report how this new training set changes the vectors themselves and the accuracy on the analogy test.\n",
        "- Test your embeddings on a different sub-section of the analogy dataset or another dataset. Analyse and report how these results compare with the original dataset."
      ]
    },
    {
      "cell_type": "code",
      "source": [
        "test_analogy(model,word_to_index,'TestSet_sample.csv', 'family')"
      ],
      "metadata": {
        "colab": {
          "base_uri": "https://localhost:8080/"
        },
        "id": "UQGzJrlxAmD4",
        "outputId": "7ef39abd-645d-42c6-a8c6-61bd0e1bebdb"
      },
      "execution_count": null,
      "outputs": [
        {
          "output_type": "stream",
          "name": "stdout",
          "text": [
            "found sister = girl - boy + brother\n",
            "found sister = sisters - brothers + brother\n",
            "found princess = mother - father + prince\n",
            "found daughter = grandma - grandpa + son\n",
            "found sister = grandma - grandpa + brother\n",
            "found princess = granddaughter - grandson + prince\n",
            "found princess = bride - groom + prince\n",
            "found princess = wife - husband + prince\n",
            "found daughter = wife - husband + son\n",
            "found sister = wife - husband + brother\n",
            "found princess = queen - king + prince\n",
            "found wife = queen - king + husband\n",
            "found aunt = policewoman - policeman + uncle\n",
            "found queen = princess - prince + king\n",
            "found princess = stepmother - stepfather + prince\n",
            "found wife = stepdaughter - stepson + husband\n",
            "found princess = stepdaughter - stepson + prince\n",
            "found sister = aunt - uncle + brother\n"
          ]
        },
        {
          "output_type": "execute_result",
          "data": {
            "text/plain": [
              "0.04736842105263158"
            ]
          },
          "metadata": {},
          "execution_count": 35
        }
      ]
    },
    {
      "cell_type": "markdown",
      "source": [
        "Model trained on another data (some books) is in the file named COMP6781_Assig2_Rostami_Dorreen_40276768_new_data and this is the link to its colab notebook: https://colab.research.google.com/drive/1XYeae49NiC2tTs9r7uO_5RMj8aqw5Hw9?usp=sharing"
      ],
      "metadata": {
        "id": "uI0VXKwcqH5a"
      }
    }
  ],
  "metadata": {
    "accelerator": "GPU",
    "colab": {
      "gpuType": "T4",
      "provenance": []
    },
    "kernelspec": {
      "display_name": "comp6781",
      "language": "python",
      "name": "python3"
    },
    "language_info": {
      "codemirror_mode": {
        "name": "ipython",
        "version": 3
      },
      "file_extension": ".py",
      "mimetype": "text/x-python",
      "name": "python",
      "nbconvert_exporter": "python",
      "pygments_lexer": "ipython3",
      "version": "3.10.11"
    }
  },
  "nbformat": 4,
  "nbformat_minor": 0
}