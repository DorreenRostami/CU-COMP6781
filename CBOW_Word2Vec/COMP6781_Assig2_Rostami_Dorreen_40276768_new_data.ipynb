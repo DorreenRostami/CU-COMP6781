{
  "cells": [
    {
      "cell_type": "markdown",
      "metadata": {
        "id": "B7rqxJ_b9-uD"
      },
      "source": [
        "## Assigment 2: Word2vec and CBOW ⚡\n"
      ]
    },
    {
      "cell_type": "markdown",
      "metadata": {
        "id": "tWpKZPpdZcV8"
      },
      "source": [
        "In this assignment, we will guide you through the process of implementing Continous Bag Of Words (CBOW) using PyTorch, providing step-by-step instructions, code snippets, and explanations to aid your understanding. By the end of this assignment, you will have a solid grasp of Word2Vec's mechanics and be equipped to apply this knowledge to a wide range of NLP tasks.\n",
        "\n",
        "Let's embark on this journey to unlock the power of word embeddings with Word2Vec and PyTorch!\n",
        "\n",
        "This [guide](https://pytorch.org/tutorials/beginner/basics/intro.html) might come in handy to understand how Pytorch works."
      ]
    },
    {
      "cell_type": "markdown",
      "metadata": {
        "id": "v-kso1_rb2SM"
      },
      "source": [
        "Let's start by installing the needed libraries"
      ]
    },
    {
      "cell_type": "code",
      "execution_count": null,
      "metadata": {
        "colab": {
          "base_uri": "https://localhost:8080/"
        },
        "collapsed": true,
        "id": "aCFYPXdv_qZr",
        "outputId": "500f111c-4a82-405e-a35c-8b5214a145b6"
      },
      "outputs": [
        {
          "output_type": "stream",
          "name": "stdout",
          "text": [
            "Downloading...\n",
            "From: https://drive.google.com/uc?id=1-mB6idLW5Jg4aE68jOj5NDcDxRNlMXpu\n",
            "To: /content/TestSet_sample.csv\n",
            "\r  0% 0.00/51.5k [00:00<?, ?B/s]\r100% 51.5k/51.5k [00:00<00:00, 66.7MB/s]\n"
          ]
        }
      ],
      "source": [
        "!gdown https://drive.google.com/file/d/1-mB6idLW5Jg4aE68jOj5NDcDxRNlMXpu/view?usp=sharing --fuzzy"
      ]
    },
    {
      "cell_type": "code",
      "source": [
        "book_urls = [\n",
        "    \"https://www.gutenberg.org/files/2600/2600-0.txt\",\n",
        "    \"https://www.gutenberg.org/files/1342/1342-0.txt\",\n",
        "    \"https://www.gutenberg.org/files/37106/37106-0.txt\",\n",
        "    \"https://www.gutenberg.org/files/35461/35461-0.txt\",\n",
        "    \"https://www.gutenberg.org/files/84/84-0.txt\",\n",
        "    \"https://www.gutenberg.org/files/1513/1513-0.txt\",\n",
        "    \"https://www.gutenberg.org/files/2701/2701-0.txt\",\n",
        "    \"https://www.gutenberg.org/files/145/145-0.txt\",\n",
        "    \"https://www.gutenberg.org/files/100/100-0.txt\",\n",
        "    \"https://www.gutenberg.org/files/2641/2641-0.txt\",\n",
        "    \"https://www.gutenberg.org/files/67979/67979-0.txt\",\n",
        "    \"https://www.gutenberg.org/files/64317/64317-0.txt\",\n",
        "    \"https://www.gutenberg.org/files/1080/1080-0.txt\",\n",
        "    \"https://www.gutenberg.org/files/1184/1184-0.txt\",\n",
        "    \"https://www.gutenberg.org/files/12342/12342-0.txt\",\n",
        "]"
      ],
      "metadata": {
        "id": "DpNdnDopx3Rn"
      },
      "execution_count": null,
      "outputs": []
    },
    {
      "cell_type": "markdown",
      "metadata": {
        "id": "AADnCtQddOYv"
      },
      "source": [
        "In this assigment we will use the data set wikitext. This dataset is composed of textual content extracted from Wikipedia articles which hopefully will lead to good embeddings when input in CBOW."
      ]
    },
    {
      "cell_type": "code",
      "source": [
        "import torch\n",
        "torch.manual_seed(0)"
      ],
      "metadata": {
        "colab": {
          "base_uri": "https://localhost:8080/"
        },
        "id": "efpWKtEU6M0J",
        "outputId": "163a674f-7562-4732-882b-a8a128f02f7a"
      },
      "execution_count": null,
      "outputs": [
        {
          "output_type": "execute_result",
          "data": {
            "text/plain": [
              "<torch._C.Generator at 0x7c173157df70>"
            ]
          },
          "metadata": {},
          "execution_count": 3
        }
      ]
    },
    {
      "cell_type": "markdown",
      "metadata": {
        "id": "YyU3RJIz9qpS"
      },
      "source": [
        "As you can see there are a lot of numeric values, end-of-lines and the word \"References\" at the end. We saw in the previous assigment how preprocessing can significantly reduce the vocabulary; feel free to base the following code in your previous work."
      ]
    },
    {
      "cell_type": "code",
      "execution_count": null,
      "metadata": {
        "colab": {
          "base_uri": "https://localhost:8080/"
        },
        "collapsed": true,
        "id": "RO4OD95DQa8b",
        "outputId": "b072bf26-bb6f-4e93-ad2a-c3daab1b0a26"
      },
      "outputs": [
        {
          "output_type": "stream",
          "name": "stderr",
          "text": [
            "[nltk_data] Downloading package stopwords to /root/nltk_data...\n",
            "[nltk_data]   Unzipping corpora/stopwords.zip.\n"
          ]
        },
        {
          "output_type": "execute_result",
          "data": {
            "text/plain": [
              "True"
            ]
          },
          "metadata": {},
          "execution_count": 4
        }
      ],
      "source": [
        "import nltk\n",
        "nltk.download('stopwords')"
      ]
    },
    {
      "cell_type": "code",
      "execution_count": null,
      "metadata": {
        "id": "lR8Novc5AKMi"
      },
      "outputs": [],
      "source": [
        "import string\n",
        "import re\n",
        "from nltk.corpus import stopwords\n",
        "def preprocess_data(data):\n",
        "  \"\"\" Method to clean text from noise and standarize text across the different classes.\n",
        "      The preprocessing includes converting to joining all datapoints, lowercase, removing punctuation, and removing stopwords.\n",
        "  Arguments\n",
        "  ---------\n",
        "  text : List of String\n",
        "     Text to clean\n",
        "  Returns\n",
        "  -------\n",
        "  text : String\n",
        "      Cleaned and joined text\n",
        "  \"\"\"\n",
        "\n",
        "  stop_words = set(stopwords.words('english'))\n",
        "\n",
        "  text = ' '.join(data) #join all text in one single string\n",
        "  text = text.lower() #make everything lower case\n",
        "  text = text.strip() #remove \\n characters\n",
        "  text = text.replace(\"references\", \"\") #remove word \"References\"\n",
        "  text = re.sub(r'[^\\w\\s]', ' ', text) #remove any punctuation or special characters\n",
        "  text = re.sub(r'\\d+', ' ', text) #remove all numbers\n",
        "  text = ' '.join([w for w in text.split() if w not in stop_words]) #remove all stopwords (see imports to help you with this)\n",
        "\n",
        "  return text"
      ]
    },
    {
      "cell_type": "code",
      "source": [
        "def read_files(file_paths):\n",
        "    combined_text = []\n",
        "    for file_path in file_paths:\n",
        "        with open(file_path, 'r', encoding='utf-8') as file:\n",
        "            data = file.readlines()\n",
        "            pre_text = preprocess_data(data)\n",
        "            combined_text.append(pre_text)\n",
        "    return ' '.join(combined_text)\n",
        "\n",
        "book_files = []\n",
        "for i, url in enumerate(book_urls):\n",
        "    filename = f\"book_{i+1}.txt\"\n",
        "    !wget {url} -O {filename}\n",
        "    book_files.append(filename)\n",
        "\n",
        "text = read_files(book_files)"
      ],
      "metadata": {
        "colab": {
          "base_uri": "https://localhost:8080/"
        },
        "id": "qVgVAe_gqLV1",
        "outputId": "db92fdcb-545f-4bb4-fbf3-0ebdb0991e37",
        "collapsed": true
      },
      "execution_count": null,
      "outputs": [
        {
          "output_type": "stream",
          "name": "stdout",
          "text": [
            "--2024-10-27 18:47:23--  https://www.gutenberg.org/files/2600/2600-0.txt\n",
            "Resolving www.gutenberg.org (www.gutenberg.org)... 152.19.134.47, 2610:28:3090:3000:0:bad:cafe:47\n",
            "Connecting to www.gutenberg.org (www.gutenberg.org)|152.19.134.47|:443... connected.\n",
            "HTTP request sent, awaiting response... 200 OK\n",
            "Length: 3359405 (3.2M) [text/plain]\n",
            "Saving to: ‘book_1.txt’\n",
            "\n",
            "book_1.txt          100%[===================>]   3.20M  6.24MB/s    in 0.5s    \n",
            "\n",
            "2024-10-27 18:47:24 (6.24 MB/s) - ‘book_1.txt’ saved [3359405/3359405]\n",
            "\n",
            "--2024-10-27 18:47:24--  https://www.gutenberg.org/files/1342/1342-0.txt\n",
            "Resolving www.gutenberg.org (www.gutenberg.org)... 152.19.134.47, 2610:28:3090:3000:0:bad:cafe:47\n",
            "Connecting to www.gutenberg.org (www.gutenberg.org)|152.19.134.47|:443... connected.\n",
            "HTTP request sent, awaiting response... 200 OK\n",
            "Length: 752583 (735K) [text/plain]\n",
            "Saving to: ‘book_2.txt’\n",
            "\n",
            "book_2.txt          100%[===================>] 734.94K  2.03MB/s    in 0.4s    \n",
            "\n",
            "2024-10-27 18:47:25 (2.03 MB/s) - ‘book_2.txt’ saved [752583/752583]\n",
            "\n",
            "--2024-10-27 18:47:25--  https://www.gutenberg.org/files/37106/37106-0.txt\n",
            "Resolving www.gutenberg.org (www.gutenberg.org)... 152.19.134.47, 2610:28:3090:3000:0:bad:cafe:47\n",
            "Connecting to www.gutenberg.org (www.gutenberg.org)|152.19.134.47|:443... connected.\n",
            "HTTP request sent, awaiting response... 200 OK\n",
            "Length: 1113195 (1.1M) [text/plain]\n",
            "Saving to: ‘book_3.txt’\n",
            "\n",
            "book_3.txt          100%[===================>]   1.06M  2.85MB/s    in 0.4s    \n",
            "\n",
            "2024-10-27 18:47:26 (2.85 MB/s) - ‘book_3.txt’ saved [1113195/1113195]\n",
            "\n",
            "--2024-10-27 18:47:26--  https://www.gutenberg.org/files/35461/35461-0.txt\n",
            "Resolving www.gutenberg.org (www.gutenberg.org)... 152.19.134.47, 2610:28:3090:3000:0:bad:cafe:47\n",
            "Connecting to www.gutenberg.org (www.gutenberg.org)|152.19.134.47|:443... connected.\n",
            "HTTP request sent, awaiting response... 200 OK\n",
            "Length: 757376 (740K) [text/plain]\n",
            "Saving to: ‘book_4.txt’\n",
            "\n",
            "book_4.txt          100%[===================>] 739.62K  1.95MB/s    in 0.4s    \n",
            "\n",
            "2024-10-27 18:47:27 (1.95 MB/s) - ‘book_4.txt’ saved [757376/757376]\n",
            "\n",
            "--2024-10-27 18:47:27--  https://www.gutenberg.org/files/84/84-0.txt\n",
            "Resolving www.gutenberg.org (www.gutenberg.org)... 152.19.134.47, 2610:28:3090:3000:0:bad:cafe:47\n",
            "Connecting to www.gutenberg.org (www.gutenberg.org)|152.19.134.47|:443... connected.\n",
            "HTTP request sent, awaiting response... 200 OK\n",
            "Length: 448642 (438K) [text/plain]\n",
            "Saving to: ‘book_5.txt’\n",
            "\n",
            "book_5.txt          100%[===================>] 438.13K  1.46MB/s    in 0.3s    \n",
            "\n",
            "2024-10-27 18:47:27 (1.46 MB/s) - ‘book_5.txt’ saved [448642/448642]\n",
            "\n",
            "--2024-10-27 18:47:27--  https://www.gutenberg.org/files/1513/1513-0.txt\n",
            "Resolving www.gutenberg.org (www.gutenberg.org)... 152.19.134.47, 2610:28:3090:3000:0:bad:cafe:47\n",
            "Connecting to www.gutenberg.org (www.gutenberg.org)|152.19.134.47|:443... connected.\n",
            "HTTP request sent, awaiting response... 200 OK\n",
            "Length: 149774 (146K) [text/plain]\n",
            "Saving to: ‘book_6.txt’\n",
            "\n",
            "book_6.txt          100%[===================>] 146.26K   899KB/s    in 0.2s    \n",
            "\n",
            "2024-10-27 18:47:28 (899 KB/s) - ‘book_6.txt’ saved [149774/149774]\n",
            "\n",
            "--2024-10-27 18:47:28--  https://www.gutenberg.org/files/2701/2701-0.txt\n",
            "Resolving www.gutenberg.org (www.gutenberg.org)... 152.19.134.47, 2610:28:3090:3000:0:bad:cafe:47\n",
            "Connecting to www.gutenberg.org (www.gutenberg.org)|152.19.134.47|:443... connected.\n",
            "HTTP request sent, awaiting response... 200 OK\n",
            "Length: 1276235 (1.2M) [text/plain]\n",
            "Saving to: ‘book_7.txt’\n",
            "\n",
            "book_7.txt          100%[===================>]   1.22M  3.24MB/s    in 0.4s    \n",
            "\n",
            "2024-10-27 18:47:29 (3.24 MB/s) - ‘book_7.txt’ saved [1276235/1276235]\n",
            "\n",
            "--2024-10-27 18:47:29--  https://www.gutenberg.org/files/145/145-0.txt\n",
            "Resolving www.gutenberg.org (www.gutenberg.org)... 152.19.134.47, 2610:28:3090:3000:0:bad:cafe:47\n",
            "Connecting to www.gutenberg.org (www.gutenberg.org)|152.19.134.47|:443... connected.\n",
            "HTTP request sent, awaiting response... 200 OK\n",
            "Length: 1846079 (1.8M) [text/plain]\n",
            "Saving to: ‘book_8.txt’\n",
            "\n",
            "book_8.txt          100%[===================>]   1.76M  4.14MB/s    in 0.4s    \n",
            "\n",
            "2024-10-27 18:47:29 (4.14 MB/s) - ‘book_8.txt’ saved [1846079/1846079]\n",
            "\n",
            "--2024-10-27 18:47:30--  https://www.gutenberg.org/files/100/100-0.txt\n",
            "Resolving www.gutenberg.org (www.gutenberg.org)... 152.19.134.47, 2610:28:3090:3000:0:bad:cafe:47\n",
            "Connecting to www.gutenberg.org (www.gutenberg.org)|152.19.134.47|:443... connected.\n",
            "HTTP request sent, awaiting response... 200 OK\n",
            "Length: 5618815 (5.4M) [text/plain]\n",
            "Saving to: ‘book_9.txt’\n",
            "\n",
            "book_9.txt          100%[===================>]   5.36M  9.24MB/s    in 0.6s    \n",
            "\n",
            "2024-10-27 18:47:30 (9.24 MB/s) - ‘book_9.txt’ saved [5618815/5618815]\n",
            "\n",
            "--2024-10-27 18:47:31--  https://www.gutenberg.org/files/2641/2641-0.txt\n",
            "Resolving www.gutenberg.org (www.gutenberg.org)... 152.19.134.47, 2610:28:3090:3000:0:bad:cafe:47\n",
            "Connecting to www.gutenberg.org (www.gutenberg.org)|152.19.134.47|:443... connected.\n",
            "HTTP request sent, awaiting response... 200 OK\n",
            "Length: 396185 (387K) [text/plain]\n",
            "Saving to: ‘book_10.txt’\n",
            "\n",
            "book_10.txt         100%[===================>] 386.90K  1.24MB/s    in 0.3s    \n",
            "\n",
            "2024-10-27 18:47:31 (1.24 MB/s) - ‘book_10.txt’ saved [396185/396185]\n",
            "\n",
            "--2024-10-27 18:47:31--  https://www.gutenberg.org/files/67979/67979-0.txt\n",
            "Resolving www.gutenberg.org (www.gutenberg.org)... 152.19.134.47, 2610:28:3090:3000:0:bad:cafe:47\n",
            "Connecting to www.gutenberg.org (www.gutenberg.org)|152.19.134.47|:443... connected.\n",
            "HTTP request sent, awaiting response... 200 OK\n",
            "Length: 408332 (399K) [text/plain]\n",
            "Saving to: ‘book_11.txt’\n",
            "\n",
            "book_11.txt         100%[===================>] 398.76K  1.32MB/s    in 0.3s    \n",
            "\n",
            "2024-10-27 18:47:32 (1.32 MB/s) - ‘book_11.txt’ saved [408332/408332]\n",
            "\n",
            "--2024-10-27 18:47:32--  https://www.gutenberg.org/files/64317/64317-0.txt\n",
            "Resolving www.gutenberg.org (www.gutenberg.org)... 152.19.134.47, 2610:28:3090:3000:0:bad:cafe:47\n",
            "Connecting to www.gutenberg.org (www.gutenberg.org)|152.19.134.47|:443... connected.\n",
            "HTTP request sent, awaiting response... 200 OK\n",
            "Length: 286778 (280K) [text/plain]\n",
            "Saving to: ‘book_12.txt’\n",
            "\n",
            "book_12.txt         100%[===================>] 280.06K  1.20MB/s    in 0.2s    \n",
            "\n",
            "2024-10-27 18:47:32 (1.20 MB/s) - ‘book_12.txt’ saved [286778/286778]\n",
            "\n",
            "--2024-10-27 18:47:33--  https://www.gutenberg.org/files/1080/1080-0.txt\n",
            "Resolving www.gutenberg.org (www.gutenberg.org)... 152.19.134.47, 2610:28:3090:3000:0:bad:cafe:47\n",
            "Connecting to www.gutenberg.org (www.gutenberg.org)|152.19.134.47|:443... connected.\n",
            "HTTP request sent, awaiting response... 200 OK\n",
            "Length: 39819 (39K) [text/plain]\n",
            "Saving to: ‘book_13.txt’\n",
            "\n",
            "book_13.txt         100%[===================>]  38.89K  --.-KB/s    in 0.03s   \n",
            "\n",
            "2024-10-27 18:47:33 (1.33 MB/s) - ‘book_13.txt’ saved [39819/39819]\n",
            "\n",
            "--2024-10-27 18:47:33--  https://www.gutenberg.org/files/1184/1184-0.txt\n",
            "Resolving www.gutenberg.org (www.gutenberg.org)... 152.19.134.47, 2610:28:3090:3000:0:bad:cafe:47\n",
            "Connecting to www.gutenberg.org (www.gutenberg.org)|152.19.134.47|:443... connected.\n",
            "HTTP request sent, awaiting response... 200 OK\n",
            "Length: 2767436 (2.6M) [text/plain]\n",
            "Saving to: ‘book_14.txt’\n",
            "\n",
            "book_14.txt         100%[===================>]   2.64M  5.22MB/s    in 0.5s    \n",
            "\n",
            "2024-10-27 18:47:34 (5.22 MB/s) - ‘book_14.txt’ saved [2767436/2767436]\n",
            "\n",
            "--2024-10-27 18:47:34--  https://www.gutenberg.org/files/12342/12342-0.txt\n",
            "Resolving www.gutenberg.org (www.gutenberg.org)... 152.19.134.47, 2610:28:3090:3000:0:bad:cafe:47\n",
            "Connecting to www.gutenberg.org (www.gutenberg.org)|152.19.134.47|:443... connected.\n",
            "HTTP request sent, awaiting response... 200 OK\n",
            "Length: 4932154 (4.7M) [text/plain]\n",
            "Saving to: ‘book_15.txt’\n",
            "\n",
            "book_15.txt         100%[===================>]   4.70M  9.11MB/s    in 0.5s    \n",
            "\n",
            "2024-10-27 18:47:35 (9.11 MB/s) - ‘book_15.txt’ saved [4932154/4932154]\n",
            "\n"
          ]
        }
      ]
    },
    {
      "cell_type": "markdown",
      "metadata": {
        "id": "KWZMCe_ZvVV1"
      },
      "source": [
        "Our `text` variable includes all the data in just one string. Let's create a dictionary of frequencies for more pre-processing (same as in the last assigment)."
      ]
    },
    {
      "cell_type": "code",
      "execution_count": null,
      "metadata": {
        "id": "_9oY3wz0AD9-"
      },
      "outputs": [],
      "source": [
        "def vocab_frequency(text):\n",
        "  \"\"\" Creates dictionary of frequencies based on a dataset.\n",
        "  Arguments\n",
        "  ---------\n",
        "  dataset : list of tuples\n",
        "      list of tuples of the form (label, text)\n",
        "  Returns\n",
        "  -------\n",
        "  vocab_dict : dictonary\n",
        "      Dictionary of words and their frequencies with the format {word: frequency}\n",
        "  \"\"\"\n",
        "  vocab = {} #create empty dictionary\n",
        "\n",
        "  #iterate through rows of df and count the frequency of words\n",
        "  for word in text.split():\n",
        "    if word not in vocab:\n",
        "      vocab[word] = 1\n",
        "    else:\n",
        "      vocab[word] += 1\n",
        "\n",
        "  return vocab\n",
        "\n",
        "vocabulary = vocab_frequency(text)"
      ]
    },
    {
      "cell_type": "code",
      "execution_count": null,
      "metadata": {
        "colab": {
          "base_uri": "https://localhost:8080/"
        },
        "collapsed": true,
        "id": "97_UojnMbzy7",
        "outputId": "5c784858-71a1-4dac-ff11-59e8b467c350"
      },
      "outputs": [
        {
          "output_type": "execute_result",
          "data": {
            "text/plain": [
              "68994"
            ]
          },
          "metadata": {},
          "execution_count": 8
        }
      ],
      "source": [
        "len(vocabulary)"
      ]
    },
    {
      "cell_type": "markdown",
      "metadata": {
        "id": "E1Jg5xJbcdqA"
      },
      "source": [
        "Now our vocabulary is ready 😎"
      ]
    },
    {
      "cell_type": "markdown",
      "metadata": {
        "id": "oysoGd4Wxq8I"
      },
      "source": [
        "Since our neural networks can't understand strings we have to turn these strings into integers. In this case, we can use the vocabulary index to represent the words, so we will need the mapping: word -> index"
      ]
    },
    {
      "cell_type": "code",
      "execution_count": null,
      "metadata": {
        "id": "luyKBZe7g2W2"
      },
      "outputs": [],
      "source": [
        "import torch\n",
        "import torch.nn as nn"
      ]
    },
    {
      "cell_type": "code",
      "execution_count": null,
      "metadata": {
        "id": "20IvUrxpwDL-"
      },
      "outputs": [],
      "source": [
        "def word_to_indexer(vocabulary):\n",
        "  \"\"\" Method to create vocabulary to index mapping.\n",
        "  Arguments\n",
        "  ---------\n",
        "  vocabulary : Dictionary\n",
        "     Dictonary of format {word:frequency}\n",
        "  Returns\n",
        "  -------\n",
        "  word_to_index : Dictionary\n",
        "      Dictionary mapping words to index with format {word:index}\n",
        "  \"\"\"\n",
        "  word_to_index = {}\n",
        "  word_to_index['OOV!'] = 0  #Create key,value pair for out of vocabulary words\n",
        "\n",
        "  for index, (key, _) in enumerate(vocabulary.items()):\n",
        "    word_to_index[key] = index + 1\n",
        "\n",
        "  return word_to_index\n",
        "\n",
        "word_to_index = word_to_indexer(vocabulary)"
      ]
    },
    {
      "cell_type": "markdown",
      "metadata": {
        "id": "AUxUbk8nyTmu"
      },
      "source": [
        "Let's start to get more on topic. If you remember, Word2Vec has a specific way of generating each vector.\n",
        "![Captura de pantalla 2024-05-21 161613.jpg](data:image/jpeg;base64,/9j/4AAQSkZJRgABAQEAYABgAAD/2wBDAAMCAgMCAgMDAwMEAwMEBQgFBQQEBQoHBwYIDAoMDAsKCwsNDhIQDQ4RDgsLEBYQERMUFRUVDA8XGBYUGBIUFRT/2wBDAQMEBAUEBQkFBQkUDQsNFBQUFBQUFBQUFBQUFBQUFBQUFBQUFBQUFBQUFBQUFBQUFBQUFBQUFBQUFBQUFBQUFBT/wAARCAHOAvQDASIAAhEBAxEB/8QAHwAAAQUBAQEBAQEAAAAAAAAAAAECAwQFBgcICQoL/8QAtRAAAgEDAwIEAwUFBAQAAAF9AQIDAAQRBRIhMUEGE1FhByJxFDKBkaEII0KxwRVS0fAkM2JyggkKFhcYGRolJicoKSo0NTY3ODk6Q0RFRkdISUpTVFVWV1hZWmNkZWZnaGlqc3R1dnd4eXqDhIWGh4iJipKTlJWWl5iZmqKjpKWmp6ipqrKztLW2t7i5usLDxMXGx8jJytLT1NXW19jZ2uHi4+Tl5ufo6erx8vP09fb3+Pn6/8QAHwEAAwEBAQEBAQEBAQAAAAAAAAECAwQFBgcICQoL/8QAtREAAgECBAQDBAcFBAQAAQJ3AAECAxEEBSExBhJBUQdhcRMiMoEIFEKRobHBCSMzUvAVYnLRChYkNOEl8RcYGRomJygpKjU2Nzg5OkNERUZHSElKU1RVVldYWVpjZGVmZ2hpanN0dXZ3eHl6goOEhYaHiImKkpOUlZaXmJmaoqOkpaanqKmqsrO0tba3uLm6wsPExcbHyMnK0tPU1dbX2Nna4uPk5ebn6Onq8vP09fb3+Pn6/9oADAMBAAIRAxEAPwD9U6KKKACiiigAooooAKKKKACiiigAooooAKKKKACiiigAooooAKKKKACiiigAooooAKKKKACiiigAooooAKKKKACiiigAooooAKKKKACiiigAooooAKKKKACiiigAooooAKKKKACiiigAooooAKKKKACiiigAooooAKKKKACiiigAooooAKKKKACiiigAooooAKKKKACiiigAooooAKKKKACiiigAooooAKKKKACiiigAooooAKKKKACiiigAooooAKKKKACiiigAooooAKKKq3GpWtnMsU88cTspYK7gEgck/QUAWqKpHWLP7Gt39piNq2Cs28bDnpg1RuPGeiWd59kn1Sziu848lp1DfkTQBt0VWj1C3muDAkqNMqB2jVgWCnocelUbzxdounDN1qlpbje0f7yZV+Zeo5PUUAa9FZmkeJdK14yDTtQtr3y/v/Z5Vfb9cGtOgAooooAKKbJIsaszEKqjJJrHsfGeialc/Z7TVLO5uP8AnlFOrN+QNAG1RWI3jbQUu2tW1eyW6VtphM6hs+mM9at6pr+n6HafadQvILK3/wCek8gRfzNAGhRVay1C21K3S4tJ47mBxlZImDKfoRVO98UaVpsRlutQtYIhI0ReSZVG8dV5PX2oA1aKy9N8TaXrEMkllf290kf3zDKrbfrg1BY+NNE1H7SLbVLSY23+uCTqTH9eeKANuisC38e+Hrq4SCLWbGSaRtqRpcIWY+gANaDa5YJYvePdwpaJnfOZBsXHXJ6dqAL9FZWneKNK1bTnv7S/t7mzTO6eKVWRcepBwKtvqdtHDFK08YjlIVGLjDE9AD3oAtUUm6loAKKKKACiqeqaxZaJavdX91DZ2y/elmcIo/E1BZ+JNMvtO+3wX1vLZYz9oSVSn55oA06Kp3WrWljCktxcRwxv91ncAHjPH4Vkx/ELw3LMkUet2DyOQqqtymSTwBjNAHRUViR+NNDlvms11azN2pKmD7Qm/I7YzWlDqNvcSzRxyo7w48xVYErn1HagCzRWHdeNtBston1eyhLZwJJ1Xp16mrula5Ya5G0mn3kN5GpwWhcMAfqKAL9FFFABRRRQAUUUUAFFFFABRRRQAUUUUAFFFFABRUdxcRWsLzTSLFEgLM7nAAHUk1DDqdrczNDDPHLKqq5RWBO09Gx6GgC1RWTeeKtI0+DzrnUbWCLeY98kygbh1Gc9alt/EWm3VqLmK+t5LdiFEiyqVJPbOetAGjRVS71W00/AubiKBipYCRwvA6nn0rLtfH3h2+uY7e31qxnmkYKiR3CEsT0AGaAN+ikpaACiiigAorH1Txhomi3Qtr/VbSzuCA3lTTKjYJxnBNPvvFWkaZHDJd6la20UwJR5ZlUMB3GTzQBq0VTsdYstStftNrdQ3Fv/AM9YpAy/mKq6V4q0fXJ5odO1K1vZYTiRIJldl+oBoA1qKrXGoW1rIscs8ccjAsFZgCQOp/Csi18e+Hr66W2ttZsZ53bYkcdwpLN6AZoA6CisjUPFuj6XfQ2d3qVpb3U3+rhlnVWb6Amor3xxoGmzNDd6xZW8y/ejknUEfrQBuUVQs9e0/UPLFtdwz+YnmL5cgbcvqMdqrW/jDRLrV30uLVbSTUU+9arMvmD/AIDnNAGxRVaPUIJ7iaCKRJJYSBIqsCVJGcH0p1reQ30Ilt5VmiJwHjYMD+NAE9FFFABRVDVte0/QbVrnUbuGyt16y3DhF/M0kevafNYxXkd5BJaylQkyyLsYnpg5wc0AaFFU73V7PTtv2q5igLAlRI4BIHJxWXH4+8OzyLHFrdhJKxwEW4TJP50AdBRWNZ+MNE1C6Fta6pZ3FxnHlRTqzfkDWjHf283m+XNG/lNtk2sDtPXB9KALFFYVx458P2bRrcazYwGRQ6eZcKNwPcc+1aWm6tZ6xbi4sLqG8gzjzIXDLke4oAt0UUUAFFFFABRRRQAUUUUAFFFFABRRRQAUUUUAFFFFABXgnx4Zl+JnhoKCc6Dq/bjPlLXvdYWueCtF8RahDfahplveXcMMtvHNMuWWOQYdR7MBg0AfGceoXnwz+Emh+GdRnuJNB1x7O70a6kyxhlMgMlszfqPY111v4T1HxN4q+IltafDnR/FTTXwhXVNVu4ojbkxjGAVL4B5ytfSOp/DPwzrHhux0G80OxudJsXjktrOWINHEyH5So7EVo6L4U0rw5c30+m2MNnNfSebcvEuDK2MZP4UAeKfB/R7rwd8YLjQ9Uvo7i+tfDFqjOxPzlZCDtLckDpn6VkaJ4d0bxV8L/jBeahp1jqfk6trD2s9xCsgTEQGUJ6cg8ivZPH/wb8H/ABPktpfEmiQajPbgiKfLRyID1AZSDg+mcVq6X4B0DRvCT+GLHSbW20FoXgOnxRhYijAhgQPXJyfegDmvgL4Y0bQvhh4bm03S7OwlutPgkmktYFRpTsByxA5P1r0eqekaTaaFpdrp9hbpa2VrGIoYYxhUQDAA9sVcoAKKKKAMnxZ/yLGrnuLKb/0A18n/AA0+Ges+N/h/4KXT/Aej6A8U0F43ik3ifaditk7URd5ZhxhjjnmvsK4gjuoZIZUWSKRSjowyGBGCDVLw/wCH9P8ACuj2mlaVax2VhaoI4YIlwqqOwFAHxRJa3Vr4H8WXE3w50LV7CbV7i2l8S31xmaz3SECV41iZ9qnurflXqng3wvp+s/FWy0PxRLB4ig0rw9byaWt0PMgnY8PMitncccZPIFe6WHgfQdO0q+02DSbWKxvXke4gVBslZ/vEj3zWHq3wQ8E65oenaRdaBbtY6fkWqxlo2gB6hHUhlHsDQB598M9S0XwP8ZPGXh7TryGw8PTPbC3sQ+IUv5A26OIdFJUAlRXlF5pt9q+paLaW2jaf4iuZPHmsk2OsTNFbyAIM73EchGM5HyHmvpiX4I+CZPCZ8N/8I7aLo/mCYQICp8wHIfeDu3f7Wc1VvvgD4E1Pw9pehXPhiyk0rTJXntIPmBikb7zhgcknuTyaAPM/iRpOqeGfhTeR3nhbQfBUN5qdrbXp8O3hlV7Vnw7Oxgh29h0PB612mo/Dz4aaDrfhbfY2Ok6hOhtrKKzQJ9tUrysiqP3i45+b866bwz8GfB/hOx1Oy03QreCz1JBHdQMzSJKo7EMTUHhP4GeCfAurf2ro2gwWuoBdi3DO8jRr/dTeTsHsMUAeb/D/AOH/AIZt/jB8RhB4d0yM2awNbbbSMeSShyU4+U+4xXD+BbO18QTfDDQdfVJ/Dt3f6tLJbzyZhuLpJGMSOM4buQvIJFfUtn4S0rT9T1HUrfT4Ir/UAourgL80oAwN34GsW9+EvhPUPCo8Nz6BYyaKshmW08vCrIWLF1I5VtxJ3DmgDwH446NpnhHxhrum+G7WKxttU8KXUusafYKEh+VgsUrIvCOcsuccgVz51K98Baf4H+HutXFxdRvqdld6DfzE5mtyCWhZv7yHj3GK+mdC+Cvgvw3o+p6Zp+gW62uprsvRMWle4X0d2JZvxNaupfD/AEDWI9IS+0ezuk0mRZbESRg/Z3UYDJ6HFAHQx4wcetPpBS0AFNfG054GKdSEZBFAHiHjDT7HxT+0No+j+I44rzSYdJa6sbG65hmn34Z9h4ZlGOMGvNPibptn4Z1v4j6N4bjjtNHbSYby8s7UYit7jeMNtHCEjr0r6W8ZfD3w94/s4rXX9Lh1CKE74mYlXib1RhhlP0NReGfhf4W8J6Hd6Ppei2tvp93u+0xFN/n56+YWyX/EmgDzD4nNbahF8H7TzI5hcapbHyd24Sx+ScnHdaqeFPhz4SX9ozxXAnhvSxDb6RaTRItpGFjkMj/Ooxw3A5r0Hwh8BfAngDWP7V0Hw3a2N/gqswLOYlPURhiQg9lxXVw+E9JtvEF1rkdjCuqXUKwTXKrhnRSSoPrgsaAPkbwb8PdX8feA9a07Tfh7o7z3Wq3Yi8VXV3HHNDi4Y7wqoZMqOAMjp1r174TxtpfxO+I9rc3AeSCO23vIwDNiEAvj04PNeueG/DOneFNPNjpNnDp9qZXmMMC4Xe7FmbHuSTXLeOvgX4G+JWrQ6l4j8PW+o30aeULgsyOy/wB1ipG4ex4oA+e7rwzo+sfsz6tqV7pVnf3a6jMYLuSFHkCmfHyv1A+hr6j8D+HdM8OeHrKHS9OtdNikhjd0tIFiDNtHJCjk+9JL4D0G48Np4efSbU6LGqoliIwsSqDwABW9BClvDHFGoSNFCqo6AAYAoAkooooAKKKKACiiigAooooAKKKKACiiigAooooA4L48KW+DfjEKcN/Zdxg5xj5D3r51tLXWfD3xOvvG+hSXE8uh+H9GW+0tWJW7s2g/eEL/AH0+8D7EV9c65otj4k0i70vUraO7sLuNoZoJRlXUjBBFZ2k+B9E0O+ub3T9Nt7S5uIYraWSNAC0cS7Y1PsBkUAfH+nX8fjG08HahpmiW/i62vvE+pTQ2N1IkccqMM/MXGBj0NdD4w+HuseE9P1DxDfaNpvg7Tb7VbBU0fTbkSRR7XGZXIVVBPoBX0fpXwo8J6Etj/Z/h+wtPsNxJd2yxxACKWQ5d19Ca3PEXh3TfFWj3Ol6vZQ6hp9ymya2nUMjj0IoA8p+Ii2ur/HD4dWT+TexPb3jywNiRWjMeMsvcfXisr4W/DzwvafHD4hmHw7pSNZnT3titkg8hjE2WTjCn3GK9A8BfBHwT8Mr6e88N+H7fTruZPLa43NJJs/uhmJIX2HFdPp/hjTNK1bUNUtLGGC/1Db9quFHzy7Rhcn2FAGvRSCloAKKKKAPmHxhpFzqn7R3idLf4fab44P8AYtpkalcRRLD878jzFOQeOgrk3+Geu+DvE/gTQ7nwxo/iy+W01K5GjXV5ttLVXmDJFHI8bZ2j5RwPyr6ztvC+lWfiO81yGwhj1a7iWCe8Vf3kiKcqpPoDmi68K6Xe+ILPW5rGGXVLSN4YLpl+eNGOWUH0JoA+PLNrhvBPirUja2fhC01HXbax1Xw1pszj+zYwwWTzG2qAX7lQBg16j8WvDfhv4et4I1TwtY2eiammoxQQSWKLE08B++r7R867eTnPrXsdz8PfD0+p6pfvotlLdapCIL6Rox/pCDoHH8X41i+FPgX4H8GaodQ0rw/bwXm0qk0jvIY1PVU3E7B7LigDzX4u6xaa/wCMvDl/pdwt9Zz6DqzRTxNlJAISMg9+ar/AHwVrMfhvwbeXXw38G2lr9hhkOrRX7tfDC5WTyzaD5jkHHmcZPNep6H8CfA/hy+1G80/w7Z29zfxyQ3DfMwZH++oBJChu4XGazdD/AGa/h14ZvrK60zwzb2ctm4kg8uWTEbAgjA3YwCOmMUAef/Cnwl4S8aeB/F2s+MrKxvtTl1G9XVr26UGa1EbttUMRmPagUjGOxqr8T/B/g3UrD4Z3+nafaataXeqQxLfzwh5biHacB2IBYY9a9W8SfATwH4r1yTV9T8N21zqEpDTS7nRZmHQyKpAf/gQNdRqHhDSNWh02K8022nTT5FltVaP5YWAwCo7YFAHgvxNt28KfELWl8O2a2L2vhOc20dmgjWM7hyqr3xUPi7wX4L0X9m+18R6VZWcGrW9nBf2WsQAfanvTghvNHzMxfIIzznFfQc3g/SZ9cOstp9u2pG3Nr9oKfP5ROSmfSuTsf2f/AADp+vDWIfDVoL1JfPjB3GKOTOd6xE7Fb3AzQB4Bot7rXgH4g+OPiN/pU9lHeWtp4m01c4WJrSNjcIvYxu3IH8OfSvbf2XbiK7+C+iXEMwninaeVJF6Mplcg/lXe2Xg/SNPn1mWHTbZG1h/Mv/kz9pbYEy4PB+UYqXwt4V0rwXotvpGiWEGmaZbgiG1tl2xoCckAduSaANakalooA8L1bSbDxh+0hcab4ltotQs7LRFuNKsLwB4WkMmJZAh4ZgMDocA15V8RLOy8L+JPHOjaIVtvC9rqWh3ksMDYt7K6eceYq9k3LtYqOlfT/jj4Z+GviLDbx+INJh1A27boZSSksR77XUhh+BqPTfhT4T0rwpceGrXQbJNDuiTc2bx71nz1L55Yn1OTQBwXxKjh1H40fDSzeOO5ikhuzLDIoYNGUUZZT2+vFcv4e+Hnhm1+K/xPKeHdNQWlnC9vttE/csYiSVGPl/CvV/A/wR8E/DW8mu/DmgW9heTLsa43NJJt67QzEkL7Dit6HwdpMOp6jqEenQLd6kgjvJsfNMoGAGP0oA+U/APwy1fxz8O/D1rpvgLR9Cma5FwPFZvUF0irMSXVUTfuOMYJA9a9U+FdzFbRfFxZ5VV7bV5nlMkoBRTApDH0GM17Jofh+w8M6XBpul2kdjYwAiOCFcKuTk4H1NcV4v8AgB4C8d69/a+t+GrO91BgBLMdy+cB0EgUgOB/tZoA8F1Twjomqfsl+CtTvdGs7i/drBBdTwq0pja4BxuIztIPTPOa+qfDnh/TPDemxWulafa6bbYDeTaRLGmT3wBim6x4P0bXtBi0a9022uNLiMZjtHjHlp5ZBTA7bSBj6VrRxlFC9ABgAdKAHjpS0gpaACiiigAooooAKKKKACiiigAooooAKKKKACiiigAooooAKSkEi+uPrS7h60AFFG4etG4UALRSZpaACiiigAooooASilooAKKKKACiiigApMUtFABRRRQAUUUUAFFFFACUtFFABRRRQAUlLRQAlLRRQAUUUUAFFFFABRRRQAUUUUAFFFFABRRRQAUUUUAFFFFABRRRQAm2ilooAKKKKACiiigAooooASilooAKSlooATbRilooAKSlooAKKKKACiiigAooooATFLRRQAUmKWigAooooAKKKKACiiigAooooAKKKKACiiigAooooAKKKKACiiigAqlrM7W2kXsyNteOB2DehCk5q7Wd4i/5F/U/+vaT/wBBNAHG+G/Bq6xotle3Gsas888Ykcrc7Rk+gxWn/wAK7t/+grq//gX/APWrQ8Df8ilpX/Xuv8q39ooA5D/hXdv/ANBXV/8AwL/+tWR4h8Pt4Xm0W6tNU1Jnk1O3gdJ7jejIzYIIxXo20VyPxGH+j6F/2GLT/wBDoA65RilpisafQAUUUUAFFFFABRRRQAUUUUAFFFFABRRRQAUUUUAFFFFABRRRQAUUUUAFFFFABRRRQAUUUUAFFFFABRRRQAUUUUAFFFFABRRRQAUUUUAFFFFABRRRQAUUUUAFFFFABRRRQAUUUUAFFFFABRRRQAUUUUAFFFFABRRRQAUUUUAFFFFABWR4s1SbRfDepX9uFM1vA8iBhkZAOM/jWvXO/EP/AJEfXP8Ar0k/lQBk2um+ObiCOQ+IdLG9Q2P7ObjP/bSpv7I8cf8AQw6X/wCC5v8A45XUab/x42//AFzX+VWqAON/sjxx/wBDDpf/AILm/wDjlVV1DxRoXiLSLbVNQsL+0vpmhKwWrRMMIWDA7j6V3lcj4w58UeEx/wBPj/8AopqAOtX7opaQdBS0AFFFFABRRRQAUUUUAFFFFABRRRQAUUUUARzXEVsqmaVIgzBQXYDJPQfWov7StBvzcxDY2xsuPlb0Poa4741aBc+IPh3qS2Ku+oWRS/tlj+8ZImDgD3IBH4181+C/D/jDV/Gelpe6dfx2fi2Qa/evMp2WjxggRN/dJODj2oA+lLj4xeG7XVPsU175LNejT4pZNojkmxkqpJ5xWn428daf4D0mK9vxczmaZbeCCzhMs00jHhVX/Hivm6HSbWTwb4Hn1LT2ujp3iib7cWgMrRMWOCwHOM45r0j4keOvFnwt8N3mqalFaeJGuJ0i0qDTdPkY2rE8SS8klVHpigDq9L+N2hajpNxfyw3+mrZ30en3sF7BsltZHxsMgyQFO4fMM9a7XXju0HUsf8+0n/oJr5tt5dKuv2efiJdx3WoalrOoI7395qFo1s010ygRCNGH3QdoUDpXvlqtzH8PI1u8i6XTMS567/K5/WgCz4HX/iktK/691/lW7WD4HP8AxSelf9e6/wAq3qACuQ+I3/HtoX/YYtP/AEOuvrzH9oS81rTfAsN74eiiudZtdRtJ7e1mHyzlZAWj9iVDAe+KAPSlqSuf8D+MNP8AHnhnT9b0191rdxhwrcMh7ow7MDkEeoroKACiiigAooooAKKKKACiiigAooooAKKKKACiiigAooooAKKKKACiiigAooooAKKKKACiiigAooooAKKKKACiiigAooooAKKKKACiiigAooooAKKKKACiiigAooooAKKKKACiiigAooooAKKKKACiiigAooooAKKKKACiiigAooooAK534h/8iPrn/XpJ/KuhzXzZ+2R+1h4W+Avhb+wJpU1Txhr2LOw0aJ/nzIQolk/uoM/jQB9E6Wd1hbEf881/lVuqGh+Yuj2XnbfN8lN+3pnAzir9ABXI+Lv+Ro8Jf9fcn/opq66uQ8Y5/wCEm8J46/a3/wDRTUAddSM4XrXg3iL9pafwxqiabd6TG15F4gOmXiqxxDaYDLc/iGX260yx+KWrfEjxlaWNmBYWMEV5fRlGIF0kbFIix9CRnigD3wOCM5pPNXjnr7GvEfgn8V5pPA9j/wAJprNpHrd9czJbYLsZFDkDrmufvNP1LTPijotlo/inVNe8SyX5n1VVnb7Hb2J6o6fdXjoBzmgD6QVg3IOaWvNfhL4gvZNT8X+HL6Z7mXRNSCQzSHLGGVRIik+3zD8BXpVABRRRQAUUUUAFFFFABRRRQAhG7imrGFzT6KAMrTPDGnaPeX1zaQCKS9k82fB4ZvXHrWmEC5wMU6igDL13w1p/iSG3h1GH7RFBOlyiMeN68qSO4B5x7U/Xl/4kOpf9e0n/AKCa0aoa/wD8gHUv+vaT/wBBNAFHwOP+KT0r/r3X+VbtYfgf/kUtK/691/lW5QAVx3xIO2DQzjP/ABN7T/0M12Ncb8SP+PfQ/wDsL2n/AKGaAOL01R8IPi5Jpp+Twr4vle6tMnCWuoDmWMegkHzj33V7LkHpXJ/EzwLD8RPCF1pLyfZ7nImtLpfvW86HdHIPof0JFZvwc8czeMvDUkepxfZfEOlzGw1O2PVJk4yPZhhh9aAO/ooooAKKKKACiiigAooooAKKKKACiiigAooooAKKKKACiiigAooooAKKKKACiiigAooooAKKKKACiiigAooooAKKKKACiiigAooooAKKKKACiiigAooooAKKKKACiiigAooooAKKKKACiiigAooooAKKKKACiiigAooooAKKKKAPKf2nPHHjj4e/CHWNZ+HnhlvFXiWJcQ2inJjUg5l29X29do61+G/wQTxP8fv2stHuvF95dajrM17Jf3kt1nd+5DORg9FBXGBxX7mfGzxRqP2PTvB/h6byfEniOU20Myn/AI9bcDM9wfZEzj3K1ja9+z38PfCOkf8ACR6V4YsbTX9G0eSxttSjjCTGIrht5XAdjySxGck80AevaS3mafbN/wBM1/lV2qmkgLpdoBwPKX+VW6ACuQ8Y8+J/CX/X4/8A6LauvrkPGH/I0eEv+vx//RbUAc34m+APhzxf4k17Wrw3Qutb0waZcLG+EVQc+Yo7P2z7VXg+EreD9e8IXOgQm4sdMsm0e6jlcBzAeQ+e7Z6/WvVof9WtSUAcL4I+Flj4L0eTTlnk1GMTSS28l1GjPbhiTtU46AmuV8Kfs7P4L1651Sx8beIJFuLtry4s5ZUKTsTnaxxnb2xXsm2g0AcF8MPB99odx4h1jVFEWqa1fG4kjVw3lxqAkaZH+yM/jXfUwDFPoAKKKKACiiigAooooAKKKKACiiigAooooAKqavbyXelXkEQzJLC6L9SCKt0UAef6DrniTR9HtLF/BV9I8EYjLpeWpVsdxmQcfhV//hL/ABF/0JGo/wDgZa//AB2uxooA47/hL/EX/Qkaj/4GWv8A8drK1y78QeKLjR7dvCl5YJFqMFxLcT3VuUREbJOFck/QCvRqaw5oAX7orxv4lW8vwz8c2PxBsY2Gl3Oyx8QRRjgxk4juMeqEgE+hFeyDpVPV9Jtdb0u7sL2ITWlzE0UsbdGUjBFAE9vOlxCksbB0dQysOhB5BqavIvg7qtz4U1bUPh3rEzSXOlL52lzyHm5sifl57sn3T+Feu0AFFFFABRRRQAUUUUAFFFFABRRRQAUUUUAFFFFABRRRQAUUUUAFFFFABRRRQAUUUUAFFFFABRRRQAUUUUAFFFFABRRRQAUUUUAFFFFABRRRQAUUUUAFFFFABRRRQAUUUUAFFFFABRRRQAUUUUAFFFFABRRRQAUUUUAFVNV1KDR9PuL26lWC2t0Mskj9FUDJP5Vbrx34sXcvxE8UaZ8OLEv9ml23uuzRnHl2qniPPYyHj6ZoAk+Dmmz+LtY1X4lapHJHPrH+j6RDJwbfT0OVOOxlYbz7Ba7zx1bSXfg3WoIonllktJAscaksTtPAA6n2rbt7eO1hjihjWKKNQiIowFUDAAFSUAchp/xF0WGxt0eS8V1jVSrWE4IOP92rH/CytD/563X/AIAT/wDxFdN5I9f0FHkj1/Qf4UAcz/wsrQ/+et1/4AT/APxFY2peJbLxL4s8Mx2AupWhuXkdms5UVV8tuSzKAK7/AMkev6ClWPac5/QUAJGu1VHWpKKKACiiigAooooAKKKKACiiigAooooAKKKKACiiigAooooAKjuLhLW3lmkOI41LsfYDJqSqHiDjQdS/69pP/QTQBzMHxUsbqNZIdK1iaNhlZEsztPuOak/4WZbf9AXWv/AP/wCvWl4Fbd4T0o/9MF/lW/QBx3/CzLb/AKAutf8AgH/9elj+J1g11aQS6dqlobqdLdJLi12pvY4AJzXYVx/xI/1Hh/8A7DNp/wCh0AdhRSLS0AeYfGrwne3NpY+K9BQnxH4fc3MCrx9oi/5aQn2Zc/jXZ+CvFln448L6frlg+62vIxIF7oejK3oQcg/StplDDB6V43pb/wDCnfisdKYeV4U8WSmSzJ4S11DktGPQSDkf7Q96APZqKKKACiiigAooooAKKKKACiiigAooooAKKKKACiiigAooooAKKKKACiiigAooooAKKKKACiiigAooooAKKKKACiiigAooooAKKKKACiiigAooooAKKKKACiiigAooooAKKKKACiiigAooooAKKKKACiiigAooooAwPHPjCz8C+F7/AFq9P7m1TIQdZHPCoPcnArlPgv4Tu9H0W717WVz4j8QS/bbxm6xKf9XD9FX9c1hakT8XPisNLXMvhbwtIJbvutzfdVT3CDn617KFxQAlMnnjtoXlldY4kBZnY4AA6kmpNtc98RAB4F17I3D7HJkevy0ATjxtoW0H+1bX/v6KP+E20L/oK2v/AH8FGmeG9LbTbX/iX2v+qX/livp9Ksf8IzpX/QPtf+/K/wCFAFf/AITbQv8AoK2v/fwVNZ+KtI1C6S2ttRt5p3ztjSQEnAzTv+EZ0r/oH2v/AH5X/Cub8RaPY2HirwrJb2kMMn2txujjCnHlt6UAdxRTEbco+lPoAKKKKACiiigAooooAKKKKACiiigAooooAKKzNe8R6d4ZtYLjU7pLSGadLaN5M4MjnCrx6mslfid4ZM2oRf2xbGXT7lbO6VSSYpm+6h46mgDqaK8c1P8AaN0nSdTsUubSRNPv9VOl2l0GdvMcfefCo3GeMV6L4s8WQeE/D9xqs1rd3scS5EFjA000h7KqqOpPrjHegDerP8Qf8gHUv+vaT/0E153pHxoOofCfTfHs+kyWljJJ/pts8oMltF5hjLcDBKnBI9M816BrMyXHhq+ljYPG9rIysOhBQkGgCn4D/wCRR0r/AK4L/Kugrn/Af/Io6V/1wX+VdBQAVx/xI/1Hh/8A7DNp/wCh12Fec/HLxCvhXwvYau9je6jHY6nazPbafF5s7qJOdiZG4gc4BzgHHOBQB6KtLWR4X8VaT4z0O11fRL+HUtNul3xXELZB9QR1BHQg8gjBrXoAK5f4leBrf4ieD77RppGt5ZFEltdR/ft5lO6ORT2KsAa6iigDz/4M+Orjxl4bmttVQW/iXRZjpurW3pOgH7wf7EikOp9D7V6BXjfxOtz8L/Gtj8S7JMabKsem+JYYx962LYiusdzEzYJ67GP90V7DDMlxCksTB43UMrL0IPQ0APooooAKKKKACiiigAooooAKKKKACiiigAooooAKKKKACiiigAooooAKKKKACiiigAooooAKKKKACiiigAooooAKKKKACiiigAooooAKKKKACiiigAooooAKKKKACiiigAooooAKKKKACiiigAooooAK4P4yeOJvBPhP/iXL53iDU5VsNLt+ped+A2P7qjLE+grvK8Y8B7viv8Sr7xzKu/w9pJk0zw+rfdkYHFxdD/eYbVPovvQB3Xwz8BQfDzwnaaXG/n3ODLd3LD5552OXdj7kmutoooAK5z4jf8iHr3/XnJ/6DXR14x8ff2gvAPw70ufw3rfiK2j8SashtbLRbU+feTO3A/dJkqvOdz7RgHmgD13S/wDkG2v/AFyX+VWqq6X/AMg214x+6X+VWqACuS8Xf8jL4V/6/G/9FtXW1yXi7/kZfCv/AF+N/wCi2oA6mP7q/SpK5/UPG2h6LeXNnfajFbXNrZHUJkkyNluDgyE46A+lY+ufF/w1pOhnUI9RivFksRf28cJJaaNjhCvHRiQKAO4orzbwT8aLDxZ42v8Awm9q9rq9jaRXUw+dl+cZ2glAOPrTfi18Zrf4ZXGmWw0bUNWur6eOLdbxEQQKzBd8kh4HX7oyTQB6XRXJr43S3+IY8K3cHkS3Fobyyn3EidVIEi9OGXIPuD7V1lABRRRQAUUUUAFFFFABRRRQByXxW8KzeMvAOrabahTfmMTWhY4AnjYPGc9vmUV8/wDgv4D+MLTxZ4futTghSz1BP7S8QFJs/wCnKCEA45HPX2r6sPNAXFAHzDofhzVZPC3h2zsdNk1HUPDPiOR76zSRUk8tmOJBu68HNe36B4Ou9Dm1K5l8Ratqy3ikraahIrRwE84TCjHpXURWkMNxJMkSJLJ991XBb0z61OeaAPn/AFLQ9Q8H/svaj4f1K2A1m8imsYLVG3l5Z5SIwp7n5gfbB9K9dt7GTS/h+tjK26W203yXb1ZYsH9RW7NZwXXl+dEkvlsHTcudrDoR71W18Y0LUj/07Sf+gmgCh4DX/ikdK/64L/Kt+sDwK2fCOlf9cF/lW/QAVyHxGb/R9BH/AFGbT/0OuvrjviP/AKvQP+wzZ/8AoZoA47xV4D1j4d65deLvAUKyi4fzdX8Nk7Yb71li7RzYHUcNjnnmu+8D+PtJ+IWirqOkzFlDeXPbyrtlt5B96ORTyrCuhNeXePPhvqFrrDeL/A8kWm+JUX/SbVuLfUkH8Eo/vej9aAPU6WuM+HPxLsfH1lMgifT9Zs28q/0u4+Wa3k+ndT2YcGuzoAq6npltrFjcWV5CtxaXETQzQuMq6MMMpHoQa8r+DuqT+C9X1L4batPJPcaUPP0m4mOWurAn5Oe7R/cP0HrXr1eZ/Gzwjd6hYWPijQ0P/CT+HXN1a7etxF/y1gPsy9PcCgD0scjNLWF4L8XWfjjwzYazYtmC6jD7e6N/Ep9CDxW7QAUUVFJcJEwVmVWP3QSBn6UAS0UzzV6Z5o81dxGR+dAD6KaGp1ABRRRQAUUUUAFFFFABRRRQAUUUUAFFFFABRRRQAUUUUAFFFFABRRRQAUUUUAFFFFABRRRQAUUUUAFFFFABRRRQAUUUUAFFFFABRRRQAUUUUAFFFFABRRRQAUUUUAFFFU9W1S10XTrm+vJVgtbeNpZJGOAqqMk0AebfHDxFfXVvpXgfQZmh1/xNIYDNH96zswM3E/sQuFU/3nFd/wCF/Dlj4S0Gx0jTYFt7GzhWGKNeyqMfnXnHwU0e58TahqvxI1eFor3XgsWmwSfetdNRiYVx2aTmRvqvpXrgFAC0UVwPxK+KEfg82+k6bbNq/ivUDssdLiPJ/wCmjn+FB3JoA+Gf+Cpn7QXxw+Ddzp1j4V1W20HwbqsTL9u0sY1AOB8wd8kovTDJj0JryX/gmT8A7zxRp/jf43eLBLqLQW09npE18xd5ZmX99Pk9wMKD7tX6P6V+z/pXiHw/rS/ECKHxVrPiCAwalLOuY44iP9TCD9xVz1HJIzWhb/DXQ/hH8DZ/CXhu0Fno2l6fJDbw5ydvJJJ7kknJoA9G0z/kHWuOnlr/ACqzVXS+NNtv+ua/yq1QAVyXi7/kZfCv/X43/otq62uS8Xf8jL4V/wCvxv8A0W1AHn3x9+GWteNNR8OXWhxJL5jNpmqqz7CbGQgvj1wVHHvXm/8AwpvxJ4V8E+KJ9St4zHpt3BDpkcL72bToJN4+h5PHtX1lHjavHalliWaN43UMjDBVhwaAPDtN8J6t4k+IGtX1rJfaZoutafbPb63pkyB42Qcpgg4z610fxQ8B6tq3w9sNH0+ebWb62vbaVp72QCR0SQMxZgOuAe1emWtvHaQJDEixxoMKqjAA9qk296APKvEcR134/eDktBuGiWd5dXrr/AsqCONT9SScf7NerVWWxiS4knWJFlk2h5AvzNjoCas0AFFFFABRRRQAUUUUAFFFFABRRRQAUUUUAFUPEH/IB1L/AK9pP/QTV+mTQpcQvFIu+N1Ksp7gjBFAGH4IZY/CelgsM+Qv8q2/OT+8PzrlF+FPhuNSqWlxGvZUv7hQPoBJxR/wqvw9/wA+91/4Mbn/AOOUAdX5yf3h+dch8RnDRaAQc/8AE5s//Q6k/wCFV+Hv+fe6/wDBjc//ABynQfDLw/a3dvcLZzPLbzLPEZryeRVdejbWcjIzQB1VDJ7UU+gDzr4i/Ck+JLqDXtAvDofi2yH+j30Y+SUf88plH30PvyO1O+G/xUHie6uPD+uWp0XxjYqDdabIeJF6edCf44z6jp0Neh1xXxI+GNj8QLe3l8+TSdcsiZNP1m0wJ7WTsR/eU90PBFAHa0V5Z8PfijfRa8fBXjmGPTPF8aM9tcICLXV4l4M1uT/EON0f3lznkc16nQB4xpZPwg+KkmmvmLwt4pkM1p/ctr3q8fsH6j3r2auW+JHgeHx94RvdJdvJuGAltbgfegnXlHH0NZPwb8cXHi/w7JbaqPJ8RaRIbHU7cjBEq9HA/usORQB6BXy38StH1KPxl4t1XVtI1TxRoUjhbXU/D99++0jZGu5TBkHKkFiQDnNfUleZeIPgHo+taxqmoW+s65og1U7r+10u7WOG5bGCzKyMQSOCVIJoA5L4W+IjrPxauvs2rXOqaY3h2xmglmyDJnOXK9mOOa8l8falrt9Yz/2dql5Dcw+L7hozHK2GWNd3l+69eK+g/EP7P/h7V10prK71Tw7c6daiyhutGu/JkMI6I2VYMPrz71b0r4G+GNJ0/RrKGO6kTS7l7xJJpy0kszDDNIcfMTQB4/4m8eX/AI4+JXw2u9Ov54NKtrqBLmOGQhJZpFO5HA64weK+pV+70xXnGi/APwp4ftrWKxhuo1ttTOroGnLfvznqcfd56V6OvSgBaKKKACiiigAooooAKKKKACiiigAooooAKKKKACiiigAooooAKKKKACiiigAooooAKKKKACiiigAooooAKKKKACiiigAooooAKKKKACiiigAooooAKKKKACiiigArxv4pXUnxK8aaZ8ObNmGnYXUNfmjP3bZWBSAnsZGGPoDXoPxA8YWngLwnqGt3hPl20eVReWkc8KgHck4Fc78FfBt34c8P3Or6yN3ibX5ft+os3WMkfJCPZF4+uaAPQYY0hjWONFRFAVVUYAA6ACpKatea/Ej4nXdnq0XhDwhCmp+MrtN535MGnRH/AJbzkdB6L1b6UAWPiR8UJPD97B4d8PWo1jxhfL/o9kp+SBe80x/hQfrU3w4+F8Xg17nVtSum1nxVqHzXuqTDk/8ATOMfwoOwFTfDb4Z2ngKxmkluH1bXb0+bqGrXAzLcP/7Kg7KOBXa0AIM1z/xC/wCRG13/AK9JP5V0NUta0mPXdIvNOmZkiuomiZl6gEYyKAJ9N/5B9t/1zX+VWa42PwdrUMaxx+LbxUUYUfZozgU//hEtd/6G67/8BYqAOvrkvF3/ACMvhX/r8b/0W1N/4RLXf+huu/8AwFipbXwTdtrFjfahr1zqIs2LxwvCiDcVIycfWgDqo/ur9KkpirtAp9ABRRRQAUUUUAFFFFABRRRQAUUUUAFFFFABRRRQAUUUUAFFFFABRRRQAU0rmnUUAN206iigAooooA5j4gfDzR/iToR0vWIXKK4mt7m3cx3FrMv3JopByjqehH45HFcN4R+IOs+A9ctvCHxCnWaSdvL0jxMq7YdRHZJh0in9ujYyPSvYKxfFXhHS/Gmh3OkaxZw3thcLteORc+4IPYg8gjvQBsK+a8d+J0Mnwv8AGln8RrGMnTpQtj4giQfegJ+SfHrGT+RNQab4k1j4H6hb6N4ru5dW8ISt5dh4imy0trk4WK5PoOgk/Otn9ojxvqPgz4O+INa0TwpJ44mS2bGmQOB5qMOW6HcADnA60AemWt1HdQxzRSLLFIodXQ5BBGQQfpUo/Kvw3/Zw/bO8f+IP2rPhtD4n168t/DVnqJ02HRBIyw28cpMaoynrtJUZbJ+Wv2C8P+H73xLb3V7ceIdXhkN5cRiKG5KIqpKygADpwBQB6MRmk21xv/CAzf8AQya5/wCBrUf8IDN/0Mmuf+BrUAdnS15v4m8M3mgaPPqEHiPWGlgw4WS7ZlPPQg9a9CtGZ7WFmOWZASfXigCaiiigAooooAKKKKACiiigBC22k3eoI/CuK8ZWA1rxdoGnTTTx2kqTPIkMrR7iF4zg1P8A8Ky0kf8ALbUP/A2T/GgDrt49/wAjRvHv+Rrkf+FZ6T/z31D/AMDZP8aP+FZ6T/z31D/wNk/xoA68MG6UtcX4BtWsLzXrRZ5preC62xrPIZCox0ya7JaAHUUUUAFFFFABRRRQAUUUUAFFFFABRRRQAUUUUAFITilrifGlous+JvD2nSzzxWswuGkjhlZN+0LjJB9zQB2m71BH4Ubx7/ka5D/hWelDpJff+Bsn+NL/AMK10v8A563/AP4Gyf40AddvHv8AkaVWDf8A6q5D/hWul/8APW//APA2T/Go/AVr/ZmteJdPSeaW2triLylmkLlN0YJGT70AdpRRRQAUUUUAFFFFABRRVHXJGi0a9dGKusLEMOoOKALm4fSjcPWvP/DPgWw1Tw/p93cT30k80KySMbyTlj1PWtP/AIVtpf8Az0vv/AyT/GgDrdw9aPMHr+lcl/wrbS/+el9/4GSf41wHxlsbz4f+HbO+8Lrfz65cXaWlun2h5E3PxucE/dXr+FAE98w+L3xeisMCbwv4RlE8+fu3N/j5E9xGPmPvivYxjmuT+GfgmLwH4Ps9K3/aLoZlu7huTNO5y7n6n+Vcp4z+IGqeKtcn8G+BZB9vT5dU13bvh0xD1C9nmI6L26mgCfx98StTvtebwT4DSO88UsgN7qEo3WuixMOJJf70p/gi6k8nCjnpfhv8NdN+G+kSW1s0l7qF1J599ql22+5vZj96SRu5PYdAOBgVL8P/AIe6R8ONDXTdJib5mMtxdzNvnupW5aWVzyzE9zXVUAN20badRQA3bSgUtFACbeaKWigBKKWigAooooAKKKKACiiigAooooAKKKKACiiigAooooAKKKKACiiigAooooAKKKKACiiigAooooAKKKKACiiigCjquj2et2E9lfW8d1aTqUkhlXcrKeoIr5T+O3xs/wCGF/Ds93dTLr3hS8DppelyzD7VaTEHCLnlov5V9dV86ftTfsReBv2rIobjxBLf6frVpGY7W/tJuEHvGflI/KgD87vC3w1tP26vDN38TvAVvYeHfjR4dvxd6hotsBFb6hGH3xyKP4X4xnufrX6t/Au8uNU+G2m3t3E9vdXDzSSwycMjmRt6n3DZr84Ph3+xZ8Zf2F/jdp3jrwso8ceDRJ5Gpw6acXD2rff3Q9SVxuGM8gV+lfwlvItQ8JpdW4YQTXV1JGHUqwUzMRkHocUAdnto206igDl/iMuPBuo/7g/nXQWH/Hjb/wDXNf5Vg/Ef/kTdR/3B/Ot+x/48bf8A65r/ACoAnooooAKKKKACiiigAorN8QeJNL8Kaa+o6zf2+mWEZAe5upAkaknAyTU2m6tZaxapcWN1FdwOAVkhcMpB9xQBz2t/8lD8N/8AXG4/9Brq8ZrlNb/5KH4b/wCuNx/6DXVrQAbaNtOooA5Pwa3/ABOPEuf+fwf+g11dcb4UmW21LxVMwJWO63HHXhao2nxu8LXl5oFot66z60s7WqNGR/qs7w3oeD1oA9BorxnWfj4JBLdaFaSXtjZ6LPrVzuQiQoCUiRR23MCc+gq34e+M1zqS+Bb68tPsmm+JoCgWVCkkVwF3bSD/AAkZx9KAPW6KSloAKKKKACiiigAooooAKKKKACiozcRAE+YuAcHnoazte8T6b4bs/tN/cCKPzFiGBuYsxwoAHJJoA1K4/XP+R88Mf7t1/wCgpU8vxM8PJHM4v1Kw3q6fKwBxHM2MK3p1HJ9aZrzD/hOvDHy87Lr+SUAdXto206igBu2uT8Kn/ir/ABf/ANfEH/okV11ch4VB/wCEw8Yf9fFv/wCiRQB19FJmjIoAWikyKMigBaKKKACs/wAQf8gO/wD+uD/yNcl4e+O/gDxT4h1DQdN8V6ZPrVhM1vc2H2hVmjdeoKk5rqtfmRtCvip3AwPgjvxQBV8ED/ikdI/69k/lW3trE8Ctu8H6Qf8Ap3X+VbtADdtcn4+DeZoQA4+3oT+Rrrq84+Nnh+fxPoul6bBqVxpX2i9RJLi1x5mz+IKexI4zQBieJvGGrfEbWrjwl4IuTbwREpq3iBBlLUd4oj0aQ/pXoPgfwPpfw/0GHSdJt/Kt4/meRjmSVzyzu3VmJ5JNT+FfC2l+DdFt9K0i0W0s7cYVV6se7Me5PcmtqgBu2nUUUAFFFFABRRRQAUUUUAFFFFABRRRQAUUUUAFFFFABRRRQAUUUUAFFFFABRRRQAUUUUAFFFFABRRRQAUUUUAFFFFABRRRQAUUUUAFFFFABSYFLXxv+29+35ffsl6hbaRa+BLjWLy/h8y01S6m8uyz3XgEsw9MigD7ClZMFT+Ncr8L8L4dcDp9tu+n/AF3avy5/Zx+Mfx5/4KE/GBNL1vxNeeHvhxp7C61i18Pf6FG0QbIg8xfnJc8cseMmv1C+FNnDp/hcWtsnl28F1dRxrknaomYKM/QUAdpRRRQBxXxkj1Sb4d6smjXFna6gUHly30LSxDkZyqspP5iuUtdD+Nn2WHZ4t8Ghdi4B0K49P+vmu6+I/wDyJuof7o/nW/Zf8ecH+4v8qAPK/wCw/jd/0Nvgz/wRXP8A8k0f2H8bv+ht8Gf+CK5/+Sa9booA8k/sP43f9Db4M/8ABFc//JNH9h/G7/obfBn/AIIrn/5Jr1uigDyT+w/jd/0Nvgz/AMEVz/8AJNH9h/G7/obfBn/giuf/AJJr1uigD4S/4KG6P8UYP2U/Fr+IvEfhm+0wGHzLew0maCVvn42u07Ac+1fAv7J/w0/a01Ca1u/haniTSNJZgy3V/L5GnsPXE3yMP90Gv3b1XR7DXbQ2upWNvqFqSGMN1EsqEg5B2sCOKswwx28aRxIscaDaqqMAD0AoA8B+Dek/FvR9Y8NRfFnW/D+s6z5E+xtDtpIwPk53uxAJ/wB1QK+gK5LXB/xcXw1/1xuf/Qa66gAooooA5DwaobWPE6sMg3YyP+A14h4m/Za8RahdeKLvTdcsLW6mukl0JmV/9EjZszh/l4Lc4xmvb/Bn/Ia8Tf8AX4P/AEGusoA8EuPh83hnxveaLBmKz8QeE/7GtbtlPlpcQqw2sRyAVct+BoXwzrd6nwt8KanaQxalozC8vZLWUzRJHCnlo28qvLk9MZFe9qo3ZxzjFKqhelACjpS0UUAFFFFABRRRQAUUUUAFI3KkdKWigD5O+N1j4gXx5qXhjSZ9Rit9WRNbS4gLkRGAZePI4G7HTvUfhO+1DxRe+BPFGspcQ2uua4Xe3uQyiPZGVjBU9MsCelfWPljcTjBNZPifwrp/izT0tNQhLxpIsqMjFXR1OQysOQc0AfMTaboek+CfjvbQ7IdX+3vO0LFt4yEMTDPq3QjvXu1u07a34E+1FjdfYJPNJ/v+Wm79c10fiLwhp3iq2gttRSSW3injuTEHIWRkOVDj+IZwcH0rP1xcePPDPHGy6/8AQVoA66iiigArxG28H+PNQ8feNJNN8ew6Xam6hMcDaOsxVTF03eYM4+le3VyfhUZ8XeL/APr4g/8ARQoA5P8A4V78Tj/zVC3/APBAn/x2j/hXvxP/AOioW/8A4IU/+O16xRQB5P8A8K9+J/8A0VC3/wDBCn/x2j/hXvxP/wCioW//AIIU/wDjtesUUAeUj4e/E7/op9v/AOCBP/jtI3w/+JnQ/E+3I9P7BT/47Xq9JigD8DviP+zH8aPit+0t41bwh4f1fXrmPVpUfXLa3Nlblt33vMYhV/76r9Bf2Y/2Zv2kPhjorSeOfi7C2kJCzNoLRHUnK7fuGZ9uz/gJYV91LEirtVQq+gGKo66qrot9x/ywf+RoApeA/wDkTdH5z/oyc/hW9WB4Cx/whukY/wCfdf5Vv0AFch8QZo4ZNCMjqgN+gG44ycHiuvrzn42eFdN8aaLpmk6rHI9tPeph4XKSROMlXRhyrA85FAHoS1JXj/hfxxq/w51u18IePLgTxXDeXpHiVsLHeDtFN2SbHfo31r1/cKAFooooAKKKKACiiigAooooAKKKKACiiigAooooAKKKKACiiigAooooAKKKKACiiigAooooAKKKKACiiigAooooAKKKKACiiigAooooAKKK8p8XfFbUNW1qXwr4Agi1XXkO271GQZs9NHcuw+8/og/GgDo/iF8UtK8AWsaSCTUtYuDstNJsxvuJ2PQAfwj/AGjxXhHxo/Zdk/aa+H+py/FPUf7LumheTSrK2m22+kNjiR2/jfHUnjGcV7h8PfhXY+DXm1G7nk1rxJdnfd6vdcySN6L/AHVHYCuT/a38A6P8R/gjr2k65ruoeH7Dy97XOmylJGYfdTA+8CeNvegD84pP2jNJ/Zt8K6T+z98B7yHVPFmqXsdrrHjKJAVNzKwQiH1K5wG6DtX6ifA/T5NH+H1lp8sjyyWss0LySNuZmWRgST3JOa/LX9lD/gn/APED4a/tXeBNW8UaSz+F4RJq8WofeQbVJjST+7JuKnFfqR4bm17wzZ3Fk3h+W7Iu7iVZo51CsryMwIB9iKAPQaK5X/hKNc/6Fe4/8CEo/wCEo1z/AKFe4/8AAhKAJPiP/wAibqH+6P51v2X/AB5wf7i/yrh/FGoeIPEGiz2EfhqaJpsLva4TC89a7q2jMdvEjcMqgH8qAJaKKKACiiigAooooAKKKKAOR1z/AJKJ4a/643P/AKDXXVyninS9Vk8Q6PqmlwQ3JtFlSSOZ9nDLjINI2peLu2jWX/gVQB1eaM1yX9peLv8AoDWP/gVR/aXi7/oDWP8A4FUAHg1SuteJQev2sf8AoNdZtNc34N0vUrKXVLrU4oYbi8n8wRwvuCgDHWumoAaop1FFABRRRQAUUUUAFFFFABRRRQAUUUUAFJS0UAJtFcjrjH/hPPDP+5df+grXXVyfizStVm1jR9S0qGGeSz85XjmfbkOAAQfqKAOtork/7T8X/wDQGsv/AAJo/tPxf/0BrL/wJoA6yuT8K/8AI2+Lv+viD/0SKP7T8X/9Aay/8Cak8G6XqlrqGt32qQw28t9NG6RwvuACoF6/hQB1FFFFABRRRQAUUUUAFZ+vf8gW+/64P/I1oVV1S1a8065gQgPJGyKT0yRQBleAsf8ACG6R/wBe6/yrfrg9BXxdouj2lgNKsZPs8Yj3/acbsd6vf2l4x/6A9j/4E0AddXmXx28WR+CdD0jV57WW6tYNRh87yusaE4Ln2Het/wDtLxj/ANAex/8AAmszWtH8ReLmsrPVNNsodOEpa4xNv3JggjH40Ab/AIg8P6J8RvC8ljqEMeo6XexBh3BBGVZT2PcGvOvDvizVvhDq8HhnxncNeeH5iI9J8Szfw+kF03Zh0Dng96sfB68ufBut6t8PNTlLvp5N1pUsh5ls2PCj12E4r0vWtDsfEemXGn6lax3llcIUkhlXcrA0AaKSLIoZWDKRkMvQ/Sn14fZ6lqf7PeoRadq8k2p/Du4kCWWqOS8ukMTgQzHqYugV+3Q17ZBcRXUKSwyLLE6hldDkMDyCDQBJRRRQAUUUUAFFFFABRRRQAUUUUAFFFFABRRRQAUUUUAFFFFABRRRQAUUUUAFFFFABRRRQAUhIHXilqlrR26NfkdRBIR/3yaAJP7Rtc4+0xZ/3xS/2ha/8/MP/AH2K4jwb4F0C88NadcT6TbSzSRK7u6ZLE9SSa2/+Fe+G/wDoC2f/AH6FAG5/aFr/AM/MP/fYoXULWRwi3ETOeihxk1h/8K98N/8AQFs/+/QrnfGHhPR9Fk0G4sdNt7WddXtcSRJhuXwRn0waAPRqKarGnUAFVtQ1K10mxnvLy4jtbWFS8k0rBVRR1JJrA8ffETRfhzo41DV7rb5jiK3tYl3z3Uh6RxoOWY+grz7T/h/rfxdv4ta+IMTWGhRsJLHwej5XjlZLxh/rG7+WPlHfJFAEU3iDxH8eLj7P4bluPDngQZWfXtpS51IZwVtQfux4yPMPX+H1r1Dwn4Q0rwPosOlaLZpZWcY+6vLM3dmPVmPcmtm3t47aFIokEcaKFVFGAoHYCpNtACKa8Wuk/wCF1/E77KD5ng7wvOGuP7l7ejkJ7qnU++K6L4yeMrrS7Ox8NaE2/wAUa+zW1oqnPkR/8tJ29Ao/Wum8B+C7LwD4VsdFsAzRW6fPK/LSyHl3Y+pOTQB0O0UBcN1paWgAooooAKKKKACiiigAooooAKKKKACiiigApGpaKAGUU+igAooooAKKKKACiiigAooooAKKKKACiiigAooooAKKKKACk20tFABRRRQAUUUUAFFFFABRRRQAUUUUAFFFFABRRRQAUmM0tFAHlvxw8O30djYeMdBhMmv+HZPtCxr1uLf/AJaxH2K5x713PhjxFZ+LNAsNZ09/Msr2FZom74I6H0IPB+la7qsiMrAMrDBB7ivHPh/v+F/xL1LwPOxGiat5mq6G7ZCq2cz2w+md4HoWoA9a1DT7bVrGazvII7m1mUpLDKoZXU9QQeorxhW1H9nW92yGbUfhrM+FdiZJtFZj0P8Aeg9/4fpXt9RXNvHdQvDNGssMilHjdQVYHggg9RQA3TtSttWs4rq0njubeVQ8csTBlYHoQatV4beWGpfs93smo6PBPqfw7mcveaZHl5dIJPMsQ6tF6qOV7V7Lo+s2PiDS7XUdNuor2xuoxLDPC25XU9CDQBdpCwUEk4FLWF45vZ9N8IavdW0hhuIrZ2jkUAlTjqM0Abm4etJuHrXFWfgSa4s4JG8Ua9udAxxPF3H/AFyqX/hXsv8A0NGvf9/4v/jVAHYbh60oYHoc1x3/AAr2X/oaNe/7/wAX/wAarPuNIuvC/iTw+Ytd1O+jurhopYb2RHQjy2PZAc5A70AehUUUUAFFFFABRRRQAUUUUAFFFFABRRRQAUUUUAFFFJuHrQAtFJuHrQWA6mgBao65/wAgXUP+veT/ANBNXcjpmqWtkHRdQxz/AKPJ/wCgmgDL8B/8ihpX/Xuv8q6Kud8B/wDIo6V/17r/ACroqACuR+In+p0P/sL2v/oyuurj/iRIsNroruyoi6talmY4AAfJJPpxQB1u4Z61wPxC+LUPhW+j0LRrNvEfi26TNvpNu2PLB/5aTv0jjHqeT2zXO6t8Qtb+KN9Nonw8kFvpsbGK/wDFUiZjj5wyWwPEj9t33R712vgP4b6P4BtphYxPLfXB3XV/cnfcXD92dzyTQBzvw9+FNzY60/i3xjeLr3jCcELJt/0fToz/AMsbZT90erdTXp6qFptPoAKoa5rVp4d0q61K/nW2srWJppppOAqqMmrrNivGPGF0/wAYPiF/wh0DE+F9CdbjXJFHy3M+cx2ufReGYeuBQBf+EOi3nijWdT+ImtwPBe6soi021kHNpZD7g9mb7x+tesjgY60yCNIYUjjUIigKqjoAO1SUAFFFFABRRRQAUUUUAFFFFABRRRQAUUUUAFFFFABRRRQAUUUUAFFFFABRRRQAUUUUAFFFFABRRRQAUUUUAFFFFABRRRQAUUUUAFFFFABRRRQAUUUUAFFFFABRRRQAUUUUAFFFFABRRRQAV518avBt54o8Lx3mj4TxHos66npkh4zNGc+WT/ddcofZq9FpKAOe+H/jKz+IPhDTNescpDeRBmib70MgJWSNh2ZWBU+4rodteMaezfB/4vNYnEXhPxlI0sPUJa6ooy6jsBMvP+8nvXs9AEUkKyKVYZUjBHqK8V1TR9V+AevXeu+H7WXU/Ad9L5up6HCuZNPc/euLZR/CerR9+o5r3CmSIJEKkZB4IIzmgCnoeu6f4k0m11LTLyG+sbpBJDPC2VcH0/w6joay/iLz4F1zHP8Aosn8q+Ef28P2mIv2OL99K+HN81p4i8QQySXGktGWtrQuCBdx54WTIxgcHuKm/wCCfn7Wd/8AHn4BeLPCnijU5L/xh4etpH+0TvmW7tZCSrk9ypJUn020Aff+lf8AIOtf+uS/yq3VXS1xp1rknPlr1PtVugBK5Lxd/wAjL4V/6/T/AOi3rrq5Lxdz4m8K/wDX43/op6AOtopnmp13L1x17+lZGt+LNP0C5s7e6lxPeSGOGNeSxAyfwAoA2qKx9F8W6Tr2kf2pZX8MlhuZPPLBVBBwRk+9R+KvGej+CdGn1bWr+Gw0+FdzTSMBn2HqfpQBuUVgQ+ONJnvNHtRcYk1eEz2RZSBKoUNwfXBzit4MG6HNAC0UUUAFFFFABRRRQAUUUUAcf8VPFV74J8KHWbOBJ1t7mH7Sr9oGcK7D6A5/CvJNL/aRvtb1zU9NtLKAOdTjh0wkk/abUgl5Pwwfzr3rxDotr4k0S+0m+QyWd5C8Eyg4JVgQcHsa4Pw/+z/4R8N6r4c1GytpxdaDZtY2jSS5BjbqXGPmb3oA8ll8UeK9WXwhrenamls2ueJHjnimBK+SmQqAenFdtN8ZtbX4zReGv+EZ1RrH7IzYEa4LBwBKD/dxmtHSvgmXs30u9upra007Vm1LSryzlCyJuOSrAg8dRXqK6NZjUF1AwI1+sXk/aWHz7M5Iz9RQB48ieILH9prT0vdce70280i7kttORdkUAV4wCf7ze9avhHU7qz8QfEnwtNO89vp+Lu2eQ5ZY54i+zPsc/ga7m68Eabe+NLDxRKJf7UsrWS0iIfCbHKlsjuflFcx4d8H3ujz+ONe1XZ/aOsM5CRvuWOCOMpEufXAz+NAHTfD9f+KP0o5z+4X+VdHWD4FUL4R0oDtAv8q3qACvPPjX4dsvFnhvT9I1GNpbG81SzimRHKFl8zJGRzg4x+Neh1x3xI/1Ghf9hiz/APQzQB0Wj6RZ6DptvYWFtHaWcChI4YVCqoHYCrlKtOoAZT6Kq6jqEGl2c13cyLDbwo0kkjsFVVAySSenFAHF/GDx5P4N8OxW+lRi68TatKLHSbX+9Mw/1jD+4gy7H0HvVz4ZeAYPh/4Xt9NSRrm6Yme8vJPv3M7cvIx9Sc1x/wAK7Gb4j+Jrz4k6rCy2zo1l4dtpOsFmDhp8Ho8xAP8Auha9hoARadRRQAUUUUAFFFFABRRRQAUUUUAFFFFABRRRQAUUUUAFFFFABRRRQAUUUUAFFFFABRRRQAUUUUAFFFFABRRRQAUUUUAFFFFABRRRQAUUUUAFFFFABRRRQAUUUUAFFFFABRRRQAUUUUAFFFFABRRRQByHxS8Cx/ELwbeaQX+z3RxNZ3S/et7lDuikB7YYfkTVT4P+OX8b+EklvIxb61ZO1lqdr0MVyhw4x6HqPYiu4avG/FAX4U/FK08TplNA8SOmn6sBwkV0OIZ/bd9wn/doA9mopAQwBByKWgDz/wCKvwI8CfGrSpdP8ZeHLLWY3UqsssYEsfur9Qa+ItY/4Jz6p+zj45b4j/BvxE32O3R49Q0DU2/1lo+fNRXHXjkZ9K/R2ua+Ii/8ULr/AP15yf8AoNAGxorFtJs2KlS0Skqeo4HFXaq6V/yDLT/rkv8AKrVABXI+Ll3eJPCwzg/bG/8ART111cj4vOPEvhX/AK/D/wCi3oA+aPiZceJtC8da9pGnnUPsfh27PjBGj3MJ4WCqbcHv8287fcV0nw7s7y98a6Fd62JWk1rRLzUY4585SSWTJQZ6EIVGK+nfLV/mIGSOuB09Kxtb8H6druoaXf3COl3psplt5Im2kZGCp9j6UAfL/hf4f6t4h+AFzp3g/U5bG6ivJlvLFI9zSP5ueS3QgeletePfATT/AAS1KDxAw8R6na2TyQyzQgMj7MDCjuK9dht44M+Wix7jk7FAyfU1KyhuvIoA8G8ZRzQeBvhA0CldVj1LS1hUjDBSgEo+mzdmvd41AXgYrGv/AAlYal4k03WbkPLc6eri2Qt+7QsMFsf3scZ9zW5QAUUUUAFFFFABRRRQAUUUUAIeaTbTqKAG7aWlooASqGur/wASPUP+veT/ANBNaFVtStPt+n3Ntu2edG0e70yMZoAy/A//ACKel/8AXBf5Vu1wul6L4r0mxgs4r/SXihXYrSWzbiB6/PVz7L4u/wCfzR//AAGf/wCLoA66uO+JH+o0L/sMWf8A6Gaf9l8Xf8/mj/8AgM//AMXVPUPDfiTXJtNS91DTVtbW9hu2W3gZXbY2doJcjnjt2oA7hadSDgUtABXjnxKupfih4ytfhzZSbdKhCXniOeNukGcx2uf70pGD3C59RXYfFbx8nw/8Ltdxxm71W5cW2nWSjLXE7cKo/mfYVX+E/gE+BfDbi8l+2a9qUpvdUvD1luG6jP8AdUYUDsBQB2dvbR2sMcMKLFDGoRI1GAqgYAHtip6bT6ACiiigAooooAKKKKACiiigAooooAKKKKACiiigAooooAKKKKACiiigAooooAKKKKACiiigAooooAKKKKACiiigAooooAKKKKACiiigAooooAKKKKACiiigAooooAKKKKACiiigAooooAKKKKACiiigArC8beEbLxx4V1LQtQQPa3sLRtxyjdVce4OD+FbtFAHmvwR8U3moaPe+HdbbHiPw9L9hu93/AC1UD93MPZlweK9Krx34sQyfD7xZpXxDsome2j22GtxxjmS2Y/LJx3Qn8jXrlrcR3UEc8LiSKRQ6OvRlIyCPwoAmrnfiJ/yIuvf9ecn/AKCa6KsXxpp9xq3hPVrK1VXubi2eONWOAWIwBntQBoaX/wAg21/65L/KrVcXaeIPEtvZwxP4UO5ECnF+mOB/u1J/wlHiP/oU2/8AA5f/AImgDsK5Dxh/yMnhb/r9P/ot6F8UeI8/8im3/gcn/wATVGX+3/EXiTRZbjQhptpZztLJK10sh+4wAACjuR3oA7tPur9KdSKMKBS0AFFFFABRRRQAUUUUAFFFFABRRRQAUUUUAFFFFABRRRQAUlLUF9cizs57gjIijZyPXAzQBNtHpRXE6f4n8SatYxXdv4ehaCZd6F7xQSD0qx/a3iv/AKF23/8AA1aAOuorkf7W8V/9C7b/APgatVrrxdrmlXFgNS0SKC3ubuK13x3IcqXOAcUAdxTJpkt4ZJZXEccalmdjgKAMkml35ryP4uaxceNtcs/hxosrRz3yi41e6jPNtZg/dz/efp9M0AVvAdvL8V/Hs3jm7VjoWls9poUDj5ZD0kucep6D2r2Squj6Ra6Hpdrp9lEsFpbRrFHGowAoGBV2gBlPoooAKKKKACiiigAooooAKKKKACiiigAooooAKKKKACiiigAooooAKKKKACiiigAooooAKKKKACiiigAooooAKKKKACiiigAooooAKKKKACiiigAooooAKKKKACiiigAooooAKKKKACiiigAooooAKKKKACiiigCjrGk2+uaXdafdRrLb3MbRSI4yCpGDXmXwX1i68O32p/DzV5C17op32Er9biyY/Ifcr90/hXrdeUfGrRbnSW0zx5o8Rk1bw+xeaJetzaH/AFsfvxyPcUAerUtZ2g67aeJNHs9TsZBNZ3cSzQyD+JSMg1Nq2qQaLptzf3TbLe3jMsjAZwoGTQBao2iuRj+JFrKqsmmamVYZB+ytT/8AhYdv/wBAzUv/AAFagDq8Utcl/wALDt/+gZqf/gK1TWPj2yvNUtbF7a8tZbolYmuICqswBJGfXAoA6eikU7lBpaACiiigAooooAKKKKACiiigAooooAKKKKACiiigAooooAKoa9/yAtR/69pP/QTV+qGvf8gPUf8Ar2k/9BNAGb4F/wCRS0v/AK4L/Kug2j0Fc/4F/wCRS0v/AK4L/KuhoATaPQVyHxGH+j6JgY/4m9n/AOhmuwrkPiNn7PoWOSdYtB/4/QBN8RPG9p8O/CV3rFyhndMRW9sn37iZjiONfUkkfrWH8G/A914b0m61fW28/wAUa1J9r1CXrsJ+7EvoqDgD2rm9BkHxq+JT+IGy/g3wvO9rpanBjvr0fLLcD1VOUU+oYjrXtGB1oAWiiigAooooAKKKKACiiigAooooAKKKKACiiigAooooAKKKKACiiigAooooAKKKKACiiigAooooAKKKKACiiigAooooAKKKKACiiigAooooAKKKKACiiigAooooAKKKKACiiigAooooAKKKKACiiigAooooAKKKKACiiigAqG5hW4iaN1V43BVlYcEEdKmooA8d+GN03w68far8OrttthMG1PQHY8GEnM0APqjEED0b2rvfiMw/4QPXf+vOT+Vc58bvBt9r3h+11nQNqeKfD841HTS3HmMoO+En+7Iu5SPcV5/rP7WXwz8YWsHg7TvEcFx4u1vSprhNHhBkltiiEvHMVGEdSGXaTn5TxjmgD3zSm3aba+vlr/KrWD61U0fnS7U9jEv8qu0ANwfWuU8X5HiTwr/1+N/6LautrkvGH/IxeFf+vxv/AEW9AHWL90UtNT7q/SmTXUVvjzXWME4BYgZPoPWgCWimrIHGQc1De6hbabCZbu4itou8k0gRfzJoAsUVDHeQysipIrM671AYElfXr0qagAooooAKKKKACiiigAooooAwPGnjC08EaTDqN9HK9s9zFbM0QB2GRgqsc9skZ+tcjH8fPDVzeavbQm5km0vUU02VVUfPI/IKc8rjJz7V1vj7wsvjbwdquiNJ5LXkJSOUjPlyDlG/BgD+FeNeE/2Ybrw94k8Lapca0lylhasNSj8s/wCmXJyFl9sAmgCa++Putpc6Je2OlSX+k6zrjadAsaLuSFOGbJPUn9K6+T49eFofiB/wip1O1E5tzIZDPgiQMF8vGODz69q4fRPhtrs2j6Zo9r5VrqXhfXXu0a7RvKuIWJIII9jXqbfC3RZPGa+KGtYf7SFqbcr5a7Mkht3TrkdaAPPtY8dePfCvjTw9/al9pssWtaqbOPw1bW+Zktef34lznKgBjxjnFdZ4f8ZXusN430HVNp1HRWkQSIABJBJGXicj1xwfpXHeD/hR8RtB+Il94k1TVvD2qNe3WZLiS1lNxFbZ4hiJbCgD0HJrd8J6RdXHiH4j+KbiF7eDUB9jto5F2kxQRFd/0JJoA77wG3/FI6X/ANcF/lXQVz3gP/kU9LI5HkL/ACroaACvMvj/AKHfeJ/Bdto+nai2kXd9qNrbi+jXc8KtJhyvo23IB7ZzXptcf8Rv9ToX/YYtP/QzQBseGPDNh4R0Kw0fS4FtrGyiWGKNewA6+5PrWxUa1JQAUUUUAFFFFABRRRQAUUUUAFFFFABRRRQAUUUUAFFFFABRRRQAUUUUAFFFFABRRRQAUUUUAFFFFABRRRQAUUUUAFFFFABRRRQAUUUUAFFFFABRRRQAUUUUAFFFFABRRRQAUUUUAFFFFABRRRQAUUUUAFFFFABRRRQAUUUUAFFFFAHmn7RHwv1f4xfCfWvC+h+J9Q8I6neRkQ6lp0pjYED7jEclG6EAjg1+F/hDwR4y/ZX/AGsPD2meLrOTT9Si1EW7TMSY7iKUmMyI/wDEpDH+tf0NHmvCP2tP2d/Cvx0+HVw2sWixazo4+26bqkQAntpUIYYb+6ccigD2/TeNPtsdPLX+VWaoaD5g0PTxKweUQIGYdCdo5q/QAVyXjDP/AAkPhbHX7Y3/AKKeutrk/F3/ACMfhX/r9b/0W1AHhnjb4/eKfB/ia40IzRTT6XrTXGoSGFRjRyAVbpwQTt3e1XPDfi/V/iV4y0qTUbrZZNY3urabsULhS5SI4HDEKM8+tezat8MfDGvalqOpX+jW91falZDTryZ15mtwchG9Rms68+GFta6z4YvtDWHTl0aJrIW+35GtSB+7wPQjIoA8K0bxN468Hfs7i60gSa3ctcSs99NOIJLf97jACqd2fXNdv49uNI1Lw34f1fx/oIvNZ5i0/wAOxzfaUu5WQAEqQATyTkjivV/DPgHRfB+n3NjpVitvaXEzTyQsS6lmOSQD057Vl+Pfgz4Q+Jd3YXXiHSI9QubEEW0jMQY88HGKAPJLXw7qfwr8IfDm9unCanD4gS2e0t3LrBbXchVrZcn5gilce619IjmvOofg3p9jd+GLWwC2nh3RLh75bDJYyXGMRsWJ6Lkn6gV6OOKAE206iigAooooAKKKKACiiigApKWigBm2lC06igBDWfrq7dC1LA/5dpP/AEA1o1R14btD1EDr9nk/9BNAGd4CG3whpf8A1wWt+uO8E+JtJg8K6ZHJqVqjrCoKmZcj9a3P+Eq0b/oKWn/f5f8AGgDVrj/iN/qdC/7DFp/6Ga2/+Eq0b/oKWn/f5f8AGuW8da7puof2FDbX9vPL/a9qQiSqScP2GaAO6WpKjWpKACiiigAooooAKKKKACiiigAooooAKKKKACiiigAooooAKKKKACiiigAooooAKKKKACiiigAooooAKKKKACiiigAooooAKKKKACiiigAooooAKKKKACiiigAooooAKKKKACiiigAooooAKKKKACiiigAooooAKKKKACiiigAooooAK5z4hL/xQ+u8f8ukn8q6Oud+If8AyI+ud/8ARJP5UAa+k8aXaf8AXJf5VbqnpbAabajBz5S9varW/wBj+VADq5Pxd/yMnhX/AK/G/wDRb11W/wBj+Vcn4tYHxP4UH/T43/op6AOpj+4PpT160iDgCnYoAMUbRS0UAJS0UUAFFFFABRRRQAUUUUAFFFFABRRRQAUUUUAFNkUMhUjIPBB706igDHHhDQ++kWX/AH4X/Cj/AIQ/Q/8AoD2P/gOv+FbFFAGP/wAIfof/AEB7H/wHX/Cnw+FtHtZ0mh0u0ilQ7ldIVBB9QcVq0UANwadRRQAUUUUAFFFFABRRRQAUUUUAFFFFABRRRQAUUUUAFFFFABRRRQAUUUUAFFFFABRRRQAUUUUAFFFFABRRRQAUUUUAFFFFABRRRQAUUUUAFFFFABRRRQAUUUUAFFFFABRRRQAUUUUAFFFFABRRRQAUUUUAFFFFABRRRQAUUUUAFFFFABVbUdPg1awuLK6TzLa4Ro5E3FcqRgjI5H4VZooA5Bfhjp0ahV1LXFVRgAavcYH/AI/S/wDCtNP/AOgprv8A4N7j/wCKrrqKAOR/4Vpp/wD0FNd/8G9x/wDFVJp/w903T9Ut74Talcz25JiN3qEsygkEZ2sxGcGuqooAaAadRRQAUUUUAFFFFABRRRQAUUUUAFFFFABRRRQAUUUUAFFFFABRRRQAUUUUAFFFFABRRRQAUUUUAFFFFABRRRQAUUUUAFFFFABRRRQAUUUUAFFFFABRRRQAUUUUAFFFFABRRRQAUUUUAFFFFABRRRQAUUUUAFFFFABRRRQAUUUUAFFFFABRRRQAUUUUAFFFFABRRRQAUUUUAFFFFABRRRQAUUUUAFFFFABRRRQAUUUUAFFFFABRRRQAUUUUAFFFFABRRRQAUUUUAFFFFABRRRQAUUUUAFFFFABRRRQAUUUUAFFFFABRRRQAUUUUAFFFFABRRRQAUUUUAFFFFADWYIpZiABySa4Ob47/AA+t9cOjSeNNCTVN2z7Kb+MOG6Yxnr7V5r+3Z481XwL8BtQfR7iSzu9QmSyNxH95Fc4bB7cVyvhP9hn4YeJPgnp+ny6NHFrV7ZJO/iBWZrpZ2AbfnPPJ6dKAPpXxJ440DwbYRXuu6zY6TaSMESe8uEiRmPQAsQCax9I+NXgPX7+Ox07xhod7eSHCQQahE7sfQANk18d/tt+Aj8M/2ZfA/hm/1S68URafqsURubyMedMgDfJhR6ZA9q8Q+MWpfCnVPDOlWXhD4Tax8OdflurYL4n1OCe1t4BnlmYgk9sYHNAH6uanqltpFjLeXlzDaWsI3SzTuERF9STwK5Dw78dPh/4s1VtM0fxnompagDt+zW97Gzn6AHmvk/8Aagu73xv4u+DPwtuNWkudB1eKOa/u7eTi9AGM7u4IH610P7Tn7I3w38H/AAX1HX/C3h+Hw9r2gQi5tdQs3ZJGK/3jn5iaAPrCTxpoMPiGPQZNZsU1uRPMTTmuEE7L6hM5x+FV5/iF4atfE0fh2XXtOi12TBTTXukFw2emEzuP5V8C3njS6/4SL9nf4s6g3+kXK/2bqM7cFuwJ+orhfG2panrHxg1v46Ws0jaZoni2202LacDyRhSwPp+PegD9PZvGWhW/iKLQJdYsY9cmTzY9Na4UXDp/eCZ3Ee+K2a+MvhDJF8Wv26vHvi2JvO07w7p0On2kvVSzovI98bq+y412qBkn3NADqKKKACiiigAooooAKKKKACiiigAooooAKKKKACiiigAooooAKKKKACiiigAooooAKKKKACiiigAooooAKKKKACiiigApksqQxtJI6oijJZjgAU+vPP2gPDGt+Mvg94o0bw7N5Os3dm8duQ+0s2Pu59xx+NAD4fj58OrjXv7Gi8caDJqe/wAv7Mt/GX3f3cbuvtXUax4w0Pw7PYQaprFjp01+/l2kd1cLG07f3UBPzHkdK/LiJfhXofw+g8DfE34Ya18NvE8QVG8YWlo07iYN/rMsMEEDnBIr179p7VtG8I6b+zxqL+JJNe0PTrkSnXJFBeaFAp3kLxnAHFAH37NMkMLyuyoiAszMcAAckmszw74s0fxZaPdaLqtnqtsjmJprOdZVDjqpKk8+1fPPwU+N/i/49L4q8SJYabp/w8tUmgsI5EL3V5tU5Zzu+VfbGea8p+HXx2v/AIe/sqeKvGHhrw7oui3lnrUkQs7SBxBJ8+CxBbO4/WgD7y3DOM80tfFGt/tLfGr4f6X4W8feK9B8O/8ACC6vLDFLZ2Zf7XAsnAcsTjnqBX1mPiL4Yj8hJ/EGl2txOiSR2897GkpDgFfkJByQRxQB0eaM18gzftEfFr4pfFHxdY/DDSvD/wDwjPhGZre7bWBIZbyReqoynC5wcVl+HP2vvG2qfs9+PPG91Y6Vba3oeofZYoFiZo1AOCGG7JPvmgD7R3LycjFLuB6Gvkr4dfGD4++JvBuq+Mb3wh4ffTJ9PWbR7NbkRO0h/jlZjhV74rkfCP7VnxI8PfGLwl4X8Yar4J8Q2viCZYJYPDUhaXTmY4Adw5Vv60Afce4ZxnmjI9a+ONQ/aE+MPjH4tfEnwP4H0/w5GPDLeamoaokh2RBcldoPzMxOB0AxXG2H7XXxu8XfCK88daXonhqz0vw7J5OqNcCRmu3VgG8tc4UD6mgD76orkfhP44PxI+HuheI2gW3fULVJ3jU5CsRyB7V11ABRRRQAUUUUAFFFFABRRRQAUUUUAFFFFABRRRQAUUUUAFFFFABRRRQAUUUUAFFFFABRRRQAUUUUAFFFFABRRRQAUUUUAFFFFAHnXx++EVp8bvhnqnhe5m+zSTgPBcYz5cg5U/nXzJJ4b/ait/Af/CtY9L0P+zRF9iXxNFcMJhB0zt9ce1fb9LQB8afHv9mnxpcfs6eCvB3htZPFmuaTfxXNzNeXO0vgEsdzZ4zgYrE+JOlftI/GjwFL4G1H4d+HdB068SOGS/W78x41UjkDt07V9zUUAfI/xe/ZN8QXPw9+Hlz4P1JT428D26JbNcfcudoGVz256fWuW8cf8NG/tAeG08Dan4P07wfp90yx6nq32jfvQddo56+1fcBXNJtoA+U/2hP2X73Vv2adG8FeDLZbzV9C8prUs4jLsPvHJ6E81S8K/st6ta/sXan4Dv7KP/hLL6OS7ZTID/pW7KfN+A596+udtLjjFAHzD+wl8DfEnwf8B6zL4wthbeItWvvOmQyCRgiqFXLD15NfT9IFxS0AFFFFABRRRQAUUUUAFFFFABRRRQAUUUUAFFFFABRRRQAUUUUAFFFFABRRRQAUUUUAFFFFABRRRQAUUUUAFFFFABRRRQAVwnxs8E6p8QfhrrWi6Lq82i6rcRf6NeQsVKOORkjnBxg/Wu7pDzQB8F+Io/2jvF3wvn+GGrfD3SdSlmtvsL+Irm6D5jzjzMH+LHetT4i/sieIrrwL8EfCUVjF4hsPDlwRrDNN5ahGKs2AeWHUcV9vhaXHegD5Q+F3wT8W/BP4neMtE0DS/tHw21+3kntf34H2K4KEbAp7Zrxzxl8LfE/wp/Yp8Z6X4lsk06/m1j7RGiSiTKNJw2RX6J1y3xI+G2h/FbwtceHvENsbrTJ2VpIw23ODkc0AfFeo+D/jR8evhn4H+H2o+GLDTfD8JtbqbxEt1uWWFOV+TqGxivo/xF+x/wDC7xh4mtfEWs6A17rNuluguvtMqZ8lVCHaGA/hHavXtB0O08N6NZaXYoY7OziWGJCc4VRgCr+2gD4K8N2/jD4R/GL4l2Xw1vPDHiDSNZunuLpL29MU+lyHOS6HBbB3dK5D4KeAfE3xK/ZY+Kuh6NAuqazea23lqrhI5HDZYqx7V9Z/EL9jb4b/ABG8VXXiK+0+5s9Uuzm6lsLlofPOMfMFPNelfDv4a+HvhX4ag0Hw1p6adp0XIjTklj1YnuTQB4N8Xfg3418S/sj6R4Q0Vfs/iKztYFubITbRNs5aLcOxrxTRf2f/AIhah4v+GOsWPwr0jwfp3h+9ie9hs7hftFxgjdM7Y+bocDrzX6F4oxigD5g+EPwd8XeGf2gvjT4j1PTUg0fxCmNNuFmDGY4xyv8ADXE+A/2efHehfsjfEDwVeaKq+IdTvLiaztVuVPmKzgqS2MDivtXGaWgDzn9nrwrqfgn4O+FtE1i2+yalZ2SRTxbwwVgORkda9GoooAKKKKACiiigAooooAKKKKACiiigAooooAKKKKACiiigAooooAKKKKACiiigAooooAKKKKACiiigAooooAKKKKACiiigAooooAKKKKACiiigAooooAKKKKACiiigAooooAKKKKACiiigAooooAKKKKACiiigAooooAKKKKACiiigAooooAKKKKACiiigAooooAKKKKACiiigAooooAKKKKACiiigAooooAKKKKACiiigAooooAKKKKACiiigAooooAKKKKACiiigAooooAKKKKACiiigAooooAKKKKACiiigAooooA//2Q==)\n",
        "\n",
        "The embedding is based on the surrounding words (before and after) taken as context. In the case of CBOW, we input the surrounding words to our neural network and expect that it predicts the middle word. Let's format our dataset to meet the needs of the neural network.\n"
      ]
    },
    {
      "cell_type": "code",
      "execution_count": null,
      "metadata": {
        "id": "1OkVuGeFQ9Bk"
      },
      "outputs": [],
      "source": [
        "def generate_dataset(data, window_size, word_to_index):\n",
        "  \"\"\" Method to generate training dataset for CBOW.\n",
        "  Arguments\n",
        "  ---------\n",
        "  data : String\n",
        "     Training dataset\n",
        "  window_size : int\n",
        "     Size of the context window\n",
        "  word_to_index : Dictionary\n",
        "     Dictionary mapping words to index with format {word:index}\n",
        "  Returns\n",
        "  -------\n",
        "  surroundings : N x W Tensor\n",
        "      Tensor with index of surrounding words, with N being the number of samples and W being the window size\n",
        "  targets : Tensor\n",
        "      Tensor with index of target word\n",
        "  \"\"\"\n",
        "  surroundings= []\n",
        "  targets = []\n",
        "  data = data.split(\" \")\n",
        "  #TODO complete function\n",
        "  for i in range(window_size,len(data)-window_size):\n",
        "    #get surrounding words based on window size\n",
        "    surrounding = [word_to_index[data[j]] for j in range(i - window_size, i)] + [word_to_index[data[j]] for j in range(i + 1, i + window_size + 1)]\n",
        "    target = word_to_index[data[i]] #get target word (middle word)\n",
        "    surroundings.append(surrounding) #append to surrounding\n",
        "    targets.append(target) #append to targets\n",
        "  surroundings = torch.tensor(surroundings)\n",
        "  targets = torch.tensor(targets)\n",
        "  return surroundings, targets\n",
        "\n",
        "t_surroundings, t_targets = generate_dataset(text,2,word_to_index)"
      ]
    },
    {
      "cell_type": "markdown",
      "metadata": {
        "id": "7OYFIK0g0YsI"
      },
      "source": [
        "With our dataset ready we can finally create our Neural Network. The idea is to replicate what Mikolov did in 2013 (see slides of Word2Vec)."
      ]
    },
    {
      "cell_type": "code",
      "execution_count": null,
      "metadata": {
        "id": "gKDcC75jzaXz"
      },
      "outputs": [],
      "source": [
        "class CBOW(nn.Module):\n",
        "  def __init__(self, vocab_size, embed_dim=300):\n",
        "    \"\"\" Class to define the CBOW model\n",
        "    Attributes\n",
        "    ---------\n",
        "    device : device\n",
        "      Device where the model will be trained (gpu preferably)\n",
        "    vocab_size : int\n",
        "      Size of the vocabulary\n",
        "    embed_dim : int\n",
        "      Size of the embedding layer\n",
        "    hidden_dim : int\n",
        "      Size of the hidden layer\n",
        "    \"\"\"\n",
        "    super().__init__()\n",
        "    self.embedding = self.embedding = nn.Embedding(vocab_size, embed_dim) #use this layer to get a vector from the the word index\n",
        "    self.linear = nn.Linear(embed_dim, vocab_size) #first fully connected layer (bottleneck)\n",
        "\n",
        "  def forward(self, x):\n",
        "    emb = self.embedding(x) #pass input through embedding layer\n",
        "    average = torch.mean(emb, dim=1) #average and resize (size must be batch_size x embed_dim)\n",
        "    out = self.linear(average) #pass through linear layer\n",
        "\n",
        "    return out"
      ]
    },
    {
      "cell_type": "code",
      "execution_count": null,
      "metadata": {
        "id": "7F9PVmiIgsXW"
      },
      "outputs": [],
      "source": [
        "from torch.utils.data import DataLoader\n",
        "#creation of dataloader for training\n",
        "train_dataloader=DataLoader(list(zip(t_surroundings,t_targets)),batch_size=50,shuffle=True) #Here please change batch size depending of your GPU capacities (if GPU runs out of memory lower batch_size)"
      ]
    },
    {
      "cell_type": "code",
      "source": [
        "device = torch.device(\"cuda\" if torch.cuda.is_available() else \"cpu\") #CAUTION: RUN THIS CODE WITH GPU, CPU WILL TAKE TOO LONG\n",
        "device"
      ],
      "metadata": {
        "colab": {
          "base_uri": "https://localhost:8080/"
        },
        "id": "Llt1DYcUhtPG",
        "outputId": "1a51d022-4774-471d-b198-f005bf3c94d9"
      },
      "execution_count": null,
      "outputs": [
        {
          "output_type": "execute_result",
          "data": {
            "text/plain": [
              "device(type='cuda')"
            ]
          },
          "metadata": {},
          "execution_count": 14
        }
      ]
    },
    {
      "cell_type": "code",
      "execution_count": null,
      "metadata": {
        "colab": {
          "base_uri": "https://localhost:8080/"
        },
        "id": "kexSYJE3vp_d",
        "outputId": "593fe729-0761-49a1-eca6-a66068c8a0f2"
      },
      "outputs": [
        {
          "output_type": "stream",
          "name": "stderr",
          "text": [
            "100%|██████████| 41486/41486 [11:08<00:00, 62.08it/s]\n"
          ]
        },
        {
          "output_type": "stream",
          "name": "stdout",
          "text": [
            "Epoch 1 loss: 8.5780451369712\n"
          ]
        },
        {
          "output_type": "stream",
          "name": "stderr",
          "text": [
            "100%|██████████| 41486/41486 [11:07<00:00, 62.16it/s]\n"
          ]
        },
        {
          "output_type": "stream",
          "name": "stdout",
          "text": [
            "Epoch 2 loss: 7.794211158249927\n"
          ]
        },
        {
          "output_type": "stream",
          "name": "stderr",
          "text": [
            "100%|██████████| 41486/41486 [11:06<00:00, 62.23it/s]\n"
          ]
        },
        {
          "output_type": "stream",
          "name": "stdout",
          "text": [
            "Epoch 3 loss: 7.356669328990073\n"
          ]
        },
        {
          "output_type": "stream",
          "name": "stderr",
          "text": [
            "100%|██████████| 41486/41486 [11:06<00:00, 62.26it/s]\n"
          ]
        },
        {
          "output_type": "stream",
          "name": "stdout",
          "text": [
            "Epoch 4 loss: 6.888904357136937\n"
          ]
        },
        {
          "output_type": "stream",
          "name": "stderr",
          "text": [
            "100%|██████████| 41486/41486 [11:06<00:00, 62.26it/s]\n"
          ]
        },
        {
          "output_type": "stream",
          "name": "stdout",
          "text": [
            "Epoch 5 loss: 6.526437596610891\n"
          ]
        },
        {
          "output_type": "stream",
          "name": "stderr",
          "text": [
            "100%|██████████| 41486/41486 [11:06<00:00, 62.28it/s]\n"
          ]
        },
        {
          "output_type": "stream",
          "name": "stdout",
          "text": [
            "Epoch 6 loss: 6.265498090628252\n"
          ]
        },
        {
          "output_type": "stream",
          "name": "stderr",
          "text": [
            "100%|██████████| 41486/41486 [11:06<00:00, 62.27it/s]\n"
          ]
        },
        {
          "output_type": "stream",
          "name": "stdout",
          "text": [
            "Epoch 7 loss: 6.0654543096463005\n"
          ]
        },
        {
          "output_type": "stream",
          "name": "stderr",
          "text": [
            "100%|██████████| 41486/41486 [11:06<00:00, 62.28it/s]\n"
          ]
        },
        {
          "output_type": "stream",
          "name": "stdout",
          "text": [
            "Epoch 8 loss: 5.9016796170771535\n"
          ]
        },
        {
          "output_type": "stream",
          "name": "stderr",
          "text": [
            "100%|██████████| 41486/41486 [11:05<00:00, 62.29it/s]\n"
          ]
        },
        {
          "output_type": "stream",
          "name": "stdout",
          "text": [
            "Epoch 9 loss: 5.765095515754134\n"
          ]
        },
        {
          "output_type": "stream",
          "name": "stderr",
          "text": [
            "100%|██████████| 41486/41486 [11:05<00:00, 62.29it/s]"
          ]
        },
        {
          "output_type": "stream",
          "name": "stdout",
          "text": [
            "Epoch 10 loss: 5.650529025439235\n"
          ]
        },
        {
          "output_type": "stream",
          "name": "stderr",
          "text": [
            "\n"
          ]
        }
      ],
      "source": [
        "from tqdm import tqdm\n",
        "model = CBOW(len(word_to_index)).to(device)\n",
        "loss_function = nn.CrossEntropyLoss()\n",
        "optimizer = torch.optim.Adam(model.parameters(), lr=0.001)\n",
        "epochs = 10\n",
        "\n",
        "#BE PATIENT: This code can take up to 2 hours and 10 min for a batch size of 64 and 10 epochs\n",
        "for epoch in range(epochs):\n",
        "    total_loss = 0\n",
        "    for surr, tar in tqdm(train_dataloader):\n",
        "        surr, tar = surr.to(device), tar.to(device)\n",
        "        optimizer.zero_grad()\n",
        "\n",
        "        log_probs = model(surr)\n",
        "\n",
        "        loss= loss_function(log_probs,tar)\n",
        "        total_loss += loss.item()\n",
        "\n",
        "        loss.backward()\n",
        "        optimizer.step()\n",
        "\n",
        "    print(f\"Epoch {epoch+1} loss: {total_loss/len(train_dataloader)}\")"
      ]
    },
    {
      "cell_type": "code",
      "source": [
        "torch.save(model.state_dict(), '/content/cbow_10_epoch_books.pt')"
      ],
      "metadata": {
        "id": "LME9aUstTDGu"
      },
      "execution_count": null,
      "outputs": []
    },
    {
      "cell_type": "markdown",
      "metadata": {
        "id": "tMjs6zu63bnh"
      },
      "source": [
        "## Let's test it! 🤓"
      ]
    },
    {
      "cell_type": "code",
      "source": [
        "model = CBOW(len(word_to_index))\n",
        "model.load_state_dict(torch.load('/content/cbow_10_epoch_books.pt', map_location=torch.device('cpu')))\n",
        "\n",
        "#Set the model to evaluation mode as it turns off dropout layers and similar training-only features\n",
        "model.eval()"
      ],
      "metadata": {
        "colab": {
          "base_uri": "https://localhost:8080/"
        },
        "id": "VzSwu3j2UAoh",
        "outputId": "dd9de5b6-f696-4ed8-f4ca-75f29107e3b5"
      },
      "execution_count": null,
      "outputs": [
        {
          "output_type": "stream",
          "name": "stderr",
          "text": [
            "<ipython-input-17-c6591ee16c5b>:2: FutureWarning: You are using `torch.load` with `weights_only=False` (the current default value), which uses the default pickle module implicitly. It is possible to construct malicious pickle data which will execute arbitrary code during unpickling (See https://github.com/pytorch/pytorch/blob/main/SECURITY.md#untrusted-models for more details). In a future release, the default value for `weights_only` will be flipped to `True`. This limits the functions that could be executed during unpickling. Arbitrary objects will no longer be allowed to be loaded via this mode unless they are explicitly allowlisted by the user via `torch.serialization.add_safe_globals`. We recommend you start setting `weights_only=True` for any use case where you don't have full control of the loaded file. Please open an issue on GitHub for any issues related to this experimental feature.\n",
            "  model.load_state_dict(torch.load('/content/cbow_10_epoch_books.pt', map_location=torch.device('cpu')))\n"
          ]
        },
        {
          "output_type": "execute_result",
          "data": {
            "text/plain": [
              "CBOW(\n",
              "  (embedding): Embedding(68995, 300)\n",
              "  (linear): Linear(in_features=300, out_features=68995, bias=True)\n",
              ")"
            ]
          },
          "metadata": {},
          "execution_count": 17
        }
      ]
    },
    {
      "cell_type": "markdown",
      "metadata": {
        "id": "7rarP3Yw3eCW"
      },
      "source": [
        "Now that we hopefully have good embeddings we can put them to the test. Let's start by creating some useful functions."
      ]
    },
    {
      "cell_type": "code",
      "execution_count": null,
      "metadata": {
        "collapsed": true,
        "id": "xJndx_85UJeY",
        "colab": {
          "base_uri": "https://localhost:8080/"
        },
        "outputId": "1da9f4d0-a34e-4aed-c79d-f3bb680a02a8"
      },
      "outputs": [
        {
          "output_type": "execute_result",
          "data": {
            "text/plain": [
              "tensor([-2.0982e+00, -6.2335e-01,  1.6281e-01, -3.0909e+00, -2.2534e+00,\n",
              "        -7.5596e-02,  7.7278e-01,  1.2902e+00, -4.4959e+00,  1.2315e+00,\n",
              "         3.3595e-01,  1.7849e-01,  1.3308e+00,  3.0238e-01,  4.0420e-01,\n",
              "        -1.3245e+00,  3.4329e+00, -8.7282e-01, -1.8569e+00, -2.9438e-01,\n",
              "         1.5626e-01, -5.5852e-01,  1.5145e+00,  2.0709e+00, -4.1295e-01,\n",
              "         1.3534e+00, -7.8593e-01,  3.7741e-01, -6.4420e-01, -4.2796e-01,\n",
              "        -2.6704e-01,  1.3805e+00, -1.4233e+00,  1.6896e+00, -2.2131e-01,\n",
              "         3.2451e-01,  8.0426e-01, -8.8517e-01, -1.3616e+00,  5.2892e-01,\n",
              "        -7.3432e-01, -1.6934e+00,  4.1030e-01,  1.2755e+00, -2.8940e+00,\n",
              "        -1.3345e+00, -2.2977e+00, -1.1434e+00, -1.1915e+00, -4.5858e-01,\n",
              "         8.5228e-01,  1.2845e-01, -3.2577e-01,  1.8764e+00,  3.8836e-01,\n",
              "         4.6290e-01,  3.0981e+00, -1.8829e+00,  1.7350e-02, -5.9335e-01,\n",
              "         1.8626e+00,  3.5005e-01,  9.6240e-01,  2.6128e+00,  1.9523e+00,\n",
              "        -4.9432e-01,  2.9974e+00,  4.0883e-01, -5.1097e-02,  1.8253e+00,\n",
              "         3.3829e-01,  7.1660e-01, -1.1929e+00, -1.9115e+00,  1.0911e+00,\n",
              "        -2.1161e+00,  1.0520e+00,  7.8699e-01,  1.0406e+00,  2.0247e+00,\n",
              "        -3.7047e-02,  1.4005e+00, -1.3300e+00,  2.0362e+00,  2.4727e-02,\n",
              "         1.8500e-01,  3.7057e-01,  4.4759e-01,  9.0693e-01,  9.5166e-01,\n",
              "        -1.5739e-01,  5.8225e-01,  1.2528e+00, -2.0302e-01, -1.5520e+00,\n",
              "        -7.2357e-01, -3.6575e-01, -2.8794e+00,  8.8611e-02, -6.7306e-01,\n",
              "        -7.5099e-01, -1.2977e+00, -2.0318e+00, -7.8977e-01,  1.1244e+00,\n",
              "        -1.3744e+00, -4.7468e-01, -7.9046e-02,  3.2404e-01, -5.9119e-01,\n",
              "         1.8922e+00,  2.9749e-01, -1.5588e+00,  1.1293e+00,  2.0998e+00,\n",
              "         6.4035e-01, -8.5219e-01, -5.5249e-01, -1.1600e-01,  1.6392e+00,\n",
              "         1.1996e+00,  6.5275e-01,  2.2587e-01, -4.2684e-01, -3.7812e-01,\n",
              "         2.0344e+00,  2.0746e+00,  1.4392e+00, -2.5107e+00,  8.4635e-01,\n",
              "         2.2760e+00,  2.5554e-01,  1.3676e+00,  1.3156e+00, -1.5716e-02,\n",
              "        -1.4328e+00,  4.3329e-01, -1.2223e+00,  1.0781e+00,  5.7364e-01,\n",
              "        -2.2900e-01, -2.9713e-02, -5.6608e-01, -1.4677e+00, -1.9448e+00,\n",
              "        -6.4631e-01,  1.0027e+00,  2.6305e-01,  3.7118e+00,  2.5618e+00,\n",
              "         2.6612e-02, -6.3845e-02, -7.5976e-01,  1.2747e+00,  1.1170e+00,\n",
              "        -6.1142e-01,  6.9373e-01, -1.7121e+00, -4.3836e-01,  3.2944e-01,\n",
              "        -1.1173e+00,  1.2142e-02,  7.5301e-01, -8.4313e-01, -1.2116e+00,\n",
              "         1.0893e+00, -5.0379e-01, -6.6147e-01, -1.7756e+00, -3.2039e-01,\n",
              "        -1.0156e+00,  1.4207e+00,  2.7868e-01,  1.3709e+00, -1.7344e+00,\n",
              "         1.2168e+00, -6.0925e-01,  2.0108e+00, -6.9084e-01,  2.0577e+00,\n",
              "        -4.7508e-02,  1.6626e+00,  1.9121e+00,  1.2299e+00,  1.2378e+00,\n",
              "         1.5856e+00, -7.4192e-01,  1.5439e+00, -1.5494e+00, -5.7484e-01,\n",
              "         1.7175e+00, -1.0759e+00, -2.2205e-01, -1.8684e+00, -7.5475e-01,\n",
              "        -1.5941e+00,  1.1624e-01, -1.6085e-01, -6.1446e-01, -1.3869e+00,\n",
              "         1.4654e+00, -1.1599e-01,  1.3353e+00,  1.8427e-01, -3.4907e-01,\n",
              "        -1.3453e+00,  2.7833e+00,  8.2864e-01,  2.1133e-01, -1.6368e+00,\n",
              "         1.5291e+00,  3.3545e+00, -1.7068e+00,  4.3452e-01,  2.3328e-01,\n",
              "         1.3901e+00, -2.5324e-01,  2.3717e-01, -8.2109e-01,  6.6138e-01,\n",
              "         7.7341e-01,  2.9271e-01, -7.4335e-01,  1.9946e+00, -6.4057e-01,\n",
              "         2.2943e+00,  1.4117e+00, -2.6155e-01, -1.0845e+00,  3.5008e-01,\n",
              "         5.2006e-01,  1.7766e+00,  1.7246e+00,  2.1331e-01,  2.3475e+00,\n",
              "         5.5247e-01, -7.8885e-01, -1.1318e+00,  9.0204e-01,  1.5524e+00,\n",
              "        -1.2548e+00,  2.4682e+00,  8.0878e-02, -3.8114e-02,  1.7018e+00,\n",
              "        -3.2480e-01, -4.5250e-01, -1.2648e+00,  1.3728e+00,  9.7741e-01,\n",
              "        -7.0379e-01,  4.2265e-01,  1.8354e+00,  1.0344e+00,  1.3142e+00,\n",
              "         7.8837e-01, -2.2731e+00,  3.4588e-01,  1.2838e+00,  1.0994e+00,\n",
              "         5.7021e-01,  1.6575e+00, -7.3675e-01, -2.0365e+00, -6.4973e-01,\n",
              "         4.3474e-01, -9.4275e-01, -8.1610e-01, -3.3573e-03,  7.8064e-01,\n",
              "         2.5056e+00,  5.1125e-01, -1.5102e+00,  1.4085e+00, -1.5202e+00,\n",
              "        -1.2223e+00,  1.7906e-01,  2.8962e-01,  9.9430e-01, -2.1104e+00,\n",
              "         9.2749e-01,  1.0225e+00, -2.2506e+00,  8.6343e-02,  9.4968e-01,\n",
              "         1.4908e-01, -1.5936e+00,  2.3277e+00, -2.8675e+00, -2.3050e+00,\n",
              "        -1.7202e-01, -1.4415e+00,  2.1962e+00,  3.0702e-01, -2.0991e+00,\n",
              "         9.3588e-02, -4.9396e-01,  1.6554e+00,  8.7026e-01, -1.4521e+00])"
            ]
          },
          "metadata": {},
          "execution_count": 18
        }
      ],
      "source": [
        "def get_embedding(word, model, word_to_index):\n",
        "  \"\"\" Method to get the embedding vector for a given word.\n",
        "  Arguments\n",
        "  ---------\n",
        "  word : String\n",
        "     Word given\n",
        "  model : NN.module\n",
        "     CBOW model\n",
        "  word_to_index : Dictionary\n",
        "     Dictionary mapping words to index with format {word:index}\n",
        "  Returns\n",
        "  -------\n",
        "  word_embedding : Tensor\n",
        "      Embedding vector for the given word\n",
        "    \"\"\"\n",
        "  index = word_to_index.get(word, 0) # get word index\n",
        "\n",
        "  with torch.no_grad():\n",
        "        embedding_weights = model.embedding.weight # Get the weights of the embedding layer\n",
        "        embedding_weights.requires_grad = False\n",
        "        word_embedding = embedding_weights[index] # Extract the embedding vector for the given word index\n",
        "\n",
        "  return word_embedding\n",
        "\n",
        "get_embedding(\"shot\",model,word_to_index) #test this code by getting embedding of the word \"shot\""
      ]
    },
    {
      "cell_type": "code",
      "execution_count": null,
      "metadata": {
        "id": "LzvJUi9a52d3"
      },
      "outputs": [],
      "source": [
        "def cosine_similarity(v1,v2):\n",
        "  \"\"\" Method to calculate cosine similarity between two vectors.\n",
        "  Arguments\n",
        "  ---------\n",
        "  v1 : Tensor\n",
        "     First vector\n",
        "  v2 : Tensor\n",
        "     Second vector\n",
        "  Returns\n",
        "  -------\n",
        "  cosine_similarity : float\n",
        "      Cosine similarity between v1 and v2\n",
        "  \"\"\"\n",
        "  return nn.functional.cosine_similarity(v1, v2, dim=0).item() #TODO create expression to calculate cosine similarity"
      ]
    },
    {
      "cell_type": "code",
      "source": [
        "france = get_embedding(\"france\",model,word_to_index)\n",
        "paris = get_embedding(\"paris\",model,word_to_index)\n",
        "cosine_similarity(france,paris)"
      ],
      "metadata": {
        "colab": {
          "base_uri": "https://localhost:8080/"
        },
        "id": "BejqqnTzln9S",
        "outputId": "84eb392e-aecf-4488-c88f-c8d151bbe8d6"
      },
      "execution_count": null,
      "outputs": [
        {
          "output_type": "execute_result",
          "data": {
            "text/plain": [
              "0.18748338520526886"
            ]
          },
          "metadata": {},
          "execution_count": 20
        }
      ]
    },
    {
      "cell_type": "code",
      "source": [
        "cosine_similarity(paris,paris)"
      ],
      "metadata": {
        "colab": {
          "base_uri": "https://localhost:8080/"
        },
        "id": "dXugfiSwmMDR",
        "outputId": "12eac04a-e27c-438d-caf7-97bcf95d1429"
      },
      "execution_count": null,
      "outputs": [
        {
          "output_type": "execute_result",
          "data": {
            "text/plain": [
              "1.0"
            ]
          },
          "metadata": {},
          "execution_count": 21
        }
      ]
    },
    {
      "cell_type": "code",
      "source": [
        "a = get_embedding(\"capital\",model,word_to_index)\n",
        "cosine_similarity(a,paris)"
      ],
      "metadata": {
        "colab": {
          "base_uri": "https://localhost:8080/"
        },
        "id": "LSC-lrdxmC61",
        "outputId": "eaf4a6b2-d62e-472f-f177-8f3fcb7cab17"
      },
      "execution_count": null,
      "outputs": [
        {
          "output_type": "execute_result",
          "data": {
            "text/plain": [
              "0.16332678496837616"
            ]
          },
          "metadata": {},
          "execution_count": 22
        }
      ]
    },
    {
      "cell_type": "code",
      "execution_count": null,
      "metadata": {
        "id": "c8KBIdW3ODC8"
      },
      "outputs": [],
      "source": [
        "def get_k_nearest_words(k, word, vocabulary, model, word_to_index):\n",
        "  \"\"\" Method to find the k nearest words of a given vector\n",
        "  Arguments\n",
        "  ---------\n",
        "  k : int\n",
        "     Number of nearest words to return\n",
        "  word : torch.Tensor\n",
        "     Embedding vector for the given word\n",
        "  vocabulary : Dictionary\n",
        "     Dictionary mapping words to frequency with format {word:frequency}\n",
        "  model : NN.module\n",
        "     CBOW model\n",
        "  word_to_index : Dictionary\n",
        "     Dictionary mapping words to index with format {word:index}\n",
        "  Returns\n",
        "  -------\n",
        "  similar : List of Strings\n",
        "      List of k nearest words to the given word\n",
        "  \"\"\"\n",
        "  similarity_scores= torch.zeros(len(word_to_index))\n",
        "\n",
        "  #fill similarity scores matrix using the word and our cosine_similarity function\n",
        "  for v_word, v_index in word_to_index.items():\n",
        "    if v_index == 0:\n",
        "        continue\n",
        "    v_word_embedding = get_embedding(v_word, model, word_to_index)\n",
        "    similarity_scores[v_index] = cosine_similarity(word, v_word_embedding)\n",
        "\n",
        "  k_first= torch.topk(similarity_scores,k).indices\n",
        "  similar = [list(vocabulary.keys())[i-1] for i in k_first]\n",
        "\n",
        "  return similar"
      ]
    },
    {
      "cell_type": "markdown",
      "metadata": {
        "id": "ITgPYX7l39Vj"
      },
      "source": [
        "The Google analogy test set is a state of the art data set for word embeddings that tests their ability to solve analogy tasks. A well-known example for it is: \"king is to man as queen is to women.\" We will use a subset of this dataset to see how our CBOW model performs.\n"
      ]
    },
    {
      "cell_type": "code",
      "source": [
        "import pandas as pd\n",
        "\n",
        "def test_analogy(model, word_to_index, analogy_file, category = 'capital-common-countries'):\n",
        "  \"\"\" Method to test accuracy of CBOW embeddings on analogy tasks.\n",
        "  Arguments\n",
        "  ---------\n",
        "  mode : nn.Module\n",
        "     CBOW model\n",
        "  word_to_index : Dictionary\n",
        "     Dictionary mapping words to index with format {word:index}\n",
        "  analogy_file : String\n",
        "     File containing analogy tasks\n",
        "  Returns\n",
        "  -------\n",
        "  accuracy : float\n",
        "      accuracy of the model on the analogy tasks\n",
        "  \"\"\"\n",
        "  df = pd.read_csv(analogy_file)\n",
        "  df = df[df.category==category] #using capital cities subset of test set\n",
        "  correct = 0\n",
        "  total = 0\n",
        "  for index,row in df.iterrows():\n",
        "      word_one = row['word_one'].lower()\n",
        "      word_two = row['word_two'].lower()\n",
        "      word_three = row['word_three'].lower()\n",
        "      word_four = row['word_four'].lower()\n",
        "      #remember to standarize the words by using .lower\n",
        "\n",
        "      #create exception in case word is not in vocabulary\n",
        "      if (word_one not in word_to_index or word_two not in word_to_index or\n",
        "          word_three not in word_to_index or word_four not in word_to_index):\n",
        "        continue\n",
        "\n",
        "      #get embedding of all words\n",
        "      emb_one = get_embedding(word_one, model, word_to_index)\n",
        "      emb_two = get_embedding(word_two, model, word_to_index)\n",
        "      emb_three = get_embedding(word_three, model, word_to_index)\n",
        "\n",
        "      result = emb_two - emb_one + emb_three #calculate embedding_word_2-embedding_word_1+embedding_word_3\n",
        "      prediction = get_k_nearest_words(10, result, vocabulary, model, word_to_index) #call the k_nearest function you created before (set k to 10)\n",
        "\n",
        "      # if word_four is in prediction, add one to correct\n",
        "      if word_four in prediction:\n",
        "        # print(f'found {word_four} = {word_two} - {word_one} + {word_three}')\n",
        "        correct += 1\n",
        "\n",
        "      total+=1\n",
        "  if total != 0:\n",
        "    accuracy=correct/total\n",
        "  else:\n",
        "    return 'No word was found in the embeddings '\n",
        "  return accuracy"
      ],
      "metadata": {
        "id": "fkAORqyEmSP0"
      },
      "execution_count": null,
      "outputs": []
    },
    {
      "cell_type": "code",
      "execution_count": null,
      "metadata": {
        "id": "HGHmp7OVIPZI",
        "colab": {
          "base_uri": "https://localhost:8080/"
        },
        "outputId": "15ba5058-e022-49a5-affd-e3363e158425"
      },
      "outputs": [
        {
          "output_type": "execute_result",
          "data": {
            "text/plain": [
              "0.06043956043956044"
            ]
          },
          "metadata": {},
          "execution_count": 25
        }
      ],
      "source": [
        "test_analogy(model,word_to_index,'TestSet_sample.csv')"
      ]
    },
    {
      "cell_type": "code",
      "source": [
        "test_analogy(model,word_to_index,'TestSet_sample.csv', 'family')"
      ],
      "metadata": {
        "id": "IlsSxzZ8mxVD",
        "colab": {
          "base_uri": "https://localhost:8080/"
        },
        "outputId": "f5f9f643-f363-4e55-cb99-cfff08cb04b6"
      },
      "execution_count": null,
      "outputs": [
        {
          "output_type": "execute_result",
          "data": {
            "text/plain": [
              "0.1323529411764706"
            ]
          },
          "metadata": {},
          "execution_count": 26
        }
      ]
    },
    {
      "cell_type": "markdown",
      "metadata": {
        "id": "_rP0Vw7ZW_Ex"
      },
      "source": [
        "Our model can do much better! In the \"Let's experiment\" part we will try to improve this model. Also depending on your GPU accesibility you can train for more epochs and data (making trim_dataset bigger in cell #3)."
      ]
    },
    {
      "cell_type": "markdown",
      "metadata": {
        "id": "LpVIN3nvP7pE"
      },
      "source": [
        "TSNE can be a very helpful and cool visualization method of our vectors, this way we can clearly see the relationship between different words (maybe even find some clusters!). Let's implement this visualization."
      ]
    },
    {
      "cell_type": "code",
      "execution_count": null,
      "metadata": {
        "id": "GUew12KwEqOP",
        "colab": {
          "base_uri": "https://localhost:8080/",
          "height": 542
        },
        "outputId": "5b8dc6d2-d650-4d82-e791-bed35b143c20"
      },
      "outputs": [
        {
          "output_type": "display_data",
          "data": {
            "text/html": [
              "<html>\n",
              "<head><meta charset=\"utf-8\" /></head>\n",
              "<body>\n",
              "    <div>            <script src=\"https://cdnjs.cloudflare.com/ajax/libs/mathjax/2.7.5/MathJax.js?config=TeX-AMS-MML_SVG\"></script><script type=\"text/javascript\">if (window.MathJax && window.MathJax.Hub && window.MathJax.Hub.Config) {window.MathJax.Hub.Config({SVG: {font: \"STIX-Web\"}});}</script>                <script type=\"text/javascript\">window.PlotlyConfig = {MathJaxConfig: 'local'};</script>\n",
              "        <script charset=\"utf-8\" src=\"https://cdn.plot.ly/plotly-2.35.2.min.js\"></script>                <div id=\"204fdb78-5577-4c3c-a312-7c7ca845578f\" class=\"plotly-graph-div\" style=\"height:525px; width:100%;\"></div>            <script type=\"text/javascript\">                                    window.PLOTLYENV=window.PLOTLYENV || {};                                    if (document.getElementById(\"204fdb78-5577-4c3c-a312-7c7ca845578f\")) {                    Plotly.newPlot(                        \"204fdb78-5577-4c3c-a312-7c7ca845578f\",                        [{\"hoverinfo\":\"text\",\"mode\":\"markers\",\"text\":[\"OOV!\",\"project\",\"gutenberg\",\"ebook\",\"war\",\"peace\",\"leo\",\"tolstoy\",\"use\",\"anyone\",\"anywhere\",\"united\",\"states\",\"parts\",\"world\",\"cost\",\"almost\",\"restrictions\",\"whatsoever\",\"may\",\"copy\",\"give\",\"away\",\"terms\",\"license\",\"included\",\"online\",\"www\",\"org\",\"located\",\"check\",\"laws\",\"country\",\"using\",\"title\",\"author\",\"translators\",\"louise\",\"aylmer\",\"maude\",\"release\",\"date\",\"april\",\"recently\",\"updated\",\"june\",\"language\",\"english\",\"character\",\"set\",\"encoding\",\"utf\",\"produced\",\"anonymous\",\"volunteer\",\"david\",\"widger\",\"start\",\"tolstoi\",\"contents\",\"book\",\"one\",\"chapter\",\"ii\",\"iii\",\"iv\",\"v\",\"vi\",\"vii\",\"viii\",\"ix\",\"x\",\"xi\",\"xii\",\"xiii\",\"xiv\",\"xv\",\"xvi\",\"xvii\",\"xviii\",\"xix\",\"xx\",\"xxi\",\"xxii\",\"xxiii\",\"xxiv\",\"xxv\",\"xxvi\",\"xxvii\",\"xxviii\",\"two\",\"three\",\"four\",\"five\",\"six\",\"seven\",\"eight\",\"nine\",\"ten\",\"xxix\",\"xxx\",\"xxxi\",\"xxxii\",\"xxxiii\",\"xxxiv\",\"xxxv\",\"xxxvi\",\"xxxvii\",\"xxxviii\",\"xxxix\",\"eleven\",\"twelve\",\"thirteen\",\"fourteen\",\"fifteen\",\"first\",\"epilogue\",\"second\",\"well\",\"prince\",\"genoa\",\"lucca\",\"family\",\"estates\",\"buonapartes\",\"warn\",\"tell\",\"means\",\"still\",\"try\",\"defend\",\"infamies\",\"horrors\",\"perpetrated\",\"antichrist\",\"really\",\"believe\",\"nothing\",\"longer\",\"friend\",\"faithful\",\"slave\",\"call\",\"see\",\"frightened\",\"sit\",\"news\",\"july\",\"speaker\",\"known\",\"anna\",\"p\\u00e1vlovna\",\"sch\\u00e9rer\",\"maid\",\"honor\",\"favorite\",\"empress\",\"m\\u00e1rya\",\"f\\u00ebdorovna\",\"words\",\"greeted\",\"vas\\u00edli\",\"kur\\u00e1gin\",\"man\",\"high\",\"rank\",\"importance\",\"arrive\",\"reception\",\"cough\",\"days\",\"said\",\"suffering\",\"la\",\"grippe\",\"new\",\"word\",\"st\",\"petersburg\",\"used\",\"elite\",\"invitations\",\"without\",\"exception\",\"written\",\"french\",\"delivered\",\"scarlet\",\"liveried\",\"footman\",\"morning\",\"ran\",\"follows\",\"better\",\"count\",\"prospect\",\"spending\",\"evening\",\"poor\",\"invalid\",\"terrible\",\"shall\",\"charmed\",\"tonight\",\"annette\",\"heavens\",\"virulent\",\"attack\",\"replied\",\"least\",\"disconcerted\",\"entered\",\"wearing\",\"embroidered\",\"court\",\"uniform\",\"knee\",\"breeches\",\"shoes\",\"stars\",\"breast\",\"serene\",\"expression\",\"flat\",\"face\",\"spoke\",\"refined\",\"grandfathers\",\"thought\",\"gentle\",\"patronizing\",\"intonation\",\"natural\",\"grown\",\"old\",\"society\",\"went\",\"kissed\",\"hand\",\"presenting\",\"bald\",\"scented\",\"shining\",\"head\",\"complacently\",\"seated\",\"sofa\",\"dear\",\"mind\",\"rest\",\"altering\",\"tone\",\"beneath\",\"politeness\",\"affected\",\"sympathy\",\"indifference\",\"even\",\"irony\",\"could\",\"discerned\",\"morally\",\"calm\",\"times\",\"like\",\"feeling\",\"staying\",\"whole\",\"hope\",\"fete\",\"ambassador\",\"today\",\"wednesday\",\"must\",\"put\",\"appearance\",\"daughter\",\"coming\",\"take\",\"canceled\",\"confess\",\"festivities\",\"fireworks\",\"becoming\",\"wearisome\",\"wished\",\"entertainment\",\"would\",\"wound\",\"clock\",\"force\",\"habit\",\"things\",\"wish\",\"believed\",\"tease\",\"decided\",\"novos\\u00edltsev\",\"dispatch\",\"know\",\"everything\",\"say\",\"cold\",\"listless\",\"buonaparte\",\"burnt\",\"boats\",\"ready\",\"burn\",\"always\",\"languidly\",\"actor\",\"repeating\",\"stale\",\"part\",\"contrary\",\"despite\",\"forty\",\"years\",\"overflowed\",\"animation\",\"impulsiveness\",\"enthusiast\",\"become\",\"social\",\"vocation\",\"sometimes\",\"feel\",\"became\",\"enthusiastic\",\"order\",\"disappoint\",\"expectations\",\"knew\",\"subdued\",\"smile\",\"though\",\"suit\",\"faded\",\"features\",\"played\",\"round\",\"lips\",\"expressed\",\"spoiled\",\"child\",\"continual\",\"consciousness\",\"charming\",\"defect\",\"neither\",\"considered\",\"necessary\",\"correct\",\"midst\",\"conversation\",\"political\",\"matters\",\"burst\",\"oh\",\"speak\",\"austria\",\"perhaps\",\"understand\",\"never\",\"betraying\",\"us\",\"russia\",\"alone\",\"save\",\"europe\",\"gracious\",\"sovereign\",\"recognizes\",\"true\",\"thing\",\"faith\",\"good\",\"wonderful\",\"perform\",\"noblest\",\"role\",\"earth\",\"virtuous\",\"noble\",\"god\",\"forsake\",\"fulfill\",\"crush\",\"hydra\",\"revolution\",\"ever\",\"person\",\"murderer\",\"villain\",\"avenge\",\"blood\",\"ask\",\"rely\",\"england\",\"commercial\",\"spirit\",\"cannot\",\"emperor\",\"alexander\",\"loftiness\",\"soul\",\"refused\",\"evacuate\",\"malta\",\"wanted\",\"find\",\"seeks\",\"secret\",\"motive\",\"actions\",\"answer\",\"get\",\"none\",\"understood\",\"self\",\"abnegation\",\"wants\",\"desires\",\"mankind\",\"promised\",\"little\",\"prussia\",\"declared\",\"invincible\",\"powerless\",\"hardenburg\",\"says\",\"haugwitz\",\"either\",\"famous\",\"prussian\",\"neutrality\",\"trap\",\"lofty\",\"destiny\",\"adored\",\"monarch\",\"suddenly\",\"paused\",\"smiling\",\"impetuosity\",\"think\",\"sent\",\"instead\",\"wintzingerode\",\"captured\",\"king\",\"consent\",\"assault\",\"eloquent\",\"cup\",\"tea\",\"moment\",\"\\u00e0\",\"propos\",\"added\",\"expecting\",\"interesting\",\"men\",\"le\",\"vicomte\",\"de\",\"mortemart\",\"connected\",\"montmorencys\",\"rohans\",\"best\",\"families\",\"genuine\",\"\\u00e9migr\\u00e9s\",\"ones\",\"also\",\"abb\\u00e9\",\"morio\",\"profound\",\"thinker\",\"received\",\"heard\",\"delighted\",\"meet\",\"studied\",\"carelessness\",\"occurred\",\"question\",\"chief\",\"visit\",\"dowager\",\"baron\",\"funke\",\"appointed\",\"secretary\",\"vienna\",\"accounts\",\"creature\",\"obtain\",\"post\",\"son\",\"others\",\"trying\",\"secure\",\"closed\",\"eyes\",\"indicate\",\"else\",\"right\",\"criticize\",\"desired\",\"pleased\",\"recommended\",\"sister\",\"dry\",\"mournful\",\"named\",\"assumed\",\"sincere\",\"devotion\",\"respect\",\"mingled\",\"sadness\",\"every\",\"time\",\"mentioned\",\"illustrious\",\"patroness\",\"majesty\",\"deigned\",\"show\",\"beaucoup\",\"estime\",\"clouded\",\"silent\",\"looked\",\"indifferent\",\"womanly\",\"courtierlike\",\"quickness\",\"tact\",\"habitual\",\"rebuke\",\"daring\",\"done\",\"console\",\"since\",\"came\",\"everyone\",\"enraptured\",\"amazingly\",\"beautiful\",\"bowed\",\"signify\",\"gratitude\",\"often\",\"continued\",\"short\",\"pause\",\"drawing\",\"nearer\",\"amiably\",\"topics\",\"ended\",\"come\",\"intimate\",\"unfairly\",\"joys\",\"life\",\"distributed\",\"fate\",\"given\",\"splendid\",\"children\",\"anatole\",\"youngest\",\"admitting\",\"rejoinder\",\"raising\",\"eyebrows\",\"appreciate\",\"less\",\"deserve\",\"smiled\",\"ecstatic\",\"help\",\"lavater\",\"lack\",\"bump\",\"paternity\",\"joke\",\"mean\",\"serious\",\"talk\",\"dissatisfied\",\"younger\",\"melancholy\",\"pitied\",\"answered\",\"significantly\",\"awaiting\",\"reply\",\"frowned\",\"last\",\"father\",\"education\",\"turned\",\"fools\",\"hippolyte\",\"quiet\",\"fool\",\"active\",\"difference\",\"way\",\"animated\",\"usual\",\"wrinkles\",\"mouth\",\"clearly\",\"revealed\",\"something\",\"unexpectedly\",\"coarse\",\"unpleasant\",\"born\",\"reproach\",\"looking\",\"pensively\",\"bane\",\"cross\",\"bear\",\"explain\",\"helped\",\"resignation\",\"cruel\",\"gesture\",\"meditated\",\"marrying\",\"prodigal\",\"asked\",\"maids\",\"mania\",\"matchmaking\",\"weakness\",\"yet\",\"unhappy\",\"relation\",\"princess\",\"mary\",\"bolk\\u00f3nskaya\",\"memory\",\"perception\",\"befitting\",\"indicated\",\"movement\",\"considering\",\"information\",\"evidently\",\"unable\",\"sad\",\"current\",\"thoughts\",\"costing\",\"thousand\",\"rubles\",\"year\",\"goes\",\"presently\",\"fathers\",\"rich\",\"stingy\",\"lives\",\"bolk\\u00f3nski\",\"retire\",\"army\",\"late\",\"nicknamed\",\"clever\",\"eccentric\",\"bore\",\"girl\",\"brother\",\"married\",\"lise\",\"meinen\",\"lately\",\"aide\",\"camp\",\"kut\\u00fazov\",\"listen\",\"taking\",\"reason\",\"downwards\",\"arrange\",\"affair\",\"devoted\",\"slafe\",\"f\",\"village\",\"elder\",\"mine\",\"writes\",\"reports\",\"want\",\"familiarity\",\"easy\",\"grace\",\"peculiar\",\"raised\",\"swung\",\"fro\",\"lay\",\"back\",\"armchair\",\"another\",\"direction\",\"attendez\",\"reflecting\",\"young\",\"wife\",\"arranged\",\"behalf\",\"apprenticeship\",\"room\",\"gradually\",\"filling\",\"highest\",\"assembled\",\"people\",\"differing\",\"widely\",\"age\",\"alike\",\"circle\",\"belonged\",\"h\\u00e9l\\u00e8ne\",\"wore\",\"ball\",\"dress\",\"badge\",\"youthful\",\"femme\",\"plus\",\"s\\u00e9duisante\",\"p\\u00e9tersbourg\",\"previous\",\"winter\",\"pregnant\",\"go\",\"large\",\"gatherings\",\"small\",\"receptions\",\"introduced\",\"many\",\"fascinating\",\"woman\",\"arrival\",\"seen\",\"aunt\",\"gravely\",\"conducted\",\"lady\",\"bows\",\"ribbon\",\"cap\",\"sailing\",\"soon\",\"guests\",\"began\",\"slowly\",\"turning\",\"visitor\",\"name\",\"left\",\"performed\",\"ceremony\",\"greeting\",\"cared\",\"observed\",\"greetings\",\"solemn\",\"interest\",\"approval\",\"health\",\"thank\",\"prevented\",\"showing\",\"impatience\",\"sense\",\"relief\",\"vexatious\",\"duty\",\"return\",\"brought\",\"work\",\"gold\",\"velvet\",\"bag\",\"pretty\",\"upper\",\"lip\",\"delicate\",\"dark\",\"perceptible\",\"teeth\",\"lifted\",\"sweetly\",\"especially\",\"occasionally\",\"drew\",\"lower\",\"case\",\"thoroughly\",\"attractive\",\"shortness\",\"half\",\"open\",\"seemed\",\"special\",\"form\",\"beauty\",\"brightened\",\"sight\",\"mother\",\"full\",\"carrying\",\"burden\",\"lightly\",\"dull\",\"dispirited\",\"company\",\"talking\",\"felt\",\"talked\",\"saw\",\"bright\",\"constant\",\"gleam\",\"white\",\"specially\",\"amiable\",\"mood\",\"day\",\"table\",\"quick\",\"swaying\",\"steps\",\"workbag\",\"arm\",\"gaily\",\"spreading\",\"sat\",\"near\",\"silver\",\"samovar\",\"pleasure\",\"around\",\"displaying\",\"addressing\",\"present\",\"wicked\",\"trick\",\"hostess\",\"wrote\",\"quite\",\"badly\",\"dressed\",\"spread\",\"arms\",\"waisted\",\"lace\",\"trimmed\",\"dainty\",\"gray\",\"girdled\",\"broad\",\"soyez\",\"tranquille\",\"prettier\",\"voice\",\"general\",\"husband\",\"deserting\",\"going\",\"killed\",\"wretched\",\"waiting\",\"delightful\",\"next\",\"arrivals\",\"stout\",\"heavily\",\"built\",\"close\",\"cropped\",\"hair\",\"spectacles\",\"light\",\"colored\",\"fashionable\",\"ruffle\",\"brown\",\"coat\",\"illegitimate\",\"bez\\u00fakhov\",\"grandee\",\"catherine\",\"dying\",\"moscow\",\"military\",\"civil\",\"service\",\"returned\",\"abroad\",\"educated\",\"nod\",\"accorded\",\"lowest\",\"hierarchy\",\"spite\",\"grade\",\"look\",\"anxiety\",\"fear\",\"unsuited\",\"place\",\"pierre\",\"enter\",\"certainly\",\"rather\",\"bigger\",\"reference\",\"shy\",\"observant\",\"distinguished\",\"monsieur\",\"exchanging\",\"alarmed\",\"glance\",\"murmured\",\"unintelligible\",\"search\",\"acquaintance\",\"alarm\",\"justified\",\"hear\",\"speech\",\"dismay\",\"detained\",\"yes\",\"scheme\",\"perpetual\",\"hardly\",\"feasible\",\"rejoined\",\"attend\",\"duties\",\"committed\",\"reverse\",\"act\",\"impoliteness\",\"finished\",\"speaking\",\"bent\",\"big\",\"feet\",\"apart\",\"explaining\",\"reasons\",\"thinking\",\"plan\",\"chimerical\",\"later\",\"got\",\"rid\",\"behave\",\"resumed\",\"watch\",\"point\",\"might\",\"happen\",\"flag\",\"foreman\",\"spinning\",\"mill\",\"hands\",\"notices\",\"spindle\",\"stopped\",\"creaks\",\"makes\",\"noise\",\"hastens\",\"machine\",\"proper\",\"motion\",\"moved\"],\"x\":[0.17384092509746552,0.07477565109729767,-2.3148012161254883,0.8145934343338013,-1.4278780221939087,-0.30369001626968384,-1.3837764263153076,-0.1065545529127121,0.24407199025154114,0.0070106456987559795,0.38906049728393555,-1.3787941932678223,-2.5080666542053223,-0.875735878944397,-1.3406057357788086,0.044082608073949814,-0.6158153414726257,-1.029208779335022,-1.1041879653930664,-0.05292576551437378,-0.4484322667121887,0.29975780844688416,-0.026271523907780647,0.02648329734802246,0.49151867628097534,-1.5156432390213013,0.09880750626325607,0.6428350806236267,-0.1835094690322876,-0.11698610335588455,-0.024948423728346825,-0.73971027135849,-1.6568851470947266,2.361515522003174,-1.1710419654846191,-1.816336989402771,2.106940269470215,-0.2596804201602936,-0.5427963733673096,0.21100212633609772,-0.6732200980186462,-0.904617190361023,-0.5858391523361206,-0.3644520044326782,0.827322781085968,-0.3915596008300781,-1.7582758665084839,-1.725538969039917,-1.1176308393478394,0.7153433561325073,0.15361140668392181,-0.46840596199035645,-1.9392715692520142,0.1909867823123932,-1.7723655700683594,-1.4228345155715942,-0.9593563675880432,0.23324735462665558,-2.4748218059539795,-0.3933280408382416,-1.1867989301681519,-0.599288284778595,-0.46749523282051086,-0.5273237228393555,-0.5311614871025085,-0.5178443193435669,-1.3698590993881226,-0.5210723280906677,-0.48465248942375183,-0.4863088130950928,-0.14795297384262085,-0.4657491147518158,0.275984525680542,-0.6036530137062073,0.47719037532806396,-0.817520797252655,-0.08005590736865997,0.5361596345901489,2.218240737915039,-1.8479961156845093,1.4209601879119873,0.8181746006011963,0.37896528840065,-0.6331508755683899,0.9958789944648743,-1.0424257516860962,-0.22478266060352325,-0.12287607789039612,0.5796872973442078,0.14573591947555542,-2.7297022342681885,-2.849830389022827,-2.909545660018921,-2.9258174896240234,-2.969665765762329,-2.9198765754699707,-3.006784200668335,-2.966632843017578,-2.9031403064727783,0.23681820929050446,0.6892081499099731,0.029569394886493683,0.20593085885047913,1.8638511896133423,0.16796283423900604,0.46855857968330383,0.9334018230438232,0.8738792538642883,0.13351085782051086,-0.11604931950569153,-2.620732069015503,-2.9368014335632324,-0.03578956797719002,-2.850161075592041,-2.8184974193573,-0.4761139750480652,0.6225504279136658,-0.6487525105476379,-0.34529444575309753,0.2909408509731293,-2.572021007537842,0.6657611727714539,-1.6326403617858887,-0.4766833186149597,0.9057701230049133,0.7829088568687439,0.41325125098228455,-0.7279385924339294,-0.2197694033384323,0.3214091658592224,0.5593433976173401,-0.5623035430908203,-0.9045446515083313,-2.1406679153442383,1.6287851333618164,0.47950658202171326,0.4017382562160492,0.07138679921627045,0.1549539417028427,-0.030750682577490807,-0.16942660510540009,-0.4507026970386505,0.3749139606952667,-0.519165575504303,1.6870696544647217,1.015987753868103,0.6063691973686218,-0.4678320586681366,0.5144883990287781,-0.7744787335395813,1.8559783697128296,-1.096021056175232,2.147524833679199,-0.683556079864502,0.728921115398407,1.9347959756851196,0.10022906959056854,2.0171005725860596,1.6475038528442383,-0.31089743971824646,1.8324319124221802,1.6409721374511719,-0.028331326320767403,-0.5126746892929077,-1.8807640075683594,-0.2307235449552536,-2.35927414894104,0.9219958186149597,0.3497335612773895,-2.3141233921051025,-1.020196557044983,1.4683868885040283,1.1266337633132935,-1.3289132118225098,-0.10223253071308136,-0.8100121021270752,-0.6306262016296387,-1.1640007495880127,1.8058147430419922,-0.686397910118103,-0.25391724705696106,-0.6608520746231079,0.5996097922325134,-0.7257673740386963,-1.8036909103393555,-1.684159755706787,1.329623818397522,1.2281564474105835,1.3754230737686157,2.1784486770629883,-0.25379258394241333,1.3665837049484253,0.3616785705089569,0.05027979984879494,0.25847509503364563,0.7956904768943787,-0.0278132576495409,-0.2628561854362488,0.26417508721351624,1.2441070079803467,1.0684410333633423,0.049918826669454575,0.1938355416059494,0.5422465205192566,0.17692476511001587,-1.6652016639709473,0.003762747859582305,-0.9439431428909302,1.8234593868255615,-0.04953264817595482,1.941657543182373,1.3818565607070923,0.36351704597473145,0.9361569285392761,-0.9991049766540527,-1.9927268028259277,2.5101006031036377,0.368598610162735,-0.7321184873580933,-1.4752918481826782,2.5011556148529053,1.3789252042770386,2.8742709159851074,-1.196411371231079,2.6319007873535156,1.6232153177261353,-1.080568790435791,-2.2297446727752686,0.6052796244621277,0.4339403212070465,1.7989224195480347,0.5329559445381165,-2.1628968715667725,-2.595339775085449,-0.75351482629776,-1.6749281883239746,1.1033124923706055,2.7724530696868896,2.433051109313965,1.2316396236419678,-1.874336838722229,0.15818823873996735,1.5532264709472656,-0.682736337184906,1.2047666311264038,1.800241231918335,1.976458191871643,0.4373651146888733,-0.2772822678089142,-0.12782545387744904,0.8675714731216431,2.970414638519287,-0.6696744561195374,0.7473322749137878,-0.42447027564048767,1.2212754487991333,1.0328565835952759,-0.3369225859642029,2.1838693618774414,0.36243128776550293,1.6169756650924683,0.4980534017086029,1.4148269891738892,-1.2645537853240967,-0.6178333163261414,1.6498855352401733,1.0018471479415894,-1.0433751344680786,0.23923276364803314,1.6852912902832031,0.8522509932518005,-0.17626169323921204,-0.2731846570968628,-0.01313228253275156,0.751297116279602,-0.15172751247882843,-0.6996381282806396,0.8253267407417297,0.389126181602478,0.4539491534233093,0.587800145149231,0.843788743019104,-0.1395251303911209,1.2973324060440063,0.06356535106897354,0.8864489197731018,-0.09232856333255768,0.10886133462190628,0.4669398367404938,0.5966858267784119,-0.7336944937705994,-1.0004692077636719,-0.2882496416568756,0.47979679703712463,0.9021245241165161,1.27920663356781,1.603692650794983,0.7377573847770691,0.636425793170929,0.23444919288158417,0.26185351610183716,0.14100337028503418,-0.39666444063186646,-0.9276101589202881,0.5470046401023865,0.30246174335479736,-0.5181388854980469,0.49879100918769836,0.6360014081001282,0.015284983441233635,-0.5123549103736877,-0.8339370489120483,1.6520614624023438,0.1610036939382553,-0.6541841626167297,0.1676931530237198,-0.673448920249939,-2.4046339988708496,-1.1112732887268066,-0.9088740348815918,2.634363889694214,-0.20017153024673462,-1.0462658405303955,-0.7712083458900452,-1.3971500396728516,-0.46451738476753235,-0.5670093894004822,1.5383402109146118,-0.8228447437286377,-0.9477524757385254,-0.4313291311264038,1.162462592124939,0.9296277165412903,0.9074987173080444,0.3317123353481293,2.853212594985962,-0.2923855483531952,0.1529572308063507,-2.107790231704712,2.913520097732544,0.10941676050424576,0.7656330466270447,2.878540515899658,2.556297779083252,-0.30250945687294006,-0.21440450847148895,-0.2675761580467224,1.9577264785766602,0.7421897649765015,-0.909504234790802,-0.04289413243532181,1.3955929279327393,0.18562360107898712,0.42736613750457764,1.3115516901016235,1.7373790740966797,-1.617278814315796,0.5813763737678528,2.0227065086364746,0.6807008981704712,0.4812234938144684,-2.0425057411193848,0.0037732631899416447,0.5594324469566345,-0.0448848120868206,0.21203839778900146,-0.11794745177030563,-2.1424577236175537,0.03622313216328621,0.10916023701429367,-1.9209938049316406,0.829271674156189,-0.5308038592338562,0.8318979740142822,-0.26750820875167847,-0.05585082247853279,-0.7947822213172913,0.04306994006037712,-0.14705854654312134,0.40144234895706177,-0.9408152103424072,-0.1294747292995453,-1.7002825736999512,0.11081606149673462,-0.7683427333831787,-1.2906302213668823,0.5477861762046814,0.5861310958862305,-2.3127942085266113,-0.4482863247394562,-1.2415735721588135,-0.492515504360199,-0.5541919469833374,-0.18174871802330017,0.06864147633314133,-0.2333676517009735,-0.8944310545921326,0.6782194375991821,0.37972700595855713,-1.4227513074874878,-1.4051249027252197,-1.448111653327942,0.1368471086025238,-0.4242323637008667,-1.8981462717056274,1.5713602304458618,-1.2401032447814941,1.2684860229492188,-0.22686101496219635,1.0531476736068726,0.9956220388412476,0.2455989271402359,-0.12750868499279022,0.015921708196401596,-0.08430420607328415,-1.4436036348342896,0.7820963859558105,0.702180027961731,-0.1560976356267929,1.3377344608306885,-0.9603895545005798,2.5268354415893555,0.7184286117553711,-0.39756110310554504,-1.7673075199127197,0.8847361207008362,-0.1355002373456955,-2.44301176071167,1.945790410041809,-0.6289991736412048,0.5886732935905457,-0.7516545057296753,0.2920913100242615,-0.5607479214668274,-0.21872170269489288,-1.6175618171691895,-2.5870256423950195,-1.289190649986267,1.3014695644378662,-1.4928897619247437,-1.7696887254714966,2.0849404335021973,-1.1415700912475586,1.052763819694519,1.9740135669708252,2.579026222229004,0.2881423234939575,0.17825011909008026,1.0714789628982544,1.4029479026794434,1.6533348560333252,-1.0414270162582397,-0.6703153252601624,0.12895187735557556,-0.743760347366333,-0.40581071376800537,0.4408414363861084,0.6928531527519226,1.4079625606536865,0.199689581990242,0.29215875267982483,1.8982691764831543,1.063779354095459,0.5566676259040833,-0.9094056487083435,-1.2117879390716553,1.7284795045852661,-1.6985455751419067,2.3194847106933594,0.2783587872982025,2.374871253967285,-0.7050043344497681,-0.649247407913208,-1.7035295963287354,2.48974609375,0.6018156409263611,-1.7793853282928467,-1.1676039695739746,-1.0227253437042236,1.8656933307647705,1.4024364948272705,-1.1387978792190552,1.109200119972229,1.0190467834472656,1.1509277820587158,0.7440252304077148,-2.4077529907226562,-0.16260935366153717,1.2150923013687134,0.5001499652862549,-1.271914005279541,1.5610312223434448,1.2738178968429565,-1.419539213180542,-0.8715110421180725,-0.918529212474823,-1.4461370706558228,0.6117673516273499,0.8562456965446472,-0.9545846581459045,0.8347234129905701,0.5843878388404846,-0.7693475484848022,-1.1368080377578735,1.050264835357666,-0.9477217793464661,1.6794698238372803,2.779562473297119,0.3244604170322418,0.47126516699790955,-0.07984457910060883,0.05167846009135246,1.0619922876358032,0.9628827571868896,1.6192742586135864,-0.16972430050373077,-1.0256531238555908,-1.151774287223816,-1.254844069480896,0.925838828086853,-0.7905791997909546,-1.69037926197052,-0.34224236011505127,-0.27040359377861023,-0.23732109367847443,-0.6413636207580566,-0.279559463262558,1.504982590675354,-0.5675669312477112,-1.9092038869857788,-0.32115790247917175,1.356850028038025,0.2902338206768036,-2.6272220611572266,-0.201165571808815,1.190479040145874,1.5295674800872803,2.2329459190368652,-0.2611948251724243,-0.8673883676528931,-0.02910374104976654,0.3731478750705719,-1.0635136365890503,1.870971441268921,-0.07242657989263535,0.25810736417770386,0.22090354561805725,0.8280646204948425,-0.5265709757804871,0.8048359155654907,1.1136324405670166,0.9384004473686218,1.784482479095459,-0.8379565477371216,2.288731098175049,1.0514767169952393,0.4504992961883545,-0.43781328201293945,1.849999189376831,-0.21562014520168304,1.311577558517456,0.4094664454460144,1.927424430847168,-0.050964854657649994,-0.34085917472839355,1.842922568321228,0.3803604543209076,0.595513641834259,1.5639199018478394,-0.66875821352005,-1.219489336013794,-2.1429362297058105,-1.621970534324646,0.16089347004890442,-0.4303417205810547,-0.5128666162490845,1.849185585975647,0.5389974117279053,1.5737229585647583,1.9565564393997192,1.556107759475708,2.6609091758728027,0.026127828285098076,-0.3333049714565277,0.42659032344818115,2.5506644248962402,2.550678253173828,0.5274143218994141,-1.86501944065094,0.3942210376262665,-1.757839322090149,0.4494999349117279,1.867347240447998,0.28972095251083374,0.8707014918327332,0.6254751682281494,0.601769745349884,0.038240958005189896,-0.9957751631736755,0.26159149408340454,2.0516936779022217,2.655880928039551,0.9710394144058228,1.189121961593628,2.2781364917755127,-0.41330817341804504,-0.10557472705841064,-1.7803921699523926,2.2610023021698,-1.5347377061843872,1.9587844610214233,0.01652309112250805,-0.055316660553216934,-1.5278260707855225,-1.0087367296218872,-0.23905518651008606,1.7520356178283691,-0.4418047368526459,-1.486858606338501,2.984037399291992,-0.011402205564081669,-2.064087152481079,0.38197091221809387,1.8411755561828613,-1.4064674377441406,0.6073718070983887,-1.575169563293457,1.5100935697555542,2.313563823699951,-1.4457921981811523,0.5183364748954773,-0.24681885540485382,0.33688533306121826,0.8209012746810913,1.4040489196777344,-0.9872716069221497,0.6864721179008484,2.8099091053009033,1.8438953161239624,0.5580530166625977,0.11029180884361267,1.6766059398651123,-1.4795281887054443,0.4928604066371918,0.47603943943977356,-0.012108894996345043,-0.2748434543609619,0.05793320760130882,1.0296785831451416,1.0826106071472168,0.9268232583999634,0.509830117225647,-1.0280557870864868,-0.8129221200942993,-1.9074385166168213,1.1165542602539062,-1.4516922235488892,0.9350294470787048,0.6878274083137512,2.267378091812134,0.9405691623687744,0.4350016415119171,-2.3433120250701904,0.7511968612670898,-0.08240990340709686,-2.3702337741851807,-1.3402127027511597,-0.7879288196563721,0.6845500469207764,0.38571634888648987,-1.4903740882873535,0.003698124550282955,-0.7371602654457092,-1.9959027767181396,1.9394017457962036,0.6638172268867493,-1.1352890729904175,-0.15433749556541443,2.302981376647949,0.7713029980659485,-0.35541513562202454,-0.05244622007012367,-0.6525397896766663,-0.46617361903190613,0.6726623177528381,0.12239181250333786,0.8363131284713745,0.31072890758514404,2.31955885887146,0.79701828956604,1.780906319618225,1.2758727073669434,0.5229324698448181,-0.44113680720329285,-1.1714478731155396,2.044755458831787,0.9133950471878052,-0.29748645424842834,0.32119864225387573,1.431613564491272,-1.343735933303833,0.036776937544345856,-0.11226294189691544,0.9103534817695618,-0.8749030232429504,0.4407508969306946,-0.1666680872440338,-0.6739307641983032,-0.537903904914856,-0.8070281744003296,1.4845285415649414,1.1504873037338257,-0.25242865085601807,1.2281352281570435,-0.22565385699272156,2.566490411758423,-0.0831039622426033,-0.2567633390426636,-1.0396407842636108,1.2863531112670898,0.15437306463718414,-0.9697337746620178,0.6672461032867432,-0.503939688205719,-1.1117455959320068,1.53058922290802,-1.3556439876556396,-2.4066598415374756,-1.9352490901947021,0.9875159859657288,-1.3350940942764282,-0.4536009132862091,-1.3178235292434692,-1.4363365173339844,-0.7710505723953247,0.5280439257621765,1.770274043083191,1.7731246948242188,0.9466234445571899,-0.6233159303665161,0.6357747912406921,-0.5404110550880432,-0.9193030595779419,-1.9525645971298218,0.9596848487854004,0.1516759842634201,-0.41667640209198,-0.3656720817089081,-0.4822123646736145,-1.3045188188552856,0.4120536744594574,-1.0704548358917236,-0.28343522548675537,-0.9563837051391602,1.5097379684448242,1.3224833011627197,-2.2720108032226562,-0.7593278288841248,-0.5836499929428101,1.7004317045211792,0.6776099801063538,0.10172483325004578,0.1604764312505722,1.796400785446167,-0.3614945411682129,-1.5928113460540771,-0.5267841815948486,0.6122187376022339,-0.14682309329509735,0.030218198895454407,-0.19975876808166504,1.8544551134109497,-0.2259514331817627,2.3815479278564453,0.24217082560062408,-1.4924687147140503,0.6995972394943237,-0.5746647715568542,-0.5746634602546692,1.5459734201431274,0.7594731450080872,1.990380048751831,0.7896112203598022,0.32270801067352295,-1.6682803630828857,2.306002616882324,0.626672625541687,0.5862715840339661,1.271362066268921,-0.4905703663825989,2.626079797744751,1.5443776845932007,0.5047958493232727,0.42798179388046265,-1.9520046710968018,1.1767048835754395,0.8718287348747253,-1.2505195140838623,-0.9032622575759888,0.3453224003314972,2.301636219024658,-0.20158669352531433,-1.7931816577911377,2.9494447708129883,-0.7803824543952942,-0.8129097819328308,0.4245695173740387,-0.9620576500892639,2.1018989086151123,-2.463304281234741,-0.5234251022338867,-0.4936515688896179,1.3700687885284424,-1.8465526103973389,-0.055754076689481735,0.025077085942029953,1.3057490587234497,0.5009910464286804,-0.5895147323608398,-1.0179654359817505,0.9268172383308411,-0.5939784646034241,-1.118160367012024,-0.8461246490478516,2.2592973709106445,-0.277176171541214,-0.01420933660119772,-0.14454805850982666,0.12454143911600113,0.4289533197879791,0.12349037826061249,0.47572600841522217,-1.032221794128418,-1.3045871257781982,1.3523834943771362,1.4183297157287598,1.6825958490371704,0.9845061898231506,-1.027284026145935,0.3765694499015808,1.7938646078109741,-0.8138284087181091,-0.9745878577232361,-0.0025393678806722164,3.0386950969696045,-0.3105066418647766,1.4020137786865234,1.1913233995437622,1.2718757390975952,0.7796010375022888,0.603513240814209,2.566772699356079,0.5792055726051331,1.032293677330017,1.6430355310440063,-1.034166693687439,-1.6606659889221191,1.8079200983047485,0.44234853982925415,0.7681379914283752,-1.1709614992141724,2.248556137084961,-0.022378381341695786,-0.01675216294825077,-0.27034395933151245,-1.1493556499481201,-1.8057518005371094,0.43036088347435,-2.3646702766418457,0.6857582330703735,0.8030318021774292,2.596944808959961,-0.09724349528551102,-0.39626023173332214,-1.7086493968963623,-0.7005555033683777,-0.8699163198471069,0.31902360916137695,-1.2163782119750977,-0.03272319212555885,-0.2568010687828064,2.3847806453704834,2.763200283050537,-1.4440033435821533,-0.1063697338104248,0.7303341627120972,0.5623034238815308,-0.31406423449516296,0.07526815682649612,1.078966498374939,0.881930947303772,0.012032749131321907,0.44348493218421936,-2.0011606216430664,0.023139826953411102,1.0086311101913452,-0.5598627924919128,-0.14995218813419342,-0.8822312355041504,2.611314296722412,-0.9411808252334595,2.098803758621216,-0.5489723682403564,-1.488511562347412,0.6349151134490967,-1.9249234199523926,2.445241689682007,1.205278754234314,-0.1514117419719696,0.4645429849624634,0.41300246119499207,1.489941954612732,-1.8105491399765015,-0.5582689642906189,-0.6416618824005127,1.5051337480545044,-0.0006556382868438959,-2.6568965911865234,1.8911715745925903,0.42227718234062195,-0.08988490700721741,-1.133959412574768,1.309915542602539,-0.21899811923503876,0.48025286197662354,1.90632963180542,0.1870296150445938,-0.6534980535507202,-0.7644426822662354,1.7103382349014282,0.5319845080375671,0.4670909643173218,-0.6368931531906128,-0.5624294877052307,-2.381140947341919,0.3660784661769867,-0.5541039705276489,-1.6749262809753418,1.046532154083252,1.8162519931793213,1.642783761024475,2.940732479095459,2.0574841499328613,0.7795226573944092,0.09608077257871628,-1.5331236124038696,1.7072776556015015,1.0302172899246216,0.5866047143936157,-0.6203937530517578,0.9220991134643555,1.0172618627548218,0.5391528606414795,0.164448082447052,-0.78355473279953,-0.17425863444805145,0.8358072638511658,2.1306796073913574,0.7689758539199829,-2.241422653198242,0.5554758310317993,-1.6507134437561035,0.24692806601524353,-0.14014388620853424,1.396916389465332,1.7050317525863647,-1.691923975944519,-1.4781944751739502,-0.06045721843838692,-0.5678442716598511,1.3521027565002441,-0.4773934781551361,1.2206729650497437,0.3559841215610504,-1.4216127395629883,-0.22929111123085022,0.74503093957901,0.4354105591773987,1.2364243268966675,2.0333480834960938,-0.027469035238027573,1.1767091751098633,0.11483200639486313,0.9422224760055542,-0.981425940990448,-0.34908294677734375,-1.7208247184753418,-0.680319607257843,2.517232656478882,-0.8801460266113281,0.6985070109367371,1.735093593597412,-0.11276905983686447,-0.030436836183071136,0.35978829860687256,1.5948737859725952,-1.2666679620742798,-0.4855353534221649,-1.0860729217529297,1.3447424173355103],\"y\":[-0.2354477047920227,0.29662346839904785,-1.3967801332473755,0.13815024495124817,-0.04255722835659981,-0.31573569774627686,-0.6623079180717468,-2.7737185955047607,-0.16313160955905914,-1.413106083869934,-0.7282198071479797,0.7809709310531616,-0.14016716182231903,0.33105164766311646,0.042663171887397766,-1.6451637744903564,0.11248330771923065,-1.7394822835922241,-2.539965867996216,-0.13201308250427246,-2.7288095951080322,0.3530598282814026,0.5256612300872803,-0.36550474166870117,-1.1192827224731445,1.0517584085464478,-0.13665883243083954,-2.8183226585388184,2.016132116317749,-0.13600851595401764,-2.692887544631958,0.0075444928370416164,-0.1996450126171112,-1.0576215982437134,-1.779099464416504,2.8124725818634033,-0.2302539199590683,-1.7872611284255981,0.9610999226570129,0.5734445452690125,0.6320425868034363,1.3296093940734863,1.5467909574508667,2.0020291805267334,-1.207074761390686,1.859334111213684,0.20422692596912384,0.7593373656272888,-1.1058193445205688,0.568174421787262,-1.0890032052993774,0.02210121415555477,0.5594984889030457,-0.059222474694252014,-2.041017532348633,-2.1535208225250244,-2.288151264190674,0.63526451587677,0.4663637578487396,-0.7237420082092285,-0.15491273999214172,0.28758084774017334,1.2748243808746338,3.43888258934021,3.4631118774414062,3.427205801010132,1.739936113357544,3.461824893951416,3.421523094177246,3.322601795196533,2.6243302822113037,2.771833896636963,2.684044361114502,2.6594343185424805,2.5954370498657227,0.15386180579662323,1.1049994230270386,0.9729663133621216,-0.49425145983695984,-1.9201563596725464,0.4521539509296417,1.1233117580413818,1.6962517499923706,0.6026853322982788,0.8372704982757568,1.7952944040298462,1.7538814544677734,2.0898892879486084,1.592307448387146,-2.848621368408203,1.5017340183258057,1.5512001514434814,1.5874603986740112,1.5862305164337158,1.614596962928772,1.5815941095352173,1.640438199043274,1.6218960285186768,1.5500341653823853,0.3704606592655182,0.22388681769371033,0.8985148072242737,0.5738832354545593,-1.3175393342971802,1.329446792602539,-2.1316421031951904,1.153925895690918,0.3692622184753418,-0.3661731481552124,1.1293867826461792,1.0397008657455444,1.582208514213562,-1.8959784507751465,1.4674510955810547,1.4668675661087036,0.3714751899242401,0.5865233540534973,0.6627312898635864,-0.251592755317688,-2.3696892261505127,0.22928985953330994,-1.212842345237732,-0.08427682518959045,0.5326777696609497,0.11943706125020981,0.0005399733199737966,-0.16758868098258972,-0.1253224015235901,0.13072219491004944,-0.18542830646038055,0.368629515171051,0.6479970812797546,-0.5856764316558838,-1.5525622367858887,-0.34460029006004333,-0.7354921102523804,-0.621368408203125,-0.5301592350006104,-0.07849134504795074,-0.6545629501342773,-0.8697865605354309,-0.5121012330055237,0.27151691913604736,0.44716542959213257,-0.43452388048171997,0.992645263671875,-0.154152512550354,1.787247657775879,-1.7172672748565674,1.2403888702392578,-2.311286449432373,-2.353698968887329,-0.6624677777290344,-1.2933664321899414,-0.4262506365776062,-0.8239401578903198,-1.9893651008605957,-2.3624043464660645,-0.23630526661872864,-1.4086408615112305,1.0518395900726318,-2.443263053894043,2.092097520828247,-0.5848187208175659,0.48925966024398804,0.6193435788154602,0.22485049068927765,0.8625668883323669,-2.19639253616333,-0.4802829623222351,1.9988290071487427,0.08711417764425278,-2.383084297180176,0.7509679794311523,0.8885596394538879,0.723936915397644,-1.5386662483215332,0.9004554748535156,-2.3435611724853516,1.3526813983917236,0.8249335289001465,-2.705754041671753,-0.4339332580566406,-0.5122660994529724,2.8401939868927,0.701062023639679,0.16110584139823914,1.5180277824401855,1.217634677886963,-1.908205270767212,1.8423678874969482,1.4861334562301636,-0.429944783449173,-0.3277174234390259,-0.9898457527160645,-0.7740182280540466,0.9252594709396362,2.007481575012207,-0.2939499020576477,-1.7965385913848877,-0.9034569263458252,-0.06483151763677597,-0.9371781349182129,0.5964857339859009,-0.41633594036102295,-1.343069314956665,-1.703589677810669,0.35342684388160706,0.10388290882110596,-0.5364021062850952,-0.12230195105075836,1.315281629562378,1.6838091611862183,1.9943915605545044,0.5108422636985779,-1.0332176685333252,1.717280387878418,2.0965797901153564,1.0774155855178833,0.3221522271633148,1.7842259407043457,-1.5822540521621704,-0.9004960656166077,0.4400807321071625,0.24088478088378906,0.13139933347702026,-1.6196646690368652,-0.7726100087165833,-0.41247084736824036,-0.13249854743480682,-0.03493579104542732,0.055989962071180344,-0.5660476088523865,-0.639729917049408,0.8889697194099426,-0.14127250015735626,1.1381906270980835,0.20105373859405518,1.6721349954605103,2.1844193935394287,1.3496196269989014,1.7695950269699097,1.934093713760376,0.9816306829452515,1.174013376235962,1.831068754196167,1.8691821098327637,-0.5249581933021545,-0.4496751129627228,0.21519525349140167,-1.5505645275115967,-1.0039303302764893,0.5443559885025024,-1.5185800790786743,-2.449378490447998,-1.4003273248672485,-0.7494504451751709,-0.04224849492311478,-1.3008991479873657,-0.4474739134311676,1.0158233642578125,-0.17227329313755035,-1.1471821069717407,1.8897826671600342,0.6805819272994995,-1.3448821306228638,0.45090705156326294,0.46660783886909485,-0.49620211124420166,0.7848128080368042,-1.8771668672561646,1.8974502086639404,1.9808262586593628,-0.11987438797950745,1.5906254053115845,0.9380103349685669,-1.918200135231018,0.884921669960022,0.478915274143219,0.19786322116851807,-0.44351649284362793,-0.9413970708847046,0.9035353064537048,-0.617008626461029,-0.6847957372665405,-0.7570813298225403,-0.8494812250137329,-0.2944225072860718,-0.55307936668396,0.9670038223266602,0.13051094114780426,-0.9004582762718201,-0.8233943581581116,-0.4835895001888275,-0.9347883462905884,-0.19741599261760712,-0.05276365578174591,0.23760062456130981,0.4679068922996521,-0.3881276547908783,-1.1071304082870483,-0.18704676628112793,0.34945350885391235,-0.4871499836444855,-0.8058545589447021,2.081395387649536,1.1565004587173462,0.5085325241088867,0.29292309284210205,-0.33065399527549744,-1.203450322151184,-1.0854206085205078,-0.7638117671012878,1.1231179237365723,-0.04920182749629021,-0.6887994408607483,-0.503960371017456,1.155706763267517,2.12194561958313,-1.3112528324127197,0.8021883368492126,-0.4268467128276825,-1.020466685295105,2.4101507663726807,0.20221459865570068,-0.9444998502731323,0.14698299765586853,-1.2367533445358276,2.446199417114258,-0.7135015726089478,0.16397283971309662,-0.6340331435203552,-1.5761040449142456,-0.3143905997276306,2.2093191146850586,-0.7343847751617432,-0.2679019272327423,-0.11869682371616364,-0.5617822408676147,0.28525739908218384,1.5886304378509521,3.2135612964630127,0.584228515625,-1.0368050336837769,-0.8127201795578003,-1.2102184295654297,-0.26283422112464905,-1.657067060470581,-0.8459412455558777,0.13396207988262177,-0.3541833162307739,-0.4065355062484741,-0.332065612077713,-0.8859187364578247,0.947965681552887,-0.6270993947982788,-0.5355196595191956,-1.5741965770721436,0.17249669134616852,-0.34945228695869446,-0.4235982894897461,-1.2860465049743652,-0.41186705231666565,-0.8365393280982971,-0.41355428099632263,-1.018963098526001,-0.1975669264793396,-0.42276185750961304,-0.37843114137649536,-0.17211763560771942,-0.0958767756819725,-0.026582052931189537,-0.28401046991348267,-0.9390862584114075,-0.43071070313453674,-0.6816026568412781,-0.9693894386291504,-0.17362163960933685,0.4942130744457245,0.2507082223892212,0.09928789734840393,-2.1561193466186523,0.2100016325712204,-0.7284910678863525,-0.4173663854598999,-1.021860122680664,0.23992887139320374,0.4567748010158539,0.045155759900808334,-0.7971510291099548,0.5023793578147888,-0.074868343770504,-0.6766212582588196,-0.01937047392129898,-0.6824483871459961,-1.734977126121521,0.7400730848312378,-0.38822975754737854,-1.1263604164123535,0.5160816311836243,-0.7200677394866943,-0.7155473232269287,-0.3745156526565552,-1.901011347770691,0.1290232390165329,-1.8114235401153564,-0.6034321188926697,0.10104680061340332,-1.5063143968582153,-2.3080852031707764,-0.41524001955986023,0.020176468417048454,-0.02765106037259102,-0.8685263395309448,-1.3242273330688477,-1.860079050064087,-0.9821076393127441,1.0206621885299683,-0.35144415497779846,-0.6968451738357544,-0.8818732500076294,-0.1498706191778183,-0.21266038715839386,-0.3865879774093628,-0.25652065873146057,-0.23645465075969696,0.2694895565509796,-0.9593989849090576,-0.25667476654052734,-1.2955814599990845,-1.6978124380111694,0.3936616778373718,-0.2126288115978241,-1.5481852293014526,-0.37646761536598206,1.3359991312026978,-0.6512941122055054,0.11108371615409851,-1.702146291732788,-0.7319092154502869,0.5888882875442505,-0.6718963980674744,-0.9533405303955078,-0.4821191430091858,0.34756138920783997,0.0951731950044632,-1.74709153175354,-0.3824990689754486,1.260501742362976,-0.13038796186447144,-0.026514694094657898,0.7184620499610901,0.39440682530403137,-1.0074764490127563,-1.5912550687789917,-2.3351378440856934,0.47719213366508484,1.9550888538360596,-0.5714748501777649,1.1180126667022705,0.15338703989982605,0.2621684968471527,-0.4708136022090912,-2.6861157417297363,-0.26645538210868835,0.656158447265625,-1.6121653318405151,1.072594165802002,-1.2389261722564697,1.4678319692611694,-0.9124100804328918,0.208168625831604,-0.2291892021894455,0.29553064703941345,1.2038967609405518,-0.322616845369339,-0.13182424008846283,0.8351210951805115,-1.3128756284713745,-0.5334984064102173,-1.5945751667022705,-0.8587645888328552,0.9794303178787231,0.5838195085525513,-1.1571382284164429,0.6182253360748291,-0.053041618317365646,-0.8735063076019287,0.5888113379478455,-0.609714686870575,0.8523063659667969,0.19744724035263062,-1.160587191581726,0.591468334197998,-0.402877539396286,2.385364294052124,1.7576264142990112,-2.7404258251190186,-0.09527125209569931,-1.0970481634140015,0.5197799205780029,1.110787272453308,-1.7931311130523682,-0.17198948562145233,-0.9150195121765137,0.19816148281097412,1.3831573724746704,0.25141653418540955,-1.252250075340271,-0.46001383662223816,0.06334055215120316,-1.3215467929840088,-1.1045504808425903,-0.40026432275772095,0.09920673072338104,-1.4649772644042969,-0.619687557220459,-1.4948146343231201,1.6406792402267456,2.377866744995117,-2.3523783683776855,-1.146741509437561,-0.7179707288742065,0.5514543652534485,-2.1749770641326904,0.295377254486084,0.35894879698753357,0.3919176757335663,0.6135123372077942,0.4332689344882965,-0.6820595860481262,-0.1001126691699028,-0.06557079404592514,-0.4722335636615753,0.11765949428081512,0.802168071269989,-0.6075596809387207,0.5535920262336731,-0.08479727059602737,-0.9842220544815063,-0.5905510783195496,-1.9884880781173706,-0.9804640412330627,-1.8058708906173706,-0.7072818279266357,-0.03233356773853302,0.014466261491179466,-1.0536237955093384,0.13273946940898895,0.9495280385017395,-2.1321051120758057,-2.311225652694702,-0.8037987351417542,-0.4132959842681885,0.6508619785308838,-0.7119688391685486,-1.7061771154403687,-0.40471917390823364,0.20698508620262146,0.5703551173210144,-1.523704171180725,1.3895235061645508,-0.7860432267189026,-2.1630396842956543,-1.5412389039993286,0.4173021912574768,0.4053593873977661,-1.7443363666534424,0.2054300755262375,-0.9572351574897766,-0.3486393690109253,0.49769508838653564,-1.693801999092102,0.9358949065208435,-0.08550555258989334,-1.6235188245773315,-2.3726253509521484,-1.5946245193481445,0.07866128534078598,-0.08022651821374893,2.7590672969818115,0.5403679013252258,-1.220107913017273,-0.3179078698158264,-1.0039145946502686,0.21306517720222473,-0.05540568381547928,-0.1239982470870018,0.3172588050365448,-0.014686530455946922,-1.1402369737625122,-0.7226048111915588,-0.1569296270608902,-0.38965898752212524,-0.5664936304092407,-0.06797774136066437,-0.7077006101608276,-1.8334506750106812,-0.771729052066803,-1.2209728956222534,0.1781362146139145,-0.3908868730068207,0.9815735220909119,-1.402253270149231,0.7225365042686462,0.40922704339027405,-1.169394612312317,-0.6896790266036987,1.09963059425354,-1.386102557182312,-2.3741233348846436,0.5634614825248718,-0.505596935749054,-0.6099511384963989,-0.05816712602972984,0.010635278187692165,1.3597365617752075,0.8365891575813293,-0.3751421868801117,0.37788125872612,-2.418598175048828,-1.137818455696106,-0.9781449437141418,-0.6413769721984863,-1.4476803541183472,-0.6981548070907593,0.8566054105758667,-0.6313074827194214,0.6039043068885803,-2.266528844833374,-0.38091644644737244,1.0177395343780518,-0.1170407235622406,-0.8934865593910217,0.9317440390586853,-0.937431812286377,-1.0986562967300415,-1.1336119174957275,-1.0961577892303467,-0.6047590970993042,-0.8303507566452026,0.08580343425273895,-0.5186246037483215,-1.7479560375213623,-1.6219849586486816,-1.2370864152908325,-0.25740134716033936,-1.472278356552124,-1.6497207880020142,-2.2605974674224854,-2.414809226989746,-2.426255226135254,-2.314807176589966,-1.8270798921585083,-0.6683264970779419,-0.09125249832868576,0.1593729704618454,-2.1535160541534424,-1.7206225395202637,-0.7364230751991272,-1.114670753479004,-0.12340860068798065,-0.8372452259063721,-0.7237365245819092,-2.812401533126831,0.7005364894866943,2.031187057495117,2.1062889099121094,0.9910397529602051,0.02862437069416046,-1.4349442720413208,0.2932216227054596,-2.2873682975769043,-0.7825565338134766,-2.1347315311431885,0.7607033848762512,0.2959369421005249,-0.35823744535446167,-0.324070006608963,-1.4619982242584229,-1.0666742324829102,0.715855062007904,-1.285660743713379,-1.6233816146850586,-0.0382656529545784,-2.0897817611694336,0.5967691540718079,-1.0350035429000854,-1.114905834197998,-0.10004415363073349,-2.3292808532714844,-0.27837151288986206,1.1655596494674683,-0.42250674962997437,1.0414202213287354,-1.1986297369003296,-1.2722711563110352,-1.8980523347854614,-0.43927666544914246,0.29541999101638794,1.4877339601516724,-1.9767590761184692,-0.14814384281635284,-0.39232808351516724,-0.08691779524087906,-0.17556416988372803,-1.2124147415161133,-0.8345926403999329,-1.3732316493988037,-0.05828971788287163,2.6892178058624268,1.7260316610336304,1.7115397453308105,1.8638979196548462,0.8581358790397644,0.7540165781974792,0.1097642108798027,0.5886951684951782,0.41884928941726685,-0.4859941303730011,-0.3540198802947998,-1.786620020866394,1.865633487701416,-1.6848173141479492,-2.3038721084594727,1.4382684230804443,-0.055653564631938934,0.37568697333335876,0.6853971481323242,1.939503788948059,-0.22816607356071472,-0.7197350263595581,-0.07322748005390167,-0.20777475833892822,-0.28248950839042664,2.2592599391937256,0.3822896182537079,-2.407968521118164,1.9084267616271973,1.6835359334945679,-2.9333434104919434,0.37710440158843994,-1.4925129413604736,-1.6584668159484863,0.3214418292045593,-0.0810035839676857,-0.608186662197113,0.6344315409660339,1.574552059173584,-1.5345590114593506,0.4038338363170624,0.7595794796943665,-2.5669400691986084,1.0089046955108643,-0.1934565305709839,1.117545247077942,1.2186862230300903,-1.4610061645507812,-1.0669411420822144,0.5069271326065063,0.6346381902694702,-1.3146790266036987,-2.796006917953491,1.0106327533721924,-0.838459849357605,1.364446759223938,-0.2995954751968384,1.3250129222869873,0.8951565623283386,-0.00895406398922205,-1.9957866668701172,0.6167693138122559,1.5851740837097168,1.15397310256958,-2.060973644256592,1.1584120988845825,1.0168379545211792,-2.6275792121887207,-2.0693936347961426,-0.3449714183807373,-0.5235595703125,0.28264370560646057,-2.118992567062378,1.0615707635879517,-0.9576202034950256,-1.761985421180725,-0.8185199499130249,-0.5236369371414185,-0.7093695998191833,0.246278777718544,-0.43336382508277893,-1.8152788877487183,0.3694611191749573,0.9978638887405396,-1.4937169551849365,0.4512674808502197,1.2140294313430786,-0.010894328355789185,0.9079421162605286,2.3957364559173584,1.7345201969146729,0.3899197578430176,1.3301784992218018,0.7459266185760498,-0.9378784894943237,1.5353763103485107,-2.3511149883270264,1.1559957265853882,1.261262059211731,0.007302618119865656,0.32940956950187683,0.19521334767341614,1.4611647129058838,1.1364871263504028,-0.7016453146934509,-0.9169575572013855,0.5245909094810486,0.8647719025611877,0.698279082775116,0.6767287850379944,-0.31196558475494385,-0.5427737832069397,-0.03767770156264305,-0.4876800775527954,0.37513282895088196,-0.24311548471450806,-0.8137785792350769,0.05141673982143402,1.300323724746704,-1.5839816331863403,0.08772953599691391,0.8321334719657898,1.750616192817688,1.6599211692810059,0.05886460840702057,-1.0503071546554565,0.3165299892425537,0.6834121942520142,1.0094566345214844,0.2836257219314575,1.2254104614257812,1.1524261236190796,-0.24185743927955627,-1.401664137840271,-0.4448365867137909,1.2770395278930664,2.069060802459717,-2.510394334793091,1.6073006391525269,2.0786967277526855,0.5819341540336609,1.7942159175872803,2.298893690109253,1.6963564157485962,1.6994365453720093,1.01912522315979,0.9539612531661987,-1.5889711380004883,-0.7858024835586548,3.2252957820892334,1.417249321937561,0.42755264043807983,-0.1899489164352417,-0.9198700189590454,-0.019278015941381454,-0.7987955808639526,2.8279354572296143,-0.7343020439147949,-0.16683326661586761,-2.976581573486328,1.4743691682815552,1.8659757375717163,-0.07735691964626312,1.4479894638061523,1.371178388595581,-0.4688381850719452,1.835575819015503,1.091806411743164,0.5373895764350891,0.719942569732666,0.5029593110084534,-1.3570388555526733,-1.027174711227417,0.8027707934379578,-0.8485405445098877,0.14158327877521515,0.5799279808998108,0.8426059484481812,-1.3269604444503784,0.6264580488204956,-0.6395912170410156,0.6923474669456482,1.578250527381897,-1.8732085227966309,1.2251423597335815,1.6773179769515991,0.5919942855834961,1.080037236213684,1.0850260257720947,-0.04593650996685028,0.36985287070274353,1.187697410583496,1.4468293190002441,-2.165980815887451,1.6005017757415771,-0.9611287117004395,-0.689140260219574,-2.010272264480591,2.0927348136901855,-1.6885931491851807,0.534820556640625,-2.3626387119293213,-0.08618719130754471,0.6117738485336304,-0.46830999851226807,0.6753849387168884,-0.23390884697437286,-0.025549205020070076,1.4323409795761108,-1.0201940536499023,-0.014068185351788998,-0.897171139717102,-1.3421728610992432,1.0386109352111816,-0.10074621438980103,-1.6364078521728516,-0.48481619358062744,0.13227899372577667,0.5520598292350769,-2.1455442905426025,0.5395185947418213,-0.6080963015556335,-0.1183074563741684,-0.7973685264587402,-1.0216753482818604,-0.7669041752815247,-0.018616575747728348,0.13037075102329254,-0.9809394478797913,-1.2129102945327759,-0.9648541808128357,0.11233741044998169,0.11158288270235062,-0.7548573613166809,-0.179289311170578,-1.473466157913208,-1.0855426788330078,-1.3745919466018677,0.16957882046699524,-1.9613375663757324,-2.555997371673584,0.14257478713989258,-0.5553348660469055,-1.2946228981018066,-2.5800418853759766,-0.619850218296051,-0.9324218034744263,0.17916733026504517,0.520538866519928,-1.315266728401184,-0.1511141061782837,-2.099738359451294,-0.38838857412338257,-0.8002879619598389,1.9551292657852173,-0.0334707573056221,-1.777202844619751,-2.449099540710449,1.4474072456359863,0.15105029940605164,-0.9247714877128601,-1.529799461364746,-0.4206464886665344,-0.6550837159156799,-0.35348132252693176,0.7416570782661438,1.0504084825515747,-0.7348537445068359,0.5931698083877563,0.40109017491340637,1.58397376537323,-0.5362503528594971,-0.2649681270122528,-0.34207531809806824,0.7716372013092041,-0.8899780511856079,1.6888878345489502,1.6013765335083008,1.7707182168960571,-0.18570838868618011,0.33381617069244385,0.8253803849220276,-0.5244854688644409,-0.008077157661318779,0.8863212466239929,1.0293598175048828,-0.8648083806037903,0.2432876080274582,0.1878829002380371,1.5071827173233032],\"type\":\"scatter\"}],                        {\"template\":{\"data\":{\"histogram2dcontour\":[{\"type\":\"histogram2dcontour\",\"colorbar\":{\"outlinewidth\":0,\"ticks\":\"\"},\"colorscale\":[[0.0,\"#0d0887\"],[0.1111111111111111,\"#46039f\"],[0.2222222222222222,\"#7201a8\"],[0.3333333333333333,\"#9c179e\"],[0.4444444444444444,\"#bd3786\"],[0.5555555555555556,\"#d8576b\"],[0.6666666666666666,\"#ed7953\"],[0.7777777777777778,\"#fb9f3a\"],[0.8888888888888888,\"#fdca26\"],[1.0,\"#f0f921\"]]}],\"choropleth\":[{\"type\":\"choropleth\",\"colorbar\":{\"outlinewidth\":0,\"ticks\":\"\"}}],\"histogram2d\":[{\"type\":\"histogram2d\",\"colorbar\":{\"outlinewidth\":0,\"ticks\":\"\"},\"colorscale\":[[0.0,\"#0d0887\"],[0.1111111111111111,\"#46039f\"],[0.2222222222222222,\"#7201a8\"],[0.3333333333333333,\"#9c179e\"],[0.4444444444444444,\"#bd3786\"],[0.5555555555555556,\"#d8576b\"],[0.6666666666666666,\"#ed7953\"],[0.7777777777777778,\"#fb9f3a\"],[0.8888888888888888,\"#fdca26\"],[1.0,\"#f0f921\"]]}],\"heatmap\":[{\"type\":\"heatmap\",\"colorbar\":{\"outlinewidth\":0,\"ticks\":\"\"},\"colorscale\":[[0.0,\"#0d0887\"],[0.1111111111111111,\"#46039f\"],[0.2222222222222222,\"#7201a8\"],[0.3333333333333333,\"#9c179e\"],[0.4444444444444444,\"#bd3786\"],[0.5555555555555556,\"#d8576b\"],[0.6666666666666666,\"#ed7953\"],[0.7777777777777778,\"#fb9f3a\"],[0.8888888888888888,\"#fdca26\"],[1.0,\"#f0f921\"]]}],\"heatmapgl\":[{\"type\":\"heatmapgl\",\"colorbar\":{\"outlinewidth\":0,\"ticks\":\"\"},\"colorscale\":[[0.0,\"#0d0887\"],[0.1111111111111111,\"#46039f\"],[0.2222222222222222,\"#7201a8\"],[0.3333333333333333,\"#9c179e\"],[0.4444444444444444,\"#bd3786\"],[0.5555555555555556,\"#d8576b\"],[0.6666666666666666,\"#ed7953\"],[0.7777777777777778,\"#fb9f3a\"],[0.8888888888888888,\"#fdca26\"],[1.0,\"#f0f921\"]]}],\"contourcarpet\":[{\"type\":\"contourcarpet\",\"colorbar\":{\"outlinewidth\":0,\"ticks\":\"\"}}],\"contour\":[{\"type\":\"contour\",\"colorbar\":{\"outlinewidth\":0,\"ticks\":\"\"},\"colorscale\":[[0.0,\"#0d0887\"],[0.1111111111111111,\"#46039f\"],[0.2222222222222222,\"#7201a8\"],[0.3333333333333333,\"#9c179e\"],[0.4444444444444444,\"#bd3786\"],[0.5555555555555556,\"#d8576b\"],[0.6666666666666666,\"#ed7953\"],[0.7777777777777778,\"#fb9f3a\"],[0.8888888888888888,\"#fdca26\"],[1.0,\"#f0f921\"]]}],\"surface\":[{\"type\":\"surface\",\"colorbar\":{\"outlinewidth\":0,\"ticks\":\"\"},\"colorscale\":[[0.0,\"#0d0887\"],[0.1111111111111111,\"#46039f\"],[0.2222222222222222,\"#7201a8\"],[0.3333333333333333,\"#9c179e\"],[0.4444444444444444,\"#bd3786\"],[0.5555555555555556,\"#d8576b\"],[0.6666666666666666,\"#ed7953\"],[0.7777777777777778,\"#fb9f3a\"],[0.8888888888888888,\"#fdca26\"],[1.0,\"#f0f921\"]]}],\"mesh3d\":[{\"type\":\"mesh3d\",\"colorbar\":{\"outlinewidth\":0,\"ticks\":\"\"}}],\"scatter\":[{\"fillpattern\":{\"fillmode\":\"overlay\",\"size\":10,\"solidity\":0.2},\"type\":\"scatter\"}],\"parcoords\":[{\"type\":\"parcoords\",\"line\":{\"colorbar\":{\"outlinewidth\":0,\"ticks\":\"\"}}}],\"scatterpolargl\":[{\"type\":\"scatterpolargl\",\"marker\":{\"colorbar\":{\"outlinewidth\":0,\"ticks\":\"\"}}}],\"bar\":[{\"error_x\":{\"color\":\"#2a3f5f\"},\"error_y\":{\"color\":\"#2a3f5f\"},\"marker\":{\"line\":{\"color\":\"#E5ECF6\",\"width\":0.5},\"pattern\":{\"fillmode\":\"overlay\",\"size\":10,\"solidity\":0.2}},\"type\":\"bar\"}],\"scattergeo\":[{\"type\":\"scattergeo\",\"marker\":{\"colorbar\":{\"outlinewidth\":0,\"ticks\":\"\"}}}],\"scatterpolar\":[{\"type\":\"scatterpolar\",\"marker\":{\"colorbar\":{\"outlinewidth\":0,\"ticks\":\"\"}}}],\"histogram\":[{\"marker\":{\"pattern\":{\"fillmode\":\"overlay\",\"size\":10,\"solidity\":0.2}},\"type\":\"histogram\"}],\"scattergl\":[{\"type\":\"scattergl\",\"marker\":{\"colorbar\":{\"outlinewidth\":0,\"ticks\":\"\"}}}],\"scatter3d\":[{\"type\":\"scatter3d\",\"line\":{\"colorbar\":{\"outlinewidth\":0,\"ticks\":\"\"}},\"marker\":{\"colorbar\":{\"outlinewidth\":0,\"ticks\":\"\"}}}],\"scattermapbox\":[{\"type\":\"scattermapbox\",\"marker\":{\"colorbar\":{\"outlinewidth\":0,\"ticks\":\"\"}}}],\"scatterternary\":[{\"type\":\"scatterternary\",\"marker\":{\"colorbar\":{\"outlinewidth\":0,\"ticks\":\"\"}}}],\"scattercarpet\":[{\"type\":\"scattercarpet\",\"marker\":{\"colorbar\":{\"outlinewidth\":0,\"ticks\":\"\"}}}],\"carpet\":[{\"aaxis\":{\"endlinecolor\":\"#2a3f5f\",\"gridcolor\":\"white\",\"linecolor\":\"white\",\"minorgridcolor\":\"white\",\"startlinecolor\":\"#2a3f5f\"},\"baxis\":{\"endlinecolor\":\"#2a3f5f\",\"gridcolor\":\"white\",\"linecolor\":\"white\",\"minorgridcolor\":\"white\",\"startlinecolor\":\"#2a3f5f\"},\"type\":\"carpet\"}],\"table\":[{\"cells\":{\"fill\":{\"color\":\"#EBF0F8\"},\"line\":{\"color\":\"white\"}},\"header\":{\"fill\":{\"color\":\"#C8D4E3\"},\"line\":{\"color\":\"white\"}},\"type\":\"table\"}],\"barpolar\":[{\"marker\":{\"line\":{\"color\":\"#E5ECF6\",\"width\":0.5},\"pattern\":{\"fillmode\":\"overlay\",\"size\":10,\"solidity\":0.2}},\"type\":\"barpolar\"}],\"pie\":[{\"automargin\":true,\"type\":\"pie\"}]},\"layout\":{\"autotypenumbers\":\"strict\",\"colorway\":[\"#636efa\",\"#EF553B\",\"#00cc96\",\"#ab63fa\",\"#FFA15A\",\"#19d3f3\",\"#FF6692\",\"#B6E880\",\"#FF97FF\",\"#FECB52\"],\"font\":{\"color\":\"#2a3f5f\"},\"hovermode\":\"closest\",\"hoverlabel\":{\"align\":\"left\"},\"paper_bgcolor\":\"white\",\"plot_bgcolor\":\"#E5ECF6\",\"polar\":{\"bgcolor\":\"#E5ECF6\",\"angularaxis\":{\"gridcolor\":\"white\",\"linecolor\":\"white\",\"ticks\":\"\"},\"radialaxis\":{\"gridcolor\":\"white\",\"linecolor\":\"white\",\"ticks\":\"\"}},\"ternary\":{\"bgcolor\":\"#E5ECF6\",\"aaxis\":{\"gridcolor\":\"white\",\"linecolor\":\"white\",\"ticks\":\"\"},\"baxis\":{\"gridcolor\":\"white\",\"linecolor\":\"white\",\"ticks\":\"\"},\"caxis\":{\"gridcolor\":\"white\",\"linecolor\":\"white\",\"ticks\":\"\"}},\"coloraxis\":{\"colorbar\":{\"outlinewidth\":0,\"ticks\":\"\"}},\"colorscale\":{\"sequential\":[[0.0,\"#0d0887\"],[0.1111111111111111,\"#46039f\"],[0.2222222222222222,\"#7201a8\"],[0.3333333333333333,\"#9c179e\"],[0.4444444444444444,\"#bd3786\"],[0.5555555555555556,\"#d8576b\"],[0.6666666666666666,\"#ed7953\"],[0.7777777777777778,\"#fb9f3a\"],[0.8888888888888888,\"#fdca26\"],[1.0,\"#f0f921\"]],\"sequentialminus\":[[0.0,\"#0d0887\"],[0.1111111111111111,\"#46039f\"],[0.2222222222222222,\"#7201a8\"],[0.3333333333333333,\"#9c179e\"],[0.4444444444444444,\"#bd3786\"],[0.5555555555555556,\"#d8576b\"],[0.6666666666666666,\"#ed7953\"],[0.7777777777777778,\"#fb9f3a\"],[0.8888888888888888,\"#fdca26\"],[1.0,\"#f0f921\"]],\"diverging\":[[0,\"#8e0152\"],[0.1,\"#c51b7d\"],[0.2,\"#de77ae\"],[0.3,\"#f1b6da\"],[0.4,\"#fde0ef\"],[0.5,\"#f7f7f7\"],[0.6,\"#e6f5d0\"],[0.7,\"#b8e186\"],[0.8,\"#7fbc41\"],[0.9,\"#4d9221\"],[1,\"#276419\"]]},\"xaxis\":{\"gridcolor\":\"white\",\"linecolor\":\"white\",\"ticks\":\"\",\"title\":{\"standoff\":15},\"zerolinecolor\":\"white\",\"automargin\":true,\"zerolinewidth\":2},\"yaxis\":{\"gridcolor\":\"white\",\"linecolor\":\"white\",\"ticks\":\"\",\"title\":{\"standoff\":15},\"zerolinecolor\":\"white\",\"automargin\":true,\"zerolinewidth\":2},\"scene\":{\"xaxis\":{\"backgroundcolor\":\"#E5ECF6\",\"gridcolor\":\"white\",\"linecolor\":\"white\",\"showbackground\":true,\"ticks\":\"\",\"zerolinecolor\":\"white\",\"gridwidth\":2},\"yaxis\":{\"backgroundcolor\":\"#E5ECF6\",\"gridcolor\":\"white\",\"linecolor\":\"white\",\"showbackground\":true,\"ticks\":\"\",\"zerolinecolor\":\"white\",\"gridwidth\":2},\"zaxis\":{\"backgroundcolor\":\"#E5ECF6\",\"gridcolor\":\"white\",\"linecolor\":\"white\",\"showbackground\":true,\"ticks\":\"\",\"zerolinecolor\":\"white\",\"gridwidth\":2}},\"shapedefaults\":{\"line\":{\"color\":\"#2a3f5f\"}},\"annotationdefaults\":{\"arrowcolor\":\"#2a3f5f\",\"arrowhead\":0,\"arrowwidth\":1},\"geo\":{\"bgcolor\":\"white\",\"landcolor\":\"#E5ECF6\",\"subunitcolor\":\"white\",\"showland\":true,\"showlakes\":true,\"lakecolor\":\"white\"},\"title\":{\"x\":0.05},\"mapbox\":{\"style\":\"light\"}}}},                        {\"responsive\": true}                    ).then(function(){\n",
              "                            \n",
              "var gd = document.getElementById('204fdb78-5577-4c3c-a312-7c7ca845578f');\n",
              "var x = new MutationObserver(function (mutations, observer) {{\n",
              "        var display = window.getComputedStyle(gd).display;\n",
              "        if (!display || display === 'none') {{\n",
              "            console.log([gd, 'removed!']);\n",
              "            Plotly.purge(gd);\n",
              "            observer.disconnect();\n",
              "        }}\n",
              "}});\n",
              "\n",
              "// Listen for the removal of the full notebook cells\n",
              "var notebookContainer = gd.closest('#notebook-container');\n",
              "if (notebookContainer) {{\n",
              "    x.observe(notebookContainer, {childList: true});\n",
              "}}\n",
              "\n",
              "// Listen for the clearing of the current output cell\n",
              "var outputEl = gd.closest('.output');\n",
              "if (outputEl) {{\n",
              "    x.observe(outputEl, {childList: true});\n",
              "}}\n",
              "\n",
              "                        })                };                            </script>        </div>\n",
              "</body>\n",
              "</html>"
            ]
          },
          "metadata": {}
        }
      ],
      "source": [
        "import numpy as np\n",
        "import pandas as pd\n",
        "import torch\n",
        "import sys\n",
        "\n",
        "from sklearn.manifold import TSNE\n",
        "import plotly.graph_objects as go\n",
        "\n",
        "tsne = TSNE() #create TSNE\n",
        "embeddings = model.embedding.weight[:1000].detach().cpu().numpy() #get embeddings by detaching weights of embedding layer (use only first 1000 words)\n",
        "#TODO create TSNE plot to visualize the relationship between our vectors\n",
        "tsne_result = tsne.fit_transform(embeddings)\n",
        "words = list(word_to_index.keys())[:1000]\n",
        "fig = go.Figure(data=go.Scatter(\n",
        "    x=tsne_result[:, 0],\n",
        "    y=tsne_result[:, 1],\n",
        "    mode='markers',\n",
        "    text=words,\n",
        "    hoverinfo='text'\n",
        "))\n",
        "fig.show()"
      ]
    },
    {
      "cell_type": "markdown",
      "source": [
        "Since the TSNE isn't shown when the notebook is downloaded, here is the link to the colab notebook: https://colab.research.google.com/drive/1XYeae49NiC2tTs9r7uO_5RMj8aqw5Hw9?usp=sharing \\\\\n",
        "p.s: you can hover your mouse over each point to see the word"
      ],
      "metadata": {
        "id": "Jaq21Ua4FgY0"
      }
    }
  ],
  "metadata": {
    "accelerator": "GPU",
    "colab": {
      "gpuType": "T4",
      "provenance": []
    },
    "kernelspec": {
      "display_name": "comp6781",
      "language": "python",
      "name": "python3"
    },
    "language_info": {
      "codemirror_mode": {
        "name": "ipython",
        "version": 3
      },
      "file_extension": ".py",
      "mimetype": "text/x-python",
      "name": "python",
      "nbconvert_exporter": "python",
      "pygments_lexer": "ipython3",
      "version": "3.10.11"
    }
  },
  "nbformat": 4,
  "nbformat_minor": 0
}